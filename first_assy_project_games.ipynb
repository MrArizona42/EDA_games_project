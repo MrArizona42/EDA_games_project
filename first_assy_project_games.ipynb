{
 "cells": [
  {
   "cell_type": "markdown",
   "metadata": {
    "id": "wAHw5rfpVwU8"
   },
   "source": [
    "## Описание проекта"
   ]
  },
  {
   "cell_type": "markdown",
   "metadata": {
    "id": "uXAQB8FdiEtC"
   },
   "source": [
    "Вы работаете в интернет-магазине «Стримчик», который продаёт по всему миру компьютерные игры. Из открытых источников доступны исторические данные о продажах игр, оценки пользователей и экспертов, жанры и платформы (например, Xbox или PlayStation). Вам нужно выявить определяющие успешность игры закономерности. Это позволит сделать ставку на потенциально популярный продукт и спланировать рекламные кампании.\n",
    "    \n",
    "Перед вами данные до 2016 года. Представим, что сейчас декабрь 2016 г., и вы планируете кампанию на 2017-й. Нужно отработать принцип работы с данными. Неважно, прогнозируете ли вы продажи на 2017 год по данным 2016-го или же 2027-й — по данным 2026 года.\n",
    "    \n",
    "В наборе данных попадается аббревиатура ESRB (Entertainment Software Rating Board) — это ассоциация, определяющая возрастной рейтинг компьютерных игр. ESRB оценивает игровой контент и присваивает ему подходящую возрастную категорию, например, «Для взрослых», «Для детей младшего возраста» или «Для подростков»."
   ]
  },
  {
   "cell_type": "markdown",
   "metadata": {
    "id": "uWA9p6k_iMpC"
   },
   "source": [
    "## Инструкция по выполнению проекта"
   ]
  },
  {
   "cell_type": "markdown",
   "metadata": {
    "id": "dmWEWxMUjTz7"
   },
   "source": [
    "### Шаг 2. Подготовьте данные"
   ]
  },
  {
   "cell_type": "markdown",
   "metadata": {
    "id": "Vwgpuzc2iiQF"
   },
   "source": [
    "* Замените названия столбцов (приведите к нижнему регистру);\n",
    "* Преобразуйте данные в нужные типы. Опишите, в каких столбцах заменили тип данных и почему;\n",
    "* Обработайте пропуски при необходимости:\n",
    "* Объясните, почему заполнили пропуски определённым образом или почему не стали это делать;\n",
    "* Опишите причины, которые могли привести к пропускам;\n",
    "* Обратите внимание на аббревиатуру 'tbd' в столбце с оценкой пользователей. Отдельно разберите это значение и опишите, как его обработать;\n",
    "* Посчитайте суммарные продажи во всех регионах и запишите их в отдельный столбец."
   ]
  },
  {
   "cell_type": "markdown",
   "metadata": {
    "id": "04Kj7OfCjQm2"
   },
   "source": [
    "### Шаг 3. Проведите исследовательский анализ данных"
   ]
  },
  {
   "cell_type": "markdown",
   "metadata": {
    "id": "iiOWBC57ikeH"
   },
   "source": [
    "* Посмотрите, сколько игр выпускалось в разные годы. Важны ли данные за все периоды?\n",
    "* Посмотрите, как менялись продажи по платформам. Выберите платформы с наибольшими суммарными продажами и постройте распределение по годам. За какой характерный срок появляются новые и исчезают старые платформы?\n",
    "* Возьмите данные за соответствующий актуальный период. Актуальный период определите самостоятельно в результате исследования предыдущих вопросов. Основной фактор — эти данные помогут построить прогноз на 2017 год.\n",
    "Не учитывайте в работе данные за предыдущие годы.\n",
    "* Какие платформы лидируют по продажам, растут или падают? Выберите несколько потенциально прибыльных платформ.\n",
    "* Постройте график «ящик с усами» по глобальным продажам игр в разбивке по платформам. Опишите результат.\n",
    "* Посмотрите, как влияют на продажи внутри одной популярной платформы отзывы пользователей и критиков. Постройте диаграмму рассеяния и посчитайте корреляцию между отзывами и продажами. Сформулируйте выводы.\n",
    "* Соотнесите выводы с продажами игр на других платформах.\n",
    "* Посмотрите на общее распределение игр по жанрам. Что можно сказать о самых прибыльных жанрах? Выделяются ли жанры с высокими и низкими продажами?"
   ]
  },
  {
   "cell_type": "markdown",
   "metadata": {
    "id": "xxUYiI9jjKfa"
   },
   "source": [
    "### Шаг 4. Составьте портрет пользователя каждого региона"
   ]
  },
  {
   "cell_type": "markdown",
   "metadata": {
    "id": "0bkCkhJdjAph"
   },
   "source": [
    "Определите для пользователя каждого региона (NA, EU, JP):\n",
    "* Самые популярные платформы (топ-5). Опишите различия в долях продаж.\n",
    "* Самые популярные жанры (топ-5). Поясните разницу.\n",
    "* Влияет ли рейтинг ESRB на продажи в отдельном регионе?"
   ]
  },
  {
   "cell_type": "markdown",
   "metadata": {
    "id": "Xej3mjvOjXoW"
   },
   "source": [
    "### Шаг 5. Проверьте гипотезы"
   ]
  },
  {
   "cell_type": "markdown",
   "metadata": {
    "id": "1g7nG0myjXrD"
   },
   "source": [
    "* Средние пользовательские рейтинги платформ Xbox One и PC одинаковые;\n",
    "* Средние пользовательские рейтинги жанров Action и Sports разные.\n",
    "* Задайте самостоятельно пороговое значение alpha.\n",
    "Поясните:\n",
    "** Как вы сформулировали нулевую и альтернативную гипотезы;\n",
    "** Какой критерий применили для проверки гипотез и почему."
   ]
  },
  {
   "cell_type": "markdown",
   "metadata": {
    "id": "nQ3iubIUjAsZ"
   },
   "source": [
    "### Шаг 6. Напишите общий вывод"
   ]
  },
  {
   "cell_type": "markdown",
   "metadata": {
    "id": "EgIQO5OVY6jY"
   },
   "source": [
    "### Описание данных\n",
    "* Name — название игры\n",
    "* Platform — платформа\n",
    "* Year_of_Release — год выпуска\n",
    "* Genre — жанр игры\n",
    "* NA_sales — продажи в Северной Америке (миллионы проданных копий)\n",
    "* EU_sales — продажи в Европе (миллионы проданных копий)\n",
    "* JP_sales — продажи в Японии (миллионы проданных копий)\n",
    "* Other_sales — продажи в других странах (миллионы проданных копий)\n",
    "* Critic_Score — оценка критиков (максимум 100)\n",
    "* User_Score — оценка пользователей (максимум 10)\n",
    "* Rating — рейтинг от организации ESRB (англ. Entertainment Software Rating Board). Эта ассоциация определяет рейтинг компьютерных игр и присваивает им подходящую возрастную категорию.\n",
    "\n",
    "Данные за 2016 год могут быть неполными."
   ]
  },
  {
   "cell_type": "markdown",
   "metadata": {},
   "source": [
    "<div class=\"alert-success\"> \n",
    "<b>Комментарий ревьюера 👍</b>\n",
    "\n",
    "Здорово, что проект начат со вступления"
   ]
  },
  {
   "cell_type": "markdown",
   "metadata": {
    "id": "RKimH_doZCmL"
   },
   "source": [
    "## Импорт данных, общая информация"
   ]
  },
  {
   "cell_type": "code",
   "execution_count": 1,
   "metadata": {
    "colab": {
     "base_uri": "https://localhost:8080/"
    },
    "id": "OgR_dtfbZCr1",
    "outputId": "d31612eb-e6dd-4c96-f7c0-013f5c5f8cb5"
   },
   "outputs": [],
   "source": [
    "# from google.colab import drive\n",
    "# drive.mount('/content/drive')"
   ]
  },
  {
   "cell_type": "code",
   "execution_count": 2,
   "metadata": {
    "id": "VB7RPLMYZsin"
   },
   "outputs": [],
   "source": [
    "import pandas as pd\n",
    "pd.set_option('display.max_rows', 200)\n",
    "pd.set_option('display.max_columns', 50)\n",
    "\n",
    "import matplotlib.pyplot as plt\n",
    "\n",
    "import numpy as np\n",
    "\n",
    "import seaborn as sns\n",
    "\n",
    "from scipy import stats as st"
   ]
  },
  {
   "cell_type": "code",
   "execution_count": 3,
   "metadata": {
    "id": "SpgznbNBZvwD"
   },
   "outputs": [],
   "source": [
    "try:\n",
    "    data = pd.read_csv('/datasets/games.csv')\n",
    "except:\n",
    "    data = pd.read_csv('/content/drive/My Drive/data_base/games.csv')"
   ]
  },
  {
   "cell_type": "markdown",
   "metadata": {},
   "source": [
    "<div class=\"alert-success\"> \n",
    "<b>Комментарий ревьюера 👍</b> \n",
    "    \n",
    "Хвалю за использование конструкции try-except"
   ]
  },
  {
   "cell_type": "code",
   "execution_count": 4,
   "metadata": {
    "id": "69KQ3rHMnfrt"
   },
   "outputs": [],
   "source": [
    "# Переименуем сразу столбцы\n",
    "data.columns = data.columns.str.lower()"
   ]
  },
  {
   "cell_type": "markdown",
   "metadata": {},
   "source": [
    "<div class=\"alert-success\"> \n",
    "<b>Комментарий ревьюера 👍 </b>\n",
    "\n",
    "Хвалю, что используешь str.lower, а не громоздкие неоптимальные конструкции"
   ]
  },
  {
   "cell_type": "code",
   "execution_count": 5,
   "metadata": {
    "colab": {
     "base_uri": "https://localhost:8080/",
     "height": 357
    },
    "id": "8yqR00Ze4GDt",
    "outputId": "ee13efcf-4e87-4a56-a59a-e09bc2a07375"
   },
   "outputs": [
    {
     "data": {
      "text/html": [
       "<div>\n",
       "<style scoped>\n",
       "    .dataframe tbody tr th:only-of-type {\n",
       "        vertical-align: middle;\n",
       "    }\n",
       "\n",
       "    .dataframe tbody tr th {\n",
       "        vertical-align: top;\n",
       "    }\n",
       "\n",
       "    .dataframe thead th {\n",
       "        text-align: right;\n",
       "    }\n",
       "</style>\n",
       "<table border=\"1\" class=\"dataframe\">\n",
       "  <thead>\n",
       "    <tr style=\"text-align: right;\">\n",
       "      <th></th>\n",
       "      <th>name</th>\n",
       "      <th>platform</th>\n",
       "      <th>year_of_release</th>\n",
       "      <th>genre</th>\n",
       "      <th>na_sales</th>\n",
       "      <th>eu_sales</th>\n",
       "      <th>jp_sales</th>\n",
       "      <th>other_sales</th>\n",
       "      <th>critic_score</th>\n",
       "      <th>user_score</th>\n",
       "      <th>rating</th>\n",
       "    </tr>\n",
       "  </thead>\n",
       "  <tbody>\n",
       "    <tr>\n",
       "      <th>0</th>\n",
       "      <td>Wii Sports</td>\n",
       "      <td>Wii</td>\n",
       "      <td>2006.0</td>\n",
       "      <td>Sports</td>\n",
       "      <td>41.36</td>\n",
       "      <td>28.96</td>\n",
       "      <td>3.77</td>\n",
       "      <td>8.45</td>\n",
       "      <td>76.0</td>\n",
       "      <td>8</td>\n",
       "      <td>E</td>\n",
       "    </tr>\n",
       "    <tr>\n",
       "      <th>1</th>\n",
       "      <td>Super Mario Bros.</td>\n",
       "      <td>NES</td>\n",
       "      <td>1985.0</td>\n",
       "      <td>Platform</td>\n",
       "      <td>29.08</td>\n",
       "      <td>3.58</td>\n",
       "      <td>6.81</td>\n",
       "      <td>0.77</td>\n",
       "      <td>NaN</td>\n",
       "      <td>NaN</td>\n",
       "      <td>NaN</td>\n",
       "    </tr>\n",
       "    <tr>\n",
       "      <th>2</th>\n",
       "      <td>Mario Kart Wii</td>\n",
       "      <td>Wii</td>\n",
       "      <td>2008.0</td>\n",
       "      <td>Racing</td>\n",
       "      <td>15.68</td>\n",
       "      <td>12.76</td>\n",
       "      <td>3.79</td>\n",
       "      <td>3.29</td>\n",
       "      <td>82.0</td>\n",
       "      <td>8.3</td>\n",
       "      <td>E</td>\n",
       "    </tr>\n",
       "    <tr>\n",
       "      <th>3</th>\n",
       "      <td>Wii Sports Resort</td>\n",
       "      <td>Wii</td>\n",
       "      <td>2009.0</td>\n",
       "      <td>Sports</td>\n",
       "      <td>15.61</td>\n",
       "      <td>10.93</td>\n",
       "      <td>3.28</td>\n",
       "      <td>2.95</td>\n",
       "      <td>80.0</td>\n",
       "      <td>8</td>\n",
       "      <td>E</td>\n",
       "    </tr>\n",
       "    <tr>\n",
       "      <th>4</th>\n",
       "      <td>Pokemon Red/Pokemon Blue</td>\n",
       "      <td>GB</td>\n",
       "      <td>1996.0</td>\n",
       "      <td>Role-Playing</td>\n",
       "      <td>11.27</td>\n",
       "      <td>8.89</td>\n",
       "      <td>10.22</td>\n",
       "      <td>1.00</td>\n",
       "      <td>NaN</td>\n",
       "      <td>NaN</td>\n",
       "      <td>NaN</td>\n",
       "    </tr>\n",
       "  </tbody>\n",
       "</table>\n",
       "</div>"
      ],
      "text/plain": [
       "                       name platform  year_of_release         genre  na_sales  \\\n",
       "0                Wii Sports      Wii           2006.0        Sports     41.36   \n",
       "1         Super Mario Bros.      NES           1985.0      Platform     29.08   \n",
       "2            Mario Kart Wii      Wii           2008.0        Racing     15.68   \n",
       "3         Wii Sports Resort      Wii           2009.0        Sports     15.61   \n",
       "4  Pokemon Red/Pokemon Blue       GB           1996.0  Role-Playing     11.27   \n",
       "\n",
       "   eu_sales  jp_sales  other_sales  critic_score user_score rating  \n",
       "0     28.96      3.77         8.45          76.0          8      E  \n",
       "1      3.58      6.81         0.77           NaN        NaN    NaN  \n",
       "2     12.76      3.79         3.29          82.0        8.3      E  \n",
       "3     10.93      3.28         2.95          80.0          8      E  \n",
       "4      8.89     10.22         1.00           NaN        NaN    NaN  "
      ]
     },
     "execution_count": 5,
     "metadata": {},
     "output_type": "execute_result"
    }
   ],
   "source": [
    "data.head()"
   ]
  },
  {
   "cell_type": "code",
   "execution_count": 6,
   "metadata": {
    "colab": {
     "base_uri": "https://localhost:8080/"
    },
    "id": "OMPhDDEQaH32",
    "outputId": "5e14c0c8-ac83-4071-b846-00e04c68ac85"
   },
   "outputs": [
    {
     "name": "stdout",
     "output_type": "stream",
     "text": [
      "<class 'pandas.core.frame.DataFrame'>\n",
      "RangeIndex: 16715 entries, 0 to 16714\n",
      "Data columns (total 11 columns):\n",
      " #   Column           Non-Null Count  Dtype  \n",
      "---  ------           --------------  -----  \n",
      " 0   name             16713 non-null  object \n",
      " 1   platform         16715 non-null  object \n",
      " 2   year_of_release  16446 non-null  float64\n",
      " 3   genre            16713 non-null  object \n",
      " 4   na_sales         16715 non-null  float64\n",
      " 5   eu_sales         16715 non-null  float64\n",
      " 6   jp_sales         16715 non-null  float64\n",
      " 7   other_sales      16715 non-null  float64\n",
      " 8   critic_score     8137 non-null   float64\n",
      " 9   user_score       10014 non-null  object \n",
      " 10  rating           9949 non-null   object \n",
      "dtypes: float64(6), object(5)\n",
      "memory usage: 1.4+ MB\n"
     ]
    }
   ],
   "source": [
    "data.info()"
   ]
  },
  {
   "cell_type": "code",
   "execution_count": 7,
   "metadata": {
    "id": "kdNu952vn8n_"
   },
   "outputs": [],
   "source": [
    "# удалим столбец unnamed: 0\n",
    "# data = data.drop(columns = 'unnamed: 0')"
   ]
  },
  {
   "cell_type": "markdown",
   "metadata": {
    "id": "aUsn5xiPor2l"
   },
   "source": [
    "## Предобработка данных"
   ]
  },
  {
   "cell_type": "markdown",
   "metadata": {
    "id": "jKgRv6n4dRhE"
   },
   "source": [
    "### Добавим столбцы"
   ]
  },
  {
   "cell_type": "code",
   "execution_count": 8,
   "metadata": {
    "id": "jhP7J2Ymc6AV"
   },
   "outputs": [],
   "source": [
    "# Добавим колонку с общими продажами\n",
    "data['total_sales'] = data['na_sales'] + data['eu_sales'] + data['jp_sales'] + data['other_sales']"
   ]
  },
  {
   "cell_type": "markdown",
   "metadata": {},
   "source": [
    "<div class=\"alert-success\"> \n",
    "<b>Комментарий ревьюера 👍 </b>\n",
    "    \n",
    "Более изящная конструкция \n",
    "\n",
    "data[['na_sales','eu_sales','jp_sales', 'other_sales']].sum(axis = 1)"
   ]
  },
  {
   "cell_type": "markdown",
   "metadata": {},
   "source": [
    "<div class=\"alert-info\">\n",
    "<b>Комментарий студента </b>\n",
    "\n",
    "Ок, спасибо!"
   ]
  },
  {
   "cell_type": "markdown",
   "metadata": {
    "id": "S6fCs_VIkp6q"
   },
   "source": [
    "### Обработка пропусков"
   ]
  },
  {
   "cell_type": "code",
   "execution_count": 9,
   "metadata": {
    "colab": {
     "base_uri": "https://localhost:8080/",
     "height": 425
    },
    "id": "Wa62krnzkqC1",
    "outputId": "7a5b9b54-8edd-4ec8-a1ee-54b0d78b87f9"
   },
   "outputs": [
    {
     "data": {
      "text/html": [
       "<style  type=\"text/css\" >\n",
       "#T_bf7d7_row0_col0{\n",
       "            background-color:  #b40426;\n",
       "            color:  #f1f1f1;\n",
       "        }#T_bf7d7_row1_col0{\n",
       "            background-color:  #f08a6c;\n",
       "            color:  #000000;\n",
       "        }#T_bf7d7_row2_col0{\n",
       "            background-color:  #f18d6f;\n",
       "            color:  #000000;\n",
       "        }#T_bf7d7_row3_col0{\n",
       "            background-color:  #445acc;\n",
       "            color:  #f1f1f1;\n",
       "        }#T_bf7d7_row4_col0,#T_bf7d7_row5_col0,#T_bf7d7_row6_col0,#T_bf7d7_row7_col0,#T_bf7d7_row8_col0,#T_bf7d7_row9_col0,#T_bf7d7_row10_col0,#T_bf7d7_row11_col0{\n",
       "            background-color:  #3b4cc0;\n",
       "            color:  #f1f1f1;\n",
       "        }</style><table id=\"T_bf7d7_\" ><thead>    <tr>        <th class=\"blank level0\" ></th>        <th class=\"col_heading level0 col0\" >0</th>    </tr></thead><tbody>\n",
       "                <tr>\n",
       "                        <th id=\"T_bf7d7_level0_row0\" class=\"row_heading level0 row0\" >critic_score</th>\n",
       "                        <td id=\"T_bf7d7_row0_col0\" class=\"data row0 col0\" >51.319000</td>\n",
       "            </tr>\n",
       "            <tr>\n",
       "                        <th id=\"T_bf7d7_level0_row1\" class=\"row_heading level0 row1\" >rating</th>\n",
       "                        <td id=\"T_bf7d7_row1_col0\" class=\"data row1 col0\" >40.479000</td>\n",
       "            </tr>\n",
       "            <tr>\n",
       "                        <th id=\"T_bf7d7_level0_row2\" class=\"row_heading level0 row2\" >user_score</th>\n",
       "                        <td id=\"T_bf7d7_row2_col0\" class=\"data row2 col0\" >40.090000</td>\n",
       "            </tr>\n",
       "            <tr>\n",
       "                        <th id=\"T_bf7d7_level0_row3\" class=\"row_heading level0 row3\" >year_of_release</th>\n",
       "                        <td id=\"T_bf7d7_row3_col0\" class=\"data row3 col0\" >1.609000</td>\n",
       "            </tr>\n",
       "            <tr>\n",
       "                        <th id=\"T_bf7d7_level0_row4\" class=\"row_heading level0 row4\" >name</th>\n",
       "                        <td id=\"T_bf7d7_row4_col0\" class=\"data row4 col0\" >0.012000</td>\n",
       "            </tr>\n",
       "            <tr>\n",
       "                        <th id=\"T_bf7d7_level0_row5\" class=\"row_heading level0 row5\" >genre</th>\n",
       "                        <td id=\"T_bf7d7_row5_col0\" class=\"data row5 col0\" >0.012000</td>\n",
       "            </tr>\n",
       "            <tr>\n",
       "                        <th id=\"T_bf7d7_level0_row6\" class=\"row_heading level0 row6\" >platform</th>\n",
       "                        <td id=\"T_bf7d7_row6_col0\" class=\"data row6 col0\" >0.000000</td>\n",
       "            </tr>\n",
       "            <tr>\n",
       "                        <th id=\"T_bf7d7_level0_row7\" class=\"row_heading level0 row7\" >na_sales</th>\n",
       "                        <td id=\"T_bf7d7_row7_col0\" class=\"data row7 col0\" >0.000000</td>\n",
       "            </tr>\n",
       "            <tr>\n",
       "                        <th id=\"T_bf7d7_level0_row8\" class=\"row_heading level0 row8\" >eu_sales</th>\n",
       "                        <td id=\"T_bf7d7_row8_col0\" class=\"data row8 col0\" >0.000000</td>\n",
       "            </tr>\n",
       "            <tr>\n",
       "                        <th id=\"T_bf7d7_level0_row9\" class=\"row_heading level0 row9\" >jp_sales</th>\n",
       "                        <td id=\"T_bf7d7_row9_col0\" class=\"data row9 col0\" >0.000000</td>\n",
       "            </tr>\n",
       "            <tr>\n",
       "                        <th id=\"T_bf7d7_level0_row10\" class=\"row_heading level0 row10\" >other_sales</th>\n",
       "                        <td id=\"T_bf7d7_row10_col0\" class=\"data row10 col0\" >0.000000</td>\n",
       "            </tr>\n",
       "            <tr>\n",
       "                        <th id=\"T_bf7d7_level0_row11\" class=\"row_heading level0 row11\" >total_sales</th>\n",
       "                        <td id=\"T_bf7d7_row11_col0\" class=\"data row11 col0\" >0.000000</td>\n",
       "            </tr>\n",
       "    </tbody></table>"
      ],
      "text/plain": [
       "<pandas.io.formats.style.Styler at 0x7ff4345a1580>"
      ]
     },
     "execution_count": 9,
     "metadata": {},
     "output_type": "execute_result"
    }
   ],
   "source": [
    "round(data.isna().mean()*100,3).sort_values(ascending=False).to_frame().style.background_gradient('coolwarm')"
   ]
  },
  {
   "cell_type": "markdown",
   "metadata": {
    "id": "U0E2a6p-mp4M"
   },
   "source": [
    "Удалим сразу пропуски в `year_of_release`, `name` и `genre`, чтобы не терять на них время, изучая, почему они появились. Их доля все-равно мала. \n",
    "\n",
    "Остальные значения оставим как есть. В столбцах `critic_score`, `rating` и `user_score` пропусков очень мгого, но эту проблему надо решать на более ранниз этапах - сбор, хранение, выгрузка данных. Сейчас я не вижу способа заполнить эти пропуски чем-либо."
   ]
  },
  {
   "cell_type": "code",
   "execution_count": 10,
   "metadata": {
    "id": "tSsbGajOk5gD"
   },
   "outputs": [],
   "source": [
    "data = data.dropna(subset=['year_of_release', 'name', 'genre'])"
   ]
  },
  {
   "cell_type": "markdown",
   "metadata": {},
   "source": [
    "<div class=\"alert-success\"> \n",
    "<b>Комментарий ревьюера 👍</b> \n",
    "\n",
    "Правильно, не стоит бояться удалять неинформативные данные с пропусками, если их совсем мало (но с year спорно)"
   ]
  },
  {
   "cell_type": "markdown",
   "metadata": {
    "id": "j7VLS6SKwU-A"
   },
   "source": [
    "### Изучение аномалий, выбор диапазона актуальных значений"
   ]
  },
  {
   "cell_type": "markdown",
   "metadata": {
    "id": "z3pWPa0FfRD9"
   },
   "source": [
    "#### Аномалии в числовых данных"
   ]
  },
  {
   "cell_type": "markdown",
   "metadata": {
    "id": "o7UvUhsSPzlM"
   },
   "source": [
    "Проверим аномалии в столбцах с числовыми данными: `year_of_release`, `na_sales`, `eu_sales`, `jp_sales`, `other_sales`, `critic_score` и `user_score`."
   ]
  },
  {
   "cell_type": "code",
   "execution_count": 11,
   "metadata": {
    "colab": {
     "base_uri": "https://localhost:8080/",
     "height": 1000
    },
    "id": "t0D7hfzCPGXn",
    "outputId": "ab941dfe-c264-4039-b001-54a3f4e3d877"
   },
   "outputs": [
    {
     "data": {
      "image/png": "[encoded data removed]",
      "text/plain": [
       "<Figure size 720x1080 with 9 Axes>"
      ]
     },
     "metadata": {
      "needs_background": "light"
     },
     "output_type": "display_data"
    }
   ],
   "source": [
    "# Для этого построим гистограмму для всего датафрейма:\n",
    "data.hist(figsize=(10, 15))\n",
    "plt.show()"
   ]
  },
  {
   "cell_type": "markdown",
   "metadata": {
    "id": "nR547YbqQmwD"
   },
   "source": [
    "По гистограмме можно увидель, что отсутствует стобец `user_score`. Проверим подробнее, что там за данные."
   ]
  },
  {
   "cell_type": "markdown",
   "metadata": {
    "id": "TQ1-rwrNwamo"
   },
   "source": [
    "#### Аномалии в `user_score`"
   ]
  },
  {
   "cell_type": "code",
   "execution_count": 12,
   "metadata": {
    "colab": {
     "base_uri": "https://localhost:8080/"
    },
    "id": "LP46CZpywX9S",
    "outputId": "94c9fe88-b5d9-4287-d381-0709b6ea86df"
   },
   "outputs": [
    {
     "data": {
      "text/plain": [
       "array(['0', '0.2', '0.3', '0.5', '0.6', '0.7', '0.9', '1', '1.1', '1.2',\n",
       "       '1.3', '1.4', '1.5', '1.6', '1.7', '1.8', '1.9', '2', '2.1', '2.2',\n",
       "       '2.3', '2.4', '2.5', '2.6', '2.7', '2.8', '2.9', '3', '3.1', '3.2',\n",
       "       '3.3', '3.4', '3.5', '3.6', '3.7', '3.8', '3.9', '4', '4.1', '4.2',\n",
       "       '4.3', '4.4', '4.5', '4.6', '4.7', '4.8', '4.9', '5', '5.1', '5.2',\n",
       "       '5.3', '5.4', '5.5', '5.6', '5.7', '5.8', '5.9', '6', '6.1', '6.2',\n",
       "       '6.3', '6.4', '6.5', '6.6', '6.7', '6.8', '6.9', '7', '7.1', '7.2',\n",
       "       '7.3', '7.4', '7.5', '7.6', '7.7', '7.8', '7.9', '8', '8.1', '8.2',\n",
       "       '8.3', '8.4', '8.5', '8.6', '8.7', '8.8', '8.9', '9', '9.1', '9.2',\n",
       "       '9.3', '9.4', '9.5', '9.6', '9.7', 'tbd', nan], dtype=object)"
      ]
     },
     "execution_count": 12,
     "metadata": {},
     "output_type": "execute_result"
    }
   ],
   "source": [
    "data['user_score'].sort_values().unique()"
   ]
  },
  {
   "cell_type": "markdown",
   "metadata": {
    "id": "1sSVWmChRAwz"
   },
   "source": [
    "Присутвтвует странное значение `tbd`."
   ]
  },
  {
   "cell_type": "code",
   "execution_count": 13,
   "metadata": {
    "colab": {
     "base_uri": "https://localhost:8080/"
    },
    "id": "OdGfqhB6pxIA",
    "outputId": "cd998e87-11e2-42d7-f2be-51183c087599"
   },
   "outputs": [
    {
     "data": {
      "text/plain": [
       "0.14449039163220628"
      ]
     },
     "execution_count": 13,
     "metadata": {},
     "output_type": "execute_result"
    }
   ],
   "source": [
    "(data['user_score'] == 'tbd').mean()"
   ]
  },
  {
   "cell_type": "markdown",
   "metadata": {
    "id": "Wab7R9xMRHj1"
   },
   "source": [
    "`tbd` составляет примерно 14 % от всех данных `user_score`. И это плюсом к 40 % пропусков NaN.\n",
    "\n",
    "Проверим, что за данные хранятся в строках с tbd"
   ]
  },
  {
   "cell_type": "code",
   "execution_count": 14,
   "metadata": {
    "colab": {
     "base_uri": "https://localhost:8080/",
     "height": 391
    },
    "id": "_YjzJ2GfuBz7",
    "outputId": "a8a34fef-e655-4032-90ec-ac9e0e8f02ee"
   },
   "outputs": [
    {
     "data": {
      "text/html": [
       "<div>\n",
       "<style scoped>\n",
       "    .dataframe tbody tr th:only-of-type {\n",
       "        vertical-align: middle;\n",
       "    }\n",
       "\n",
       "    .dataframe tbody tr th {\n",
       "        vertical-align: top;\n",
       "    }\n",
       "\n",
       "    .dataframe thead th {\n",
       "        text-align: right;\n",
       "    }\n",
       "</style>\n",
       "<table border=\"1\" class=\"dataframe\">\n",
       "  <thead>\n",
       "    <tr style=\"text-align: right;\">\n",
       "      <th></th>\n",
       "      <th>name</th>\n",
       "      <th>platform</th>\n",
       "      <th>year_of_release</th>\n",
       "      <th>genre</th>\n",
       "      <th>na_sales</th>\n",
       "      <th>eu_sales</th>\n",
       "      <th>jp_sales</th>\n",
       "      <th>other_sales</th>\n",
       "      <th>critic_score</th>\n",
       "      <th>user_score</th>\n",
       "      <th>rating</th>\n",
       "      <th>total_sales</th>\n",
       "    </tr>\n",
       "  </thead>\n",
       "  <tbody>\n",
       "    <tr>\n",
       "      <th>119</th>\n",
       "      <td>Zumba Fitness</td>\n",
       "      <td>Wii</td>\n",
       "      <td>2010.0</td>\n",
       "      <td>Sports</td>\n",
       "      <td>3.45</td>\n",
       "      <td>2.59</td>\n",
       "      <td>0.0</td>\n",
       "      <td>0.66</td>\n",
       "      <td>NaN</td>\n",
       "      <td>tbd</td>\n",
       "      <td>E</td>\n",
       "      <td>6.70</td>\n",
       "    </tr>\n",
       "    <tr>\n",
       "      <th>301</th>\n",
       "      <td>Namco Museum: 50th Anniversary</td>\n",
       "      <td>PS2</td>\n",
       "      <td>2005.0</td>\n",
       "      <td>Misc</td>\n",
       "      <td>2.08</td>\n",
       "      <td>1.35</td>\n",
       "      <td>0.0</td>\n",
       "      <td>0.54</td>\n",
       "      <td>61.0</td>\n",
       "      <td>tbd</td>\n",
       "      <td>E10+</td>\n",
       "      <td>3.97</td>\n",
       "    </tr>\n",
       "    <tr>\n",
       "      <th>520</th>\n",
       "      <td>Zumba Fitness 2</td>\n",
       "      <td>Wii</td>\n",
       "      <td>2011.0</td>\n",
       "      <td>Sports</td>\n",
       "      <td>1.51</td>\n",
       "      <td>1.03</td>\n",
       "      <td>0.0</td>\n",
       "      <td>0.27</td>\n",
       "      <td>NaN</td>\n",
       "      <td>tbd</td>\n",
       "      <td>T</td>\n",
       "      <td>2.81</td>\n",
       "    </tr>\n",
       "    <tr>\n",
       "      <th>645</th>\n",
       "      <td>uDraw Studio</td>\n",
       "      <td>Wii</td>\n",
       "      <td>2010.0</td>\n",
       "      <td>Misc</td>\n",
       "      <td>1.65</td>\n",
       "      <td>0.57</td>\n",
       "      <td>0.0</td>\n",
       "      <td>0.20</td>\n",
       "      <td>71.0</td>\n",
       "      <td>tbd</td>\n",
       "      <td>E</td>\n",
       "      <td>2.42</td>\n",
       "    </tr>\n",
       "    <tr>\n",
       "      <th>718</th>\n",
       "      <td>Just Dance Kids</td>\n",
       "      <td>Wii</td>\n",
       "      <td>2010.0</td>\n",
       "      <td>Misc</td>\n",
       "      <td>1.52</td>\n",
       "      <td>0.54</td>\n",
       "      <td>0.0</td>\n",
       "      <td>0.18</td>\n",
       "      <td>NaN</td>\n",
       "      <td>tbd</td>\n",
       "      <td>E</td>\n",
       "      <td>2.24</td>\n",
       "    </tr>\n",
       "  </tbody>\n",
       "</table>\n",
       "</div>"
      ],
      "text/plain": [
       "                               name platform  year_of_release   genre  \\\n",
       "119                   Zumba Fitness      Wii           2010.0  Sports   \n",
       "301  Namco Museum: 50th Anniversary      PS2           2005.0    Misc   \n",
       "520                 Zumba Fitness 2      Wii           2011.0  Sports   \n",
       "645                    uDraw Studio      Wii           2010.0    Misc   \n",
       "718                 Just Dance Kids      Wii           2010.0    Misc   \n",
       "\n",
       "     na_sales  eu_sales  jp_sales  other_sales  critic_score user_score  \\\n",
       "119      3.45      2.59       0.0         0.66           NaN        tbd   \n",
       "301      2.08      1.35       0.0         0.54          61.0        tbd   \n",
       "520      1.51      1.03       0.0         0.27           NaN        tbd   \n",
       "645      1.65      0.57       0.0         0.20          71.0        tbd   \n",
       "718      1.52      0.54       0.0         0.18           NaN        tbd   \n",
       "\n",
       "    rating  total_sales  \n",
       "119      E         6.70  \n",
       "301   E10+         3.97  \n",
       "520      T         2.81  \n",
       "645      E         2.42  \n",
       "718      E         2.24  "
      ]
     },
     "execution_count": 14,
     "metadata": {},
     "output_type": "execute_result"
    }
   ],
   "source": [
    "data[data['user_score'] == 'tbd'].head()"
   ]
  },
  {
   "cell_type": "code",
   "execution_count": 15,
   "metadata": {
    "colab": {
     "base_uri": "https://localhost:8080/",
     "height": 1000
    },
    "id": "l7Sq9XBZUHGm",
    "outputId": "e76cab78-0bcb-414a-fa99-73416f66baa2"
   },
   "outputs": [
    {
     "data": {
      "image/png": "[encoded data removed]",
      "text/plain": [
       "<Figure size 720x1080 with 9 Axes>"
      ]
     },
     "metadata": {
      "needs_background": "light"
     },
     "output_type": "display_data"
    }
   ],
   "source": [
    "data[data['user_score'] == 'tbd'].hist(figsize=(10,15))\n",
    "plt.show()"
   ]
  },
  {
   "cell_type": "code",
   "execution_count": 16,
   "metadata": {
    "colab": {
     "base_uri": "https://localhost:8080/"
    },
    "id": "hW2VXVwmVFws",
    "outputId": "c8e43bc6-cba2-4a8c-9279-d76dae9fce94"
   },
   "outputs": [
    {
     "name": "stdout",
     "output_type": "stream",
     "text": [
      "Среднее значение total_sales в главном датасете: 0.5360234736073948\n",
      "Среднее значение total_sales среди строк с tbd: 0.18789983164983165\n"
     ]
    }
   ],
   "source": [
    "print('Среднее значение total_sales в главном датасете:', data['total_sales'].mean())\n",
    "print('Среднее значение total_sales среди строк с tbd:', data[data['user_score'] == 'tbd']['total_sales'].mean())"
   ]
  },
  {
   "cell_type": "code",
   "execution_count": 17,
   "metadata": {
    "colab": {
     "base_uri": "https://localhost:8080/"
    },
    "id": "MFXr8n_sySxD",
    "outputId": "b9990d0d-1831-4321-ee95-5db2c592b2d5"
   },
   "outputs": [
    {
     "data": {
      "text/plain": [
       "rating\n",
       "E       3921\n",
       "T       2905\n",
       "M       1536\n",
       "E10+    1393\n",
       "EC         8\n",
       "K-A        3\n",
       "AO         1\n",
       "RP         1\n",
       "Name: name, dtype: int64"
      ]
     },
     "execution_count": 17,
     "metadata": {},
     "output_type": "execute_result"
    }
   ],
   "source": [
    "# Виды возрастного рейтинга в главном датасете:\n",
    "data.groupby('rating')['name'].count().sort_values(ascending=False)"
   ]
  },
  {
   "cell_type": "code",
   "execution_count": 18,
   "metadata": {
    "colab": {
     "base_uri": "https://localhost:8080/"
    },
    "id": "ld7F-cGJySuT",
    "outputId": "e353adf2-3e43-44c9-c27d-a18574fe7b29"
   },
   "outputs": [
    {
     "data": {
      "text/plain": [
       "rating\n",
       "E       1548\n",
       "T        369\n",
       "E10+     360\n",
       "M         42\n",
       "EC         7\n",
       "Name: name, dtype: int64"
      ]
     },
     "execution_count": 18,
     "metadata": {},
     "output_type": "execute_result"
    }
   ],
   "source": [
    "# Виды возрастного рейтинга в данных с tbd:\n",
    "data[data['user_score'] == 'tbd'].groupby('rating')['name'].count().sort_values(ascending=False)"
   ]
  },
  {
   "cell_type": "code",
   "execution_count": 19,
   "metadata": {
    "colab": {
     "base_uri": "https://localhost:8080/"
    },
    "id": "ANBIX__Gzfi8",
    "outputId": "489e1324-4f9d-4f89-ea6a-41250635297b"
   },
   "outputs": [
    {
     "data": {
      "text/plain": [
       "platform\n",
       "PS2     2127\n",
       "DS      2121\n",
       "PS3     1306\n",
       "Wii     1286\n",
       "X360    1232\n",
       "Name: name, dtype: int64"
      ]
     },
     "execution_count": 19,
     "metadata": {},
     "output_type": "execute_result"
    }
   ],
   "source": [
    "# Список платформ в главном датасете:\n",
    "data.groupby('platform')['name'].count().sort_values(ascending=False).head()"
   ]
  },
  {
   "cell_type": "code",
   "execution_count": 20,
   "metadata": {
    "colab": {
     "base_uri": "https://localhost:8080/"
    },
    "id": "9b_bM1-mzfgA",
    "outputId": "90bd9e1b-04d5-4edb-a91e-3c9accdffe1c"
   },
   "outputs": [
    {
     "data": {
      "text/plain": [
       "platform\n",
       "DS     744\n",
       "Wii    428\n",
       "GBA    258\n",
       "PS2    236\n",
       "XB     146\n",
       "Name: name, dtype: int64"
      ]
     },
     "execution_count": 20,
     "metadata": {},
     "output_type": "execute_result"
    }
   ],
   "source": [
    "# Список платформ в данных с tbd\n",
    "data[data['user_score'] == 'tbd'].groupby('platform')['name'].count().sort_values(ascending=False).head()"
   ]
  },
  {
   "cell_type": "markdown",
   "metadata": {
    "id": "V3kNhiw6xl1i"
   },
   "source": [
    "Никаких особенностей в строках с `tbd` обнаружено не было, все данные похожи на весь остальной датасет. Видимо, tbd означает 'to be determined' - данные ожидаются. Но на момент исследования они отсутствуют.\n",
    "\n",
    "Заменим эти значения на NaN.\n",
    "\n",
    "Итого в столбце `user_score` остается примерно 45 % полезных данных, но имеем что имеем."
   ]
  },
  {
   "cell_type": "code",
   "execution_count": 21,
   "metadata": {
    "id": "nPVqFIyWxLRY"
   },
   "outputs": [],
   "source": [
    "data['user_score'] = data['user_score'].where(data['user_score'] != 'tbd', float('NaN'))"
   ]
  },
  {
   "cell_type": "markdown",
   "metadata": {},
   "source": [
    "<div class=\"alert-success\"> \n",
    "<b>Комментарий ревьюера 👍 </b>\n",
    "\n",
    "Верное решение обработать tbd, как nan"
   ]
  },
  {
   "cell_type": "markdown",
   "metadata": {
    "id": "gtdQp7lcfziD"
   },
   "source": [
    "#### Аномалии в `total_sales`"
   ]
  },
  {
   "cell_type": "code",
   "execution_count": 22,
   "metadata": {
    "colab": {
     "base_uri": "https://localhost:8080/",
     "height": 452
    },
    "id": "9MWfMjklf3-v",
    "outputId": "272da3c8-8892-4ea6-ea5a-3f59f2439fa0"
   },
   "outputs": [
    {
     "data": {
      "image/png": "[encoded data removed]",
      "text/plain": [
       "<Figure size 432x288 with 1 Axes>"
      ]
     },
     "metadata": {
      "needs_background": "light"
     },
     "output_type": "display_data"
    }
   ],
   "source": [
    "plt.boxplot(data['total_sales'])\n",
    "plt.title('total_sales')\n",
    "plt.ylim(-1, 2)\n",
    "plt.show()"
   ]
  },
  {
   "cell_type": "code",
   "execution_count": 23,
   "metadata": {
    "colab": {
     "base_uri": "https://localhost:8080/"
    },
    "id": "uQtS0P9qgaQ8",
    "outputId": "d34133f4-2c5a-48a2-da3a-431cf9fdc922"
   },
   "outputs": [
    {
     "data": {
      "text/plain": [
       "1242"
      ]
     },
     "execution_count": 23,
     "metadata": {},
     "output_type": "execute_result"
    }
   ],
   "source": [
    "len(data[data['total_sales'] > 1.5])"
   ]
  },
  {
   "cell_type": "markdown",
   "metadata": {
    "id": "FC65Fyzfg9UU"
   },
   "source": [
    "В основном, данные содержат информацию об играх с продажами не более 1-1.5 млн копий по всему миру. Но игр за пределом правого \"уса\" тоже довольно много. Считать их за выброс и исключать из исследования будет неправильно. Поэтому здесь ничего не трогаем."
   ]
  },
  {
   "cell_type": "markdown",
   "metadata": {
    "id": "2T7ZcTPRiCDX"
   },
   "source": [
    "#### Аномалии в категориальных данных"
   ]
  },
  {
   "cell_type": "code",
   "execution_count": 24,
   "metadata": {
    "colab": {
     "base_uri": "https://localhost:8080/"
    },
    "id": "_mOL8qWIiQy7",
    "outputId": "57b94c72-7965-4656-d192-565a720334bc"
   },
   "outputs": [
    {
     "data": {
      "text/plain": [
       "E       3921\n",
       "T       2905\n",
       "M       1536\n",
       "E10+    1393\n",
       "EC         8\n",
       "K-A        3\n",
       "RP         1\n",
       "AO         1\n",
       "Name: rating, dtype: int64"
      ]
     },
     "execution_count": 24,
     "metadata": {},
     "output_type": "execute_result"
    }
   ],
   "source": [
    "data['rating'].value_counts()"
   ]
  },
  {
   "cell_type": "markdown",
   "metadata": {
    "id": "1V9_A4L0jVAT"
   },
   "source": [
    "Можно выкинуть из общего датасета игры с рейтингом EC, K-A, A0 и RP, чтобы они не мешались дальше, т.к. таких игр всего несколько штук."
   ]
  },
  {
   "cell_type": "code",
   "execution_count": 25,
   "metadata": {
    "id": "EKovoQRBj03v"
   },
   "outputs": [],
   "source": [
    "data = data[~data['rating'].isin(['EC', 'K-A', 'AO', 'RP'])]"
   ]
  },
  {
   "cell_type": "code",
   "execution_count": 26,
   "metadata": {
    "colab": {
     "base_uri": "https://localhost:8080/"
    },
    "id": "nnGNv98Fio5v",
    "outputId": "093577b8-4093-4b3d-c141-0f13558184aa"
   },
   "outputs": [
    {
     "data": {
      "text/plain": [
       "Action          3305\n",
       "Sports          2306\n",
       "Misc            1715\n",
       "Role-Playing    1481\n",
       "Shooter         1296\n",
       "Adventure       1291\n",
       "Racing          1226\n",
       "Platform         878\n",
       "Simulation       857\n",
       "Fighting         837\n",
       "Strategy         670\n",
       "Puzzle           569\n",
       "Name: genre, dtype: int64"
      ]
     },
     "execution_count": 26,
     "metadata": {},
     "output_type": "execute_result"
    }
   ],
   "source": [
    "data['genre'].value_counts()"
   ]
  },
  {
   "cell_type": "markdown",
   "metadata": {
    "id": "MGl7tsGKkLxU"
   },
   "source": [
    "В жанрах удалять нечего"
   ]
  },
  {
   "cell_type": "code",
   "execution_count": 27,
   "metadata": {
    "colab": {
     "base_uri": "https://localhost:8080/"
    },
    "id": "K4BI8Xxkio8N",
    "outputId": "3f5e66d1-4ca3-40e5-b19b-826494ec3664"
   },
   "outputs": [
    {
     "data": {
      "text/plain": [
       "PS2     2126\n",
       "DS      2119\n",
       "PS3     1306\n",
       "Wii     1284\n",
       "X360    1232\n",
       "PSP     1193\n",
       "PS      1189\n",
       "PC       952\n",
       "GBA      811\n",
       "XB       802\n",
       "GC       541\n",
       "3DS      512\n",
       "PSV      429\n",
       "PS4      392\n",
       "N64      316\n",
       "XOne     247\n",
       "SNES     239\n",
       "SAT      173\n",
       "WiiU     147\n",
       "2600     116\n",
       "NES       98\n",
       "GB        97\n",
       "DC        52\n",
       "GEN       27\n",
       "NG        12\n",
       "WS         6\n",
       "SCD        6\n",
       "3DO        3\n",
       "TG16       2\n",
       "GG         1\n",
       "PCFX       1\n",
       "Name: platform, dtype: int64"
      ]
     },
     "execution_count": 27,
     "metadata": {},
     "output_type": "execute_result"
    }
   ],
   "source": [
    "data['platform'].value_counts()"
   ]
  },
  {
   "cell_type": "markdown",
   "metadata": {
    "id": "-wwdSmo9kPt5"
   },
   "source": [
    "В платформах пока тоже ничего не удаляем, позже еще будет выбор актуального периода и актуальных платформ"
   ]
  },
  {
   "cell_type": "markdown",
   "metadata": {
    "id": "dTli4l6govzc"
   },
   "source": [
    "### Изменение типов данных"
   ]
  },
  {
   "cell_type": "code",
   "execution_count": 28,
   "metadata": {
    "colab": {
     "base_uri": "https://localhost:8080/"
    },
    "id": "8Bu6hRqwo2k7",
    "outputId": "9ebdffed-d922-4d59-fb7b-9d7a2a638fe3"
   },
   "outputs": [],
   "source": [
    "data['year_of_release'] = data['year_of_release'].astype('int64')"
   ]
  },
  {
   "cell_type": "code",
   "execution_count": 29,
   "metadata": {
    "colab": {
     "base_uri": "https://localhost:8080/"
    },
    "id": "XIDx5GUUpfN3",
    "outputId": "0828e5a4-e0f2-4155-bca3-ddac3a0b4929"
   },
   "outputs": [],
   "source": [
    "data['user_score'] = data['user_score'].dropna().astype('float64')"
   ]
  },
  {
   "cell_type": "code",
   "execution_count": 30,
   "metadata": {
    "colab": {
     "base_uri": "https://localhost:8080/"
    },
    "id": "LCyoSET5tm4z",
    "outputId": "7b7fae7e-4060-4448-fc9c-7ece42c63a74"
   },
   "outputs": [
    {
     "name": "stdout",
     "output_type": "stream",
     "text": [
      "<class 'pandas.core.frame.DataFrame'>\n",
      "Int64Index: 16431 entries, 0 to 16714\n",
      "Data columns (total 12 columns):\n",
      " #   Column           Non-Null Count  Dtype  \n",
      "---  ------           --------------  -----  \n",
      " 0   name             16431 non-null  object \n",
      " 1   platform         16431 non-null  object \n",
      " 2   year_of_release  16431 non-null  int64  \n",
      " 3   genre            16431 non-null  object \n",
      " 4   na_sales         16431 non-null  float64\n",
      " 5   eu_sales         16431 non-null  float64\n",
      " 6   jp_sales         16431 non-null  float64\n",
      " 7   other_sales      16431 non-null  float64\n",
      " 8   critic_score     7980 non-null   float64\n",
      " 9   user_score       7457 non-null   float64\n",
      " 10  rating           9755 non-null   object \n",
      " 11  total_sales      16431 non-null  float64\n",
      "dtypes: float64(7), int64(1), object(4)\n",
      "memory usage: 1.6+ MB\n"
     ]
    }
   ],
   "source": [
    "# Проверяем\n",
    "data.info()"
   ]
  },
  {
   "cell_type": "markdown",
   "metadata": {
    "id": "9_MzN5wx41Nz"
   },
   "source": [
    "### Поиск дубликатов"
   ]
  },
  {
   "cell_type": "markdown",
   "metadata": {
    "id": "9uxzK3AjQbfq"
   },
   "source": [
    "Проверим наличие дубликатов, учитывая только `name`, `platform` и `year_of_release`"
   ]
  },
  {
   "cell_type": "code",
   "execution_count": 31,
   "metadata": {
    "colab": {
     "base_uri": "https://localhost:8080/",
     "height": 210
    },
    "id": "tEBPZIQh5Ebx",
    "outputId": "c5e6037d-9d63-4ff2-e861-3f32acff3eac"
   },
   "outputs": [
    {
     "data": {
      "text/html": [
       "<div>\n",
       "<style scoped>\n",
       "    .dataframe tbody tr th:only-of-type {\n",
       "        vertical-align: middle;\n",
       "    }\n",
       "\n",
       "    .dataframe tbody tr th {\n",
       "        vertical-align: top;\n",
       "    }\n",
       "\n",
       "    .dataframe thead th {\n",
       "        text-align: right;\n",
       "    }\n",
       "</style>\n",
       "<table border=\"1\" class=\"dataframe\">\n",
       "  <thead>\n",
       "    <tr style=\"text-align: right;\">\n",
       "      <th></th>\n",
       "      <th>name</th>\n",
       "      <th>platform</th>\n",
       "      <th>year_of_release</th>\n",
       "      <th>genre</th>\n",
       "      <th>na_sales</th>\n",
       "      <th>eu_sales</th>\n",
       "      <th>jp_sales</th>\n",
       "      <th>other_sales</th>\n",
       "      <th>critic_score</th>\n",
       "      <th>user_score</th>\n",
       "      <th>rating</th>\n",
       "      <th>total_sales</th>\n",
       "    </tr>\n",
       "  </thead>\n",
       "  <tbody>\n",
       "    <tr>\n",
       "      <th>604</th>\n",
       "      <td>Madden NFL 13</td>\n",
       "      <td>PS3</td>\n",
       "      <td>2012</td>\n",
       "      <td>Sports</td>\n",
       "      <td>2.11</td>\n",
       "      <td>0.22</td>\n",
       "      <td>0.0</td>\n",
       "      <td>0.23</td>\n",
       "      <td>83.0</td>\n",
       "      <td>5.5</td>\n",
       "      <td>E</td>\n",
       "      <td>2.56</td>\n",
       "    </tr>\n",
       "    <tr>\n",
       "      <th>16230</th>\n",
       "      <td>Madden NFL 13</td>\n",
       "      <td>PS3</td>\n",
       "      <td>2012</td>\n",
       "      <td>Sports</td>\n",
       "      <td>0.00</td>\n",
       "      <td>0.01</td>\n",
       "      <td>0.0</td>\n",
       "      <td>0.00</td>\n",
       "      <td>83.0</td>\n",
       "      <td>5.5</td>\n",
       "      <td>E</td>\n",
       "      <td>0.01</td>\n",
       "    </tr>\n",
       "  </tbody>\n",
       "</table>\n",
       "</div>"
      ],
      "text/plain": [
       "                name platform  year_of_release   genre  na_sales  eu_sales  \\\n",
       "604    Madden NFL 13      PS3             2012  Sports      2.11      0.22   \n",
       "16230  Madden NFL 13      PS3             2012  Sports      0.00      0.01   \n",
       "\n",
       "       jp_sales  other_sales  critic_score  user_score rating  total_sales  \n",
       "604         0.0         0.23          83.0         5.5      E         2.56  \n",
       "16230       0.0         0.00          83.0         5.5      E         0.01  "
      ]
     },
     "execution_count": 31,
     "metadata": {},
     "output_type": "execute_result"
    }
   ],
   "source": [
    "data[data.duplicated(subset=['name', 'platform', 'year_of_release'], keep=False)]"
   ]
  },
  {
   "cell_type": "code",
   "execution_count": 32,
   "metadata": {
    "id": "dESMRHLo5mJG"
   },
   "outputs": [],
   "source": [
    "data = data.drop_duplicates(subset=['name', 'platform', 'year_of_release'], keep='first')"
   ]
  },
  {
   "cell_type": "code",
   "execution_count": 33,
   "metadata": {
    "colab": {
     "base_uri": "https://localhost:8080/",
     "height": 113
    },
    "id": "_i07U4LdPqS7",
    "outputId": "c4b4118f-800f-4a42-92c6-7dd95ff7f1f8"
   },
   "outputs": [
    {
     "data": {
      "text/html": [
       "<div>\n",
       "<style scoped>\n",
       "    .dataframe tbody tr th:only-of-type {\n",
       "        vertical-align: middle;\n",
       "    }\n",
       "\n",
       "    .dataframe tbody tr th {\n",
       "        vertical-align: top;\n",
       "    }\n",
       "\n",
       "    .dataframe thead th {\n",
       "        text-align: right;\n",
       "    }\n",
       "</style>\n",
       "<table border=\"1\" class=\"dataframe\">\n",
       "  <thead>\n",
       "    <tr style=\"text-align: right;\">\n",
       "      <th></th>\n",
       "      <th>name</th>\n",
       "      <th>platform</th>\n",
       "      <th>year_of_release</th>\n",
       "      <th>genre</th>\n",
       "      <th>na_sales</th>\n",
       "      <th>eu_sales</th>\n",
       "      <th>jp_sales</th>\n",
       "      <th>other_sales</th>\n",
       "      <th>critic_score</th>\n",
       "      <th>user_score</th>\n",
       "      <th>rating</th>\n",
       "      <th>total_sales</th>\n",
       "    </tr>\n",
       "  </thead>\n",
       "  <tbody>\n",
       "  </tbody>\n",
       "</table>\n",
       "</div>"
      ],
      "text/plain": [
       "Empty DataFrame\n",
       "Columns: [name, platform, year_of_release, genre, na_sales, eu_sales, jp_sales, other_sales, critic_score, user_score, rating, total_sales]\n",
       "Index: []"
      ]
     },
     "execution_count": 33,
     "metadata": {},
     "output_type": "execute_result"
    }
   ],
   "source": [
    "data[data.duplicated(subset=['name', 'platform', 'year_of_release'], keep=False)]"
   ]
  },
  {
   "cell_type": "markdown",
   "metadata": {
    "id": "EthrvAVVSvPY"
   },
   "source": [
    "Проверим неявные дубликаты в разных столбцах:"
   ]
  },
  {
   "cell_type": "code",
   "execution_count": 34,
   "metadata": {
    "colab": {
     "base_uri": "https://localhost:8080/"
    },
    "id": "vLnQ8dHKRoXv",
    "outputId": "69b9147c-df60-4a7b-db3c-31113bfb3903"
   },
   "outputs": [
    {
     "name": "stdout",
     "output_type": "stream",
     "text": [
      "дубликатов в name из-за разного регистра нет. оставляем регистр как есть.\n",
      "дубликатов в platform из-за разного регистра нет. оставляем регистр как есть.\n",
      "дубликатов в genre из-за разного регистра нет. оставляем регистр как есть.\n"
     ]
    }
   ],
   "source": [
    "for i in list(['name', 'platform', 'genre']):\n",
    "    if len(data[i].sort_values().unique()) == len(data[i].sort_values().str.lower().unique()):\n",
    "        print(f'дубликатов в {i} из-за разного регистра нет. оставляем регистр как есть.')\n",
    "    else:\n",
    "        print(f'Нужно проверить дубликаты в {i}')"
   ]
  },
  {
   "cell_type": "markdown",
   "metadata": {
    "id": "VblVrZA3T2e0"
   },
   "source": [
    "Все ОК"
   ]
  },
  {
   "cell_type": "markdown",
   "metadata": {},
   "source": [
    "<div class=\"alert-success\"> \n",
    "<b>Комментарий ревьюера 👍 </b>\n",
    "\n",
    "Хорошая работа с дубликатами"
   ]
  },
  {
   "cell_type": "markdown",
   "metadata": {},
   "source": [
    "<div class=\"alert alert-danger\" role=\"alert\">\n",
    "<b>Комментарий ревьювера</b>\n",
    "\n",
    "Не выполнен пункт: \"Опишите причины, которые могли привести к пропускам\"."
   ]
  },
  {
   "cell_type": "markdown",
   "metadata": {},
   "source": [
    "<div class=\"alert-info\">\n",
    "<b>Комментарий студента </b>\n",
    "\n",
    "Я думаю, пропуски могли возникнуть на этапе выгрузки информации. А вообще тут сложно что-то придумывать. В тренажере информации по этому минимум, а гуглить такие темы я думаю бессмысленно."
   ]
  },
  {
   "cell_type": "markdown",
   "metadata": {},
   "source": [
    "<div class=\"alert-warning\"> \n",
    "<b>Комментарий ревьюера 💡 Вторая итерация </b>\n",
    "\n",
    "Ну, тут стоило подумать самостоятельно, поразмыслить, откуда они могли появиться. Например, ошибка при выгрузе данных; старый год игры, данные потерялись; и т.д."
   ]
  },
  {
   "cell_type": "code",
   "execution_count": 35,
   "metadata": {},
   "outputs": [
    {
     "data": {
      "text/plain": [
       "6580"
      ]
     },
     "execution_count": 35,
     "metadata": {},
     "output_type": "execute_result"
    }
   ],
   "source": [
    "len(data[(data['user_score'].isna())&(data['critic_score'].isna())&(data['rating'].isna())])"
   ]
  },
  {
   "cell_type": "code",
   "execution_count": 36,
   "metadata": {},
   "outputs": [
    {
     "data": {
      "text/plain": [
       "16430"
      ]
     },
     "execution_count": 36,
     "metadata": {},
     "output_type": "execute_result"
    }
   ],
   "source": [
    "len(data)"
   ]
  },
  {
   "cell_type": "markdown",
   "metadata": {
    "id": "9CTEg7h_brbE"
   },
   "source": [
    "## Исследовательский анализ данных"
   ]
  },
  {
   "cell_type": "markdown",
   "metadata": {
    "id": "_88m9LJumWjC"
   },
   "source": [
    "### Исследовательский анализ данных по платформам"
   ]
  },
  {
   "cell_type": "code",
   "execution_count": 37,
   "metadata": {
    "id": "pdYra7v-dpB1"
   },
   "outputs": [],
   "source": [
    "# Сгруппируем данные, чтобы получить общие продажи по каждой платформе за каждый год\n",
    "platform_sales_by_years = data.groupby(['platform', 'year_of_release'])['total_sales'].sum()\n",
    "# platform_sales_by_years.head()"
   ]
  },
  {
   "cell_type": "code",
   "execution_count": 38,
   "metadata": {
    "colab": {
     "base_uri": "https://localhost:8080/",
     "height": 649
    },
    "id": "YdnPRQGYnVn7",
    "outputId": "c376b32b-b621-4d38-b8e7-68a57c402fbd"
   },
   "outputs": [
    {
     "data": {
      "image/png": "[encoded data removed]",
      "text/plain": [
       "<Figure size 864x432 with 1 Axes>"
      ]
     },
     "metadata": {
      "needs_background": "light"
     },
     "output_type": "display_data"
    }
   ],
   "source": [
    "# Нарисуем график \"жизни\" платформ\n",
    "plt.rcParams[\"figure.figsize\"] = (12,6)\n",
    "\n",
    "for i in data['platform'].unique():\n",
    "    plt.plot(platform_sales_by_years.loc[i], label=i)\n",
    "plt.xlabel('Год')\n",
    "plt.ylabel('Млн. проданных копий')\n",
    "plt.title('Годы жизни разных платформ')\n",
    "plt.legend()\n",
    "plt.grid(visible=True)\n",
    "\n",
    "plt.show()"
   ]
  },
  {
   "cell_type": "markdown",
   "metadata": {
    "id": "66berJUvv3Vw"
   },
   "source": [
    "Попробуем приблизить график на 2005-2015 годы"
   ]
  },
  {
   "cell_type": "code",
   "execution_count": 39,
   "metadata": {
    "id": "cPaNv43pnZxh"
   },
   "outputs": [],
   "source": [
    "# Срез данных за 2005-2015 годы\n",
    "good_data = data[(data['year_of_release'] >= 2005)&(data['year_of_release'] <= 2015)]\n",
    "# Удалим неактуальные платформы\n",
    "good_data = good_data[~(good_data['platform'].isin(['DC', 'GBA', 'GC', 'XB', 'PS2']))]"
   ]
  },
  {
   "cell_type": "code",
   "execution_count": 40,
   "metadata": {
    "id": "XDnaNwvFxFvx"
   },
   "outputs": [],
   "source": [
    "# Сгруппируем данные, чтобы получить общие продажи по каждой платформе за каждый год\n",
    "good_platform_sales_by_years = good_data.groupby(['platform', 'year_of_release'])['total_sales'].sum()\n",
    "# good_platform_sales_by_years"
   ]
  },
  {
   "cell_type": "code",
   "execution_count": 41,
   "metadata": {
    "colab": {
     "base_uri": "https://localhost:8080/",
     "height": 509
    },
    "id": "d1ypjZn5xPYB",
    "outputId": "71cd437e-2be6-4c80-ed01-e4f6d08d968b"
   },
   "outputs": [
    {
     "data": {
      "image/png": "[encoded data removed]",
      "text/plain": [
       "<Figure size 864x432 with 1 Axes>"
      ]
     },
     "metadata": {
      "needs_background": "light"
     },
     "output_type": "display_data"
    }
   ],
   "source": [
    "# Нарисуем график \"жизни\" платформ\n",
    "plt.rcParams[\"figure.figsize\"] = (12,6)\n",
    "\n",
    "for i in good_data['platform'].unique():\n",
    "    plt.plot(good_platform_sales_by_years.loc[i], label=i)\n",
    "    \n",
    "plt.xlabel('Год')\n",
    "plt.ylabel('Млн. проданных копий')\n",
    "plt.title('Годы жизни разных платформ')\n",
    "plt.legend(loc=2)\n",
    "plt.grid(visible=True)\n",
    "\n",
    "plt.show()"
   ]
  },
  {
   "cell_type": "markdown",
   "metadata": {
    "id": "o7XUZ_6B6xlF"
   },
   "source": [
    "Предлагаю выбрать для исследования 2015 год. Платформы: Xbox One, PS4, PC, 3DS, WiiU, PSV - это все текущие поколения консолей на тот год и ПК."
   ]
  },
  {
   "cell_type": "code",
   "execution_count": 42,
   "metadata": {
    "id": "WD9ec4-uxfng"
   },
   "outputs": [],
   "source": [
    "very_good_data = good_data[good_data['platform'].isin(['XOne', 'PS4', 'WiiU', 'PSV', '3DS', 'PC'])]\n",
    "very_good_data = very_good_data[very_good_data['year_of_release'] == 2015]"
   ]
  },
  {
   "cell_type": "markdown",
   "metadata": {},
   "source": [
    "<div class=\"alert-danger\"> \n",
    "<b>Комментарий ревьюера ❌</b>\n",
    "    \n",
    "Для целей прогнозирования продаж на следующий год даже в традиционных бизнесах редко берут данные более чем за 2-3 года. А в такой динамично меняющейся индустрии, как компьютерные игры и вовсе не стоит брать слишком большой временной интервал - иначе обязательно захватишь уже отжившие тренды. Но и слишком короткий период тоже брать не стоит."
   ]
  },
  {
   "cell_type": "markdown",
   "metadata": {},
   "source": [
    "<div class=\"alert-info\">\n",
    "<b>Комментарий студента </b>\n",
    "\n",
    "Оставил один 2015 год."
   ]
  },
  {
   "cell_type": "markdown",
   "metadata": {},
   "source": [
    "<div class=\"alert-warning\"> \n",
    "<b>Комментарий ревьюера 💡 Вторая итерация </b>\n",
    "\n",
    "А почему последний 16 год убрал? От самых актуальных данных отказался) И один год чересчур мало, надо стараться не переходить из крайности в крайность"
   ]
  },
  {
   "cell_type": "code",
   "execution_count": 43,
   "metadata": {
    "colab": {
     "base_uri": "https://localhost:8080/"
    },
    "id": "VxT9PBwW88JP",
    "outputId": "a9adbaa8-8254-4cd6-cacc-f4be41d41520"
   },
   "outputs": [
    {
     "data": {
      "text/plain": [
       "491"
      ]
     },
     "execution_count": 43,
     "metadata": {},
     "output_type": "execute_result"
    }
   ],
   "source": [
    "len(very_good_data)"
   ]
  },
  {
   "cell_type": "markdown",
   "metadata": {},
   "source": [
    "#### Boxplots"
   ]
  },
  {
   "cell_type": "code",
   "execution_count": 44,
   "metadata": {},
   "outputs": [
    {
     "data": {
      "text/html": [
       "<div>\n",
       "<style scoped>\n",
       "    .dataframe tbody tr th:only-of-type {\n",
       "        vertical-align: middle;\n",
       "    }\n",
       "\n",
       "    .dataframe tbody tr th {\n",
       "        vertical-align: top;\n",
       "    }\n",
       "\n",
       "    .dataframe thead th {\n",
       "        text-align: right;\n",
       "    }\n",
       "</style>\n",
       "<table border=\"1\" class=\"dataframe\">\n",
       "  <thead>\n",
       "    <tr style=\"text-align: right;\">\n",
       "      <th></th>\n",
       "      <th>count</th>\n",
       "      <th>sum</th>\n",
       "      <th>median</th>\n",
       "    </tr>\n",
       "    <tr>\n",
       "      <th>platform</th>\n",
       "      <th></th>\n",
       "      <th></th>\n",
       "      <th></th>\n",
       "    </tr>\n",
       "  </thead>\n",
       "  <tbody>\n",
       "    <tr>\n",
       "      <th>XOne</th>\n",
       "      <td>80</td>\n",
       "      <td>60.14</td>\n",
       "      <td>0.245</td>\n",
       "    </tr>\n",
       "    <tr>\n",
       "      <th>WiiU</th>\n",
       "      <td>28</td>\n",
       "      <td>16.35</td>\n",
       "      <td>0.220</td>\n",
       "    </tr>\n",
       "    <tr>\n",
       "      <th>PS4</th>\n",
       "      <td>137</td>\n",
       "      <td>118.90</td>\n",
       "      <td>0.180</td>\n",
       "    </tr>\n",
       "    <tr>\n",
       "      <th>3DS</th>\n",
       "      <td>86</td>\n",
       "      <td>27.78</td>\n",
       "      <td>0.090</td>\n",
       "    </tr>\n",
       "    <tr>\n",
       "      <th>PC</th>\n",
       "      <td>50</td>\n",
       "      <td>8.52</td>\n",
       "      <td>0.080</td>\n",
       "    </tr>\n",
       "    <tr>\n",
       "      <th>PSV</th>\n",
       "      <td>110</td>\n",
       "      <td>6.25</td>\n",
       "      <td>0.030</td>\n",
       "    </tr>\n",
       "  </tbody>\n",
       "</table>\n",
       "</div>"
      ],
      "text/plain": [
       "          count     sum  median\n",
       "platform                       \n",
       "XOne         80   60.14   0.245\n",
       "WiiU         28   16.35   0.220\n",
       "PS4         137  118.90   0.180\n",
       "3DS          86   27.78   0.090\n",
       "PC           50    8.52   0.080\n",
       "PSV         110    6.25   0.030"
      ]
     },
     "execution_count": 44,
     "metadata": {},
     "output_type": "execute_result"
    }
   ],
   "source": [
    "# Количество проданных игр по платформам\n",
    "very_good_data.groupby('platform')['total_sales'].agg(['count', 'mean', 'median']).sort_values(by='median', ascending=False)"
   ]
  },
  {
   "cell_type": "code",
   "execution_count": 45,
   "metadata": {},
   "outputs": [
    {
     "data": {
      "image/png": "[encoded data removed]",
      "text/plain": [
       "<Figure size 864x432 with 1 Axes>"
      ]
     },
     "metadata": {
      "needs_background": "light"
     },
     "output_type": "display_data"
    }
   ],
   "source": [
    "# Медиана `total_sale` по платформам\n",
    "plot = very_good_data.groupby('platform')['total_sales'].median().sort_values(ascending=False).plot(title='Медиана продаж по платформам', kind='bar', ylabel='total_sale median, M')\n",
    "for p in plot.patches:\n",
    "    height = p.get_height()\n",
    "    plot.annotate('{:.2f}'.format(height), xy=(p.get_x()+p.get_width()/2, height),\n",
    "                xytext=(0, 5), textcoords='offset points', ha='center', va='bottom')\n",
    "plt.show()"
   ]
  },
  {
   "cell_type": "code",
   "execution_count": 46,
   "metadata": {},
   "outputs": [
    {
     "data": {
      "image/png": "[encoded data removed]",
      "text/plain": [
       "<Figure size 576x432 with 1 Axes>"
      ]
     },
     "metadata": {
      "needs_background": "light"
     },
     "output_type": "display_data"
    }
   ],
   "source": [
    "# Строим несколько боксплотов на одном графике\n",
    "plt.rcParams[\"figure.figsize\"] = (8,6)\n",
    "fig, ax = plt.subplots()\n",
    "count = 1\n",
    "\n",
    "for i in list(['XOne', 'PS4', 'WiiU', 'PSV', '3DS', 'PC']):\n",
    "    ax.boxplot(very_good_data.loc[very_good_data['platform'] == i, 'total_sales'], positions=[count])\n",
    "    count += 1\n",
    "    \n",
    "plt.ylim(0, 2)\n",
    "\n",
    "ax.set_xticklabels(['XOne', 'PS4', 'WiiU', 'PSV', '3DS', 'PC'])\n",
    "ax.set_xlabel('platform')\n",
    "ax.set_ylabel('total_sales, M')\n",
    "ax.set_title('Platforms sales')\n",
    "\n",
    "plt.show()"
   ]
  },
  {
   "cell_type": "markdown",
   "metadata": {},
   "source": [
    "Продажи на PS4 превышают продажи на Xbox One в 2 раза, а WiiU в 7 раз. При этом Xbox и WiiU обгоняют PS4 по значению медианы продаж - каждая игра в отдельности на этих платформах стабильнее приносит доход. \n",
    "\n",
    "Также надо отметить, что доля хитов от общих продаж на PS4 и Xbox One практически одинаковая.\n",
    "\n",
    "ПК демонстрирует очень маленькие общие продажи, медиана тоже отстает, но не так значительно. Например, если сравнивать с Xbox, то общие продажи на ПК меньше в 6.5 раз, а медиана только в 3.\n",
    "\n",
    "PSV оказалась очень нишевой платформой. Количество реализованных игр сравнимо с ПК, но продажи каждой игры намного отстают от остальных."
   ]
  },
  {
   "cell_type": "markdown",
   "metadata": {},
   "source": [
    "#### Функции для гарфиков"
   ]
  },
  {
   "cell_type": "code",
   "execution_count": 47,
   "metadata": {
    "id": "vZ5Se7pnz1Iz"
   },
   "outputs": [],
   "source": [
    "plt.rcParams[\"figure.figsize\"] = (6,4)\n",
    "\n",
    "# Создадим функцию, чтобы строить красивые scatter martix для отдельных платформ\n",
    "def build_scatter(platform):\n",
    "    data_scatter = very_good_data.loc[\n",
    "        very_good_data['platform'] == platform,\n",
    "        ('critic_score', 'user_score', 'total_sales')\n",
    "        ]\n",
    "\n",
    "    plt.scatter(data_scatter['critic_score'], data_scatter['total_sales'])\n",
    "    plt.title(platform)\n",
    "    plt.xlabel('critic_score')\n",
    "    plt.ylabel('total_sales, M')\n",
    "    plt.show()\n",
    "\n",
    "    print()\n",
    "\n",
    "    plt.scatter(data_scatter['user_score'], data_scatter['total_sales'])\n",
    "    plt.title(platform)\n",
    "    plt.xlabel('user_score')\n",
    "    plt.ylabel('total_sales, M')\n",
    "    plt.show()"
   ]
  },
  {
   "cell_type": "code",
   "execution_count": 48,
   "metadata": {
    "id": "5YafSh48mXKO"
   },
   "outputs": [],
   "source": [
    "# Создадим функцию, чтобы строить матрицу корреляций для отдельных платформ\n",
    "def build_corr(platform):\n",
    "    print(very_good_data.loc[very_good_data['platform'] == platform, ('critic_score', 'user_score', 'total_sales')].corr()['total_sales'].to_frame('total_sale'))"
   ]
  },
  {
   "cell_type": "markdown",
   "metadata": {
    "id": "0-XnVc4Agb82"
   },
   "source": [
    "#### Платформа `PS4`"
   ]
  },
  {
   "cell_type": "code",
   "execution_count": 49,
   "metadata": {
    "colab": {
     "base_uri": "https://localhost:8080/",
     "height": 821
    },
    "id": "iu0c-eAf82L2",
    "outputId": "9bd88fd8-129b-4021-ef2a-7d37aa19bad0"
   },
   "outputs": [
    {
     "data": {
      "image/png": "[encoded data removed]",
      "text/plain": [
       "<Figure size 432x288 with 1 Axes>"
      ]
     },
     "metadata": {
      "needs_background": "light"
     },
     "output_type": "display_data"
    },
    {
     "name": "stdout",
     "output_type": "stream",
     "text": [
      "\n"
     ]
    },
    {
     "data": {
      "image/png": "[encoded data removed]",
      "text/plain": [
       "<Figure size 432x288 with 1 Axes>"
      ]
     },
     "metadata": {
      "needs_background": "light"
     },
     "output_type": "display_data"
    }
   ],
   "source": [
    "build_scatter('PS4')"
   ]
  },
  {
   "cell_type": "markdown",
   "metadata": {
    "id": "1q7uT2_p5ieJ"
   },
   "source": [
    "Можно проследить некую зависимость для игр с высокими продажами. Наприме, после условного порога 2 млн проданных копий нет оценок критиков ниже 70. Это говорит о том, что чтобы стать настоящим бестселлером, просто необходимо заработать высокие оценки у критиков.\n",
    "\n",
    "Игроки же менее склонны к какой-либо тенденции при выставлении оценок. Игры с высокими продажами и низкими оценками пользователей иногда встречаются."
   ]
  },
  {
   "cell_type": "markdown",
   "metadata": {
    "id": "vG4jYrbbgcAP"
   },
   "source": [
    "#### Платформа `XOne`"
   ]
  },
  {
   "cell_type": "code",
   "execution_count": 50,
   "metadata": {
    "colab": {
     "base_uri": "https://localhost:8080/",
     "height": 821
    },
    "id": "iBL5nHv3nUgu",
    "outputId": "078e5960-9707-47b3-b0fa-a9361305177f"
   },
   "outputs": [
    {
     "data": {
      "image/png": "[encoded data removed]",
      "text/plain": [
       "<Figure size 432x288 with 1 Axes>"
      ]
     },
     "metadata": {
      "needs_background": "light"
     },
     "output_type": "display_data"
    },
    {
     "name": "stdout",
     "output_type": "stream",
     "text": [
      "\n"
     ]
    },
    {
     "data": {
      "image/png": "[encoded data removed]",
      "text/plain": [
       "<Figure size 432x288 with 1 Axes>"
      ]
     },
     "metadata": {
      "needs_background": "light"
     },
     "output_type": "display_data"
    }
   ],
   "source": [
    "build_scatter('XOne')"
   ]
  },
  {
   "cell_type": "markdown",
   "metadata": {
    "id": "cQjyhMgpvpzR"
   },
   "source": [
    "Высокие оценки критиков не гарантируют высокие продажи. Но для высоких продаж нужны высокие оценки критиков.\n",
    "\n",
    "С оценками игроков - в целом, почти все игры имеют оценки больше 5. Сильной зависимости продаж от этих оценок не наблюдается."
   ]
  },
  {
   "cell_type": "markdown",
   "metadata": {
    "id": "Ac8RdFc07f6i"
   },
   "source": [
    "#### Платформа `PC`"
   ]
  },
  {
   "cell_type": "code",
   "execution_count": 51,
   "metadata": {
    "colab": {
     "base_uri": "https://localhost:8080/",
     "height": 821
    },
    "id": "wnPfxN2inVMC",
    "outputId": "5c3b4de5-2202-466a-88a5-9b820e79c75d"
   },
   "outputs": [
    {
     "data": {
      "image/png": "[encoded data removed]",
      "text/plain": [
       "<Figure size 432x288 with 1 Axes>"
      ]
     },
     "metadata": {
      "needs_background": "light"
     },
     "output_type": "display_data"
    },
    {
     "name": "stdout",
     "output_type": "stream",
     "text": [
      "\n"
     ]
    },
    {
     "data": {
      "image/png": "[encoded data removed]",
      "text/plain": [
       "<Figure size 432x288 with 1 Axes>"
      ]
     },
     "metadata": {
      "needs_background": "light"
     },
     "output_type": "display_data"
    }
   ],
   "source": [
    "build_scatter('PC')"
   ]
  },
  {
   "cell_type": "markdown",
   "metadata": {
    "id": "R1I3QvmwQG8m"
   },
   "source": [
    "Не считая нескольких выбивающихся значений, продажи игр на ПК практически не зависяц от чьих-либо оценок."
   ]
  },
  {
   "cell_type": "markdown",
   "metadata": {
    "id": "efIAOz1WgcDu"
   },
   "source": [
    "#### Платформа `PSV`"
   ]
  },
  {
   "cell_type": "code",
   "execution_count": 52,
   "metadata": {
    "colab": {
     "base_uri": "https://localhost:8080/"
    },
    "id": "KDAq5C8InVZt",
    "outputId": "40fe5237-edc1-4407-bdb1-bc6bd00a5be0",
    "scrolled": true
   },
   "outputs": [
    {
     "name": "stdout",
     "output_type": "stream",
     "text": [
      "              total_sale\n",
      "critic_score    0.589683\n",
      "user_score      0.185243\n",
      "total_sales     1.000000\n"
     ]
    }
   ],
   "source": [
    "build_corr('PC')"
   ]
  },
  {
   "cell_type": "code",
   "execution_count": 53,
   "metadata": {
    "colab": {
     "base_uri": "https://localhost:8080/",
     "height": 821
    },
    "id": "e0ZOI6-lnWHS",
    "outputId": "f5ffb96d-6786-4833-b39c-568de0dae96f"
   },
   "outputs": [
    {
     "data": {
      "image/png": "[encoded data removed]",
      "text/plain": [
       "<Figure size 432x288 with 1 Axes>"
      ]
     },
     "metadata": {
      "needs_background": "light"
     },
     "output_type": "display_data"
    },
    {
     "name": "stdout",
     "output_type": "stream",
     "text": [
      "\n"
     ]
    },
    {
     "data": {
      "image/png": "[encoded data removed]",
      "text/plain": [
       "<Figure size 432x288 with 1 Axes>"
      ]
     },
     "metadata": {
      "needs_background": "light"
     },
     "output_type": "display_data"
    }
   ],
   "source": [
    "build_scatter('PSV')"
   ]
  },
  {
   "cell_type": "markdown",
   "metadata": {},
   "source": [
    "По PSV данных довольно мало, и зависимость в них не прослеживается - ни продаж от рейтинга критиков, ни продаж от оценок пользователей."
   ]
  },
  {
   "cell_type": "markdown",
   "metadata": {
    "id": "1Sy-F0bHgcHO"
   },
   "source": [
    "#### Платформа `WiiU`"
   ]
  },
  {
   "cell_type": "code",
   "execution_count": 54,
   "metadata": {
    "colab": {
     "base_uri": "https://localhost:8080/",
     "height": 821
    },
    "id": "OVlBcFb2nWsO",
    "outputId": "17e2d097-69b9-47a4-eda0-c42039152169"
   },
   "outputs": [
    {
     "data": {
      "image/png": "[encoded data removed]",
      "text/plain": [
       "<Figure size 432x288 with 1 Axes>"
      ]
     },
     "metadata": {
      "needs_background": "light"
     },
     "output_type": "display_data"
    },
    {
     "name": "stdout",
     "output_type": "stream",
     "text": [
      "\n"
     ]
    },
    {
     "data": {
      "image/png": "[encoded data removed]",
      "text/plain": [
       "<Figure size 432x288 with 1 Axes>"
      ]
     },
     "metadata": {
      "needs_background": "light"
     },
     "output_type": "display_data"
    }
   ],
   "source": [
    "build_scatter('WiiU')"
   ]
  },
  {
   "cell_type": "markdown",
   "metadata": {},
   "source": [
    "Аналогично по Wiiu - зависимость продаж от оценок не прослеживается"
   ]
  },
  {
   "cell_type": "markdown",
   "metadata": {
    "id": "20VHOBafgcLF"
   },
   "source": [
    "#### Платформа `3DS`"
   ]
  },
  {
   "cell_type": "markdown",
   "metadata": {},
   "source": [
    "<div class=\"alert-danger\"> \n",
    "<b>Комментарий ревьюера ❌</b> \n",
    "\n",
    "Нам нужен один боксплот в разбивке по платформам, а не несколько боксплотов с одной платформой"
   ]
  },
  {
   "cell_type": "markdown",
   "metadata": {},
   "source": [
    "<div class=\"alert-info\">\n",
    "<b>Комментарий студента </b>\n",
    "\n",
    "Добавил выше отдельный пункт Boxplots"
   ]
  },
  {
   "cell_type": "markdown",
   "metadata": {},
   "source": [
    "<div class=\"alert-success\"> \n",
    "<b>Комментарий ревьюера 👍 Вторая итерация </b>\n",
    "\n",
    "Ага, супер"
   ]
  },
  {
   "cell_type": "code",
   "execution_count": 55,
   "metadata": {
    "colab": {
     "base_uri": "https://localhost:8080/",
     "height": 821
    },
    "id": "tblj9KQpnXWL",
    "outputId": "6ce01dac-5d44-4709-d53d-8bb72be311ea"
   },
   "outputs": [
    {
     "data": {
      "image/png": "[encoded data removed]",
      "text/plain": [
       "<Figure size 432x288 with 1 Axes>"
      ]
     },
     "metadata": {
      "needs_background": "light"
     },
     "output_type": "display_data"
    },
    {
     "name": "stdout",
     "output_type": "stream",
     "text": [
      "\n"
     ]
    },
    {
     "data": {
      "image/png": "[encoded data removed]",
      "text/plain": [
       "<Figure size 432x288 with 1 Axes>"
      ]
     },
     "metadata": {
      "needs_background": "light"
     },
     "output_type": "display_data"
    }
   ],
   "source": [
    "build_scatter('3DS')"
   ]
  },
  {
   "cell_type": "markdown",
   "metadata": {
    "id": "frZLgOqLTOpf"
   },
   "source": [
    "Аналогично по 3DS - зависимость продаж от оценок не прослеживается"
   ]
  },
  {
   "cell_type": "markdown",
   "metadata": {
    "id": "r_s7Bld9T7ut"
   },
   "source": [
    "#### Итог по платформам"
   ]
  },
  {
   "cell_type": "code",
   "execution_count": 56,
   "metadata": {
    "colab": {
     "base_uri": "https://localhost:8080/",
     "height": 143
    },
    "id": "62-dRcDVT7zj",
    "outputId": "fc6d8c2a-53ab-486b-f5cc-dc308adcd2f0"
   },
   "outputs": [
    {
     "data": {
      "text/html": [
       "<div>\n",
       "<style scoped>\n",
       "    .dataframe tbody tr th:only-of-type {\n",
       "        vertical-align: middle;\n",
       "    }\n",
       "\n",
       "    .dataframe tbody tr th {\n",
       "        vertical-align: top;\n",
       "    }\n",
       "\n",
       "    .dataframe thead th {\n",
       "        text-align: right;\n",
       "    }\n",
       "</style>\n",
       "<table border=\"1\" class=\"dataframe\">\n",
       "  <thead>\n",
       "    <tr style=\"text-align: right;\">\n",
       "      <th></th>\n",
       "      <th>PS4</th>\n",
       "      <th>XOne</th>\n",
       "      <th>PC</th>\n",
       "      <th>PSV</th>\n",
       "      <th>WiiU</th>\n",
       "      <th>3DS</th>\n",
       "    </tr>\n",
       "  </thead>\n",
       "  <tbody>\n",
       "    <tr>\n",
       "      <th>critic_score</th>\n",
       "      <td>0.412342</td>\n",
       "      <td>0.485205</td>\n",
       "      <td>0.589683</td>\n",
       "      <td>-0.047942</td>\n",
       "      <td>0.332829</td>\n",
       "      <td>0.180585</td>\n",
       "    </tr>\n",
       "    <tr>\n",
       "      <th>user_score</th>\n",
       "      <td>-0.002308</td>\n",
       "      <td>0.042863</td>\n",
       "      <td>0.185243</td>\n",
       "      <td>0.101981</td>\n",
       "      <td>0.400175</td>\n",
       "      <td>0.164102</td>\n",
       "    </tr>\n",
       "    <tr>\n",
       "      <th>total_sales</th>\n",
       "      <td>1.000000</td>\n",
       "      <td>1.000000</td>\n",
       "      <td>1.000000</td>\n",
       "      <td>1.000000</td>\n",
       "      <td>1.000000</td>\n",
       "      <td>1.000000</td>\n",
       "    </tr>\n",
       "  </tbody>\n",
       "</table>\n",
       "</div>"
      ],
      "text/plain": [
       "                   PS4      XOne        PC       PSV      WiiU       3DS\n",
       "critic_score  0.412342  0.485205  0.589683 -0.047942  0.332829  0.180585\n",
       "user_score   -0.002308  0.042863  0.185243  0.101981  0.400175  0.164102\n",
       "total_sales   1.000000  1.000000  1.000000  1.000000  1.000000  1.000000"
      ]
     },
     "execution_count": 56,
     "metadata": {},
     "output_type": "execute_result"
    }
   ],
   "source": [
    "summary_platforms = pd.DataFrame()\n",
    "\n",
    "for i in list(['PS4', 'XOne', 'PC', 'PSV', 'WiiU', '3DS']):\n",
    "    a = very_good_data.loc[very_good_data['platform'] == i, ('critic_score', 'user_score', 'total_sales')].corr()['total_sales']\n",
    "    summary_platforms[i] = a\n",
    "\n",
    "summary_platforms"
   ]
  },
  {
   "cell_type": "markdown",
   "metadata": {
    "id": "xiE0OOc2VqhF"
   },
   "source": [
    "По итогу, зависимость между продажами и оценками критиков для основного объема игр по каждой платформе слабая. Среди всех: у PC наибольший коэффициент корреляции продаж и оценок критиков, а у WiiU наибольший коэффициент корреляции между продажами и оценками игроков."
   ]
  },
  {
   "cell_type": "code",
   "execution_count": 57,
   "metadata": {
    "colab": {
     "base_uri": "https://localhost:8080/"
    },
    "id": "zbIZQgbVVlvc",
    "outputId": "d7de251f-e02e-4494-80e6-5390658a9594"
   },
   "outputs": [
    {
     "name": "stdout",
     "output_type": "stream",
     "text": [
      "PS4 12\n",
      "XOne 6\n",
      "PC 0\n",
      "PSV 0\n",
      "WiiU 2\n",
      "3DS 2\n"
     ]
    }
   ],
   "source": [
    "# Количество игр с продажами больше 2.5 млн копий:\n",
    "for i in list(['PS4', 'XOne', 'PC', 'PSV', 'WiiU', '3DS']):\n",
    "    print(i, len(very_good_data.loc[(very_good_data['platform'] == i) & (very_good_data['total_sales'] > 2.5), 'total_sales']))"
   ]
  },
  {
   "cell_type": "markdown",
   "metadata": {
    "id": "i18H1caAXGzh"
   },
   "source": [
    "По количеству бестселлеров побеждает PS4"
   ]
  },
  {
   "cell_type": "markdown",
   "metadata": {},
   "source": [
    "<div class=\"alert-success\"> \n",
    "<b>Комментарий ревьюера 👍 </b>\n",
    "\n",
    "Хорошие диаграммы рассеивания. Корреляция тоже подсчитана верно"
   ]
  },
  {
   "cell_type": "markdown",
   "metadata": {},
   "source": [
    "<div class=\"alert-info\">\n",
    "<b>Комментарий студента </b>\n",
    "\n",
    "Т.к. у меня сократился объем данных, подкорректировал выводы под диаграммами рассеяния.\n",
    "\n",
    "А коэффициенты корреляции оставил только все в одной таблице в конце."
   ]
  },
  {
   "cell_type": "markdown",
   "metadata": {
    "id": "Gj-3amJS6sah"
   },
   "source": [
    "### Исследовательский анализ данных по жанрам"
   ]
  },
  {
   "cell_type": "code",
   "execution_count": 58,
   "metadata": {
    "id": "rchqfGhnDhhV"
   },
   "outputs": [
    {
     "data": {
      "text/html": [
       "<div>\n",
       "<style scoped>\n",
       "    .dataframe tbody tr th:only-of-type {\n",
       "        vertical-align: middle;\n",
       "    }\n",
       "\n",
       "    .dataframe tbody tr th {\n",
       "        vertical-align: top;\n",
       "    }\n",
       "\n",
       "    .dataframe thead th {\n",
       "        text-align: right;\n",
       "    }\n",
       "</style>\n",
       "<table border=\"1\" class=\"dataframe\">\n",
       "  <thead>\n",
       "    <tr style=\"text-align: right;\">\n",
       "      <th></th>\n",
       "      <th>count</th>\n",
       "      <th>mean</th>\n",
       "      <th>median</th>\n",
       "    </tr>\n",
       "    <tr>\n",
       "      <th>genre</th>\n",
       "      <th></th>\n",
       "      <th></th>\n",
       "      <th></th>\n",
       "    </tr>\n",
       "  </thead>\n",
       "  <tbody>\n",
       "    <tr>\n",
       "      <th>Shooter</th>\n",
       "      <td>28</td>\n",
       "      <td>2.239643</td>\n",
       "      <td>1.085</td>\n",
       "    </tr>\n",
       "    <tr>\n",
       "      <th>Racing</th>\n",
       "      <td>15</td>\n",
       "      <td>0.530667</td>\n",
       "      <td>0.230</td>\n",
       "    </tr>\n",
       "    <tr>\n",
       "      <th>Fighting</th>\n",
       "      <td>15</td>\n",
       "      <td>0.472000</td>\n",
       "      <td>0.180</td>\n",
       "    </tr>\n",
       "    <tr>\n",
       "      <th>Simulation</th>\n",
       "      <td>13</td>\n",
       "      <td>0.379231</td>\n",
       "      <td>0.160</td>\n",
       "    </tr>\n",
       "    <tr>\n",
       "      <th>Misc</th>\n",
       "      <td>33</td>\n",
       "      <td>0.290909</td>\n",
       "      <td>0.130</td>\n",
       "    </tr>\n",
       "    <tr>\n",
       "      <th>Platform</th>\n",
       "      <td>12</td>\n",
       "      <td>0.496667</td>\n",
       "      <td>0.125</td>\n",
       "    </tr>\n",
       "    <tr>\n",
       "      <th>Role-Playing</th>\n",
       "      <td>73</td>\n",
       "      <td>0.505068</td>\n",
       "      <td>0.120</td>\n",
       "    </tr>\n",
       "    <tr>\n",
       "      <th>Sports</th>\n",
       "      <td>38</td>\n",
       "      <td>0.808158</td>\n",
       "      <td>0.120</td>\n",
       "    </tr>\n",
       "    <tr>\n",
       "      <th>Action</th>\n",
       "      <td>199</td>\n",
       "      <td>0.319196</td>\n",
       "      <td>0.080</td>\n",
       "    </tr>\n",
       "    <tr>\n",
       "      <th>Puzzle</th>\n",
       "      <td>6</td>\n",
       "      <td>0.118333</td>\n",
       "      <td>0.045</td>\n",
       "    </tr>\n",
       "    <tr>\n",
       "      <th>Strategy</th>\n",
       "      <td>16</td>\n",
       "      <td>0.115625</td>\n",
       "      <td>0.045</td>\n",
       "    </tr>\n",
       "    <tr>\n",
       "      <th>Adventure</th>\n",
       "      <td>43</td>\n",
       "      <td>0.140465</td>\n",
       "      <td>0.030</td>\n",
       "    </tr>\n",
       "  </tbody>\n",
       "</table>\n",
       "</div>"
      ],
      "text/plain": [
       "              count      mean  median\n",
       "genre                                \n",
       "Shooter          28  2.239643   1.085\n",
       "Racing           15  0.530667   0.230\n",
       "Fighting         15  0.472000   0.180\n",
       "Simulation       13  0.379231   0.160\n",
       "Misc             33  0.290909   0.130\n",
       "Platform         12  0.496667   0.125\n",
       "Role-Playing     73  0.505068   0.120\n",
       "Sports           38  0.808158   0.120\n",
       "Action          199  0.319196   0.080\n",
       "Puzzle            6  0.118333   0.045\n",
       "Strategy         16  0.115625   0.045\n",
       "Adventure        43  0.140465   0.030"
      ]
     },
     "execution_count": 58,
     "metadata": {},
     "output_type": "execute_result"
    }
   ],
   "source": [
    "# Группируем данные по жанрам\n",
    "very_good_genres = very_good_data.groupby('genre')['total_sales'].agg(['count', 'mean', 'median']).sort_values(by='median', ascending=False)\n",
    "very_good_genres"
   ]
  },
  {
   "cell_type": "markdown",
   "metadata": {},
   "source": [
    "На этом этапе нужно определиться, какое количество игр для каждого жанра считать достаточным, чтобы обращать на него внимание. "
   ]
  },
  {
   "cell_type": "code",
   "execution_count": 59,
   "metadata": {},
   "outputs": [
    {
     "data": {
      "text/plain": [
       "count     12.000000\n",
       "mean      40.916667\n",
       "std       53.138684\n",
       "min        6.000000\n",
       "25%       14.500000\n",
       "50%       22.000000\n",
       "75%       39.250000\n",
       "max      199.000000\n",
       "Name: count, dtype: float64"
      ]
     },
     "execution_count": 59,
     "metadata": {},
     "output_type": "execute_result"
    }
   ],
   "source": [
    "very_good_genres['count'].describe()"
   ]
  },
  {
   "cell_type": "markdown",
   "metadata": {},
   "source": [
    "Предлагаю обозначить группы так:\n",
    "* продажи ниже медианного значения - 'low'\n",
    "* продажи между медианой и средним - 'average'\n",
    "* продажи выше среднего - 'high'"
   ]
  },
  {
   "cell_type": "code",
   "execution_count": 60,
   "metadata": {},
   "outputs": [
    {
     "data": {
      "text/html": [
       "<div>\n",
       "<style scoped>\n",
       "    .dataframe tbody tr th:only-of-type {\n",
       "        vertical-align: middle;\n",
       "    }\n",
       "\n",
       "    .dataframe tbody tr th {\n",
       "        vertical-align: top;\n",
       "    }\n",
       "\n",
       "    .dataframe thead th {\n",
       "        text-align: right;\n",
       "    }\n",
       "</style>\n",
       "<table border=\"1\" class=\"dataframe\">\n",
       "  <thead>\n",
       "    <tr style=\"text-align: right;\">\n",
       "      <th></th>\n",
       "      <th>count</th>\n",
       "      <th>mean</th>\n",
       "      <th>median</th>\n",
       "      <th>games_count_gorups</th>\n",
       "    </tr>\n",
       "    <tr>\n",
       "      <th>genre</th>\n",
       "      <th></th>\n",
       "      <th></th>\n",
       "      <th></th>\n",
       "      <th></th>\n",
       "    </tr>\n",
       "  </thead>\n",
       "  <tbody>\n",
       "    <tr>\n",
       "      <th>Role-Playing</th>\n",
       "      <td>73</td>\n",
       "      <td>0.505068</td>\n",
       "      <td>0.120</td>\n",
       "      <td>high</td>\n",
       "    </tr>\n",
       "    <tr>\n",
       "      <th>Action</th>\n",
       "      <td>199</td>\n",
       "      <td>0.319196</td>\n",
       "      <td>0.080</td>\n",
       "      <td>high</td>\n",
       "    </tr>\n",
       "    <tr>\n",
       "      <th>Adventure</th>\n",
       "      <td>43</td>\n",
       "      <td>0.140465</td>\n",
       "      <td>0.030</td>\n",
       "      <td>high</td>\n",
       "    </tr>\n",
       "    <tr>\n",
       "      <th>Shooter</th>\n",
       "      <td>28</td>\n",
       "      <td>2.239643</td>\n",
       "      <td>1.085</td>\n",
       "      <td>average</td>\n",
       "    </tr>\n",
       "    <tr>\n",
       "      <th>Misc</th>\n",
       "      <td>33</td>\n",
       "      <td>0.290909</td>\n",
       "      <td>0.130</td>\n",
       "      <td>average</td>\n",
       "    </tr>\n",
       "    <tr>\n",
       "      <th>Sports</th>\n",
       "      <td>38</td>\n",
       "      <td>0.808158</td>\n",
       "      <td>0.120</td>\n",
       "      <td>average</td>\n",
       "    </tr>\n",
       "    <tr>\n",
       "      <th>Racing</th>\n",
       "      <td>15</td>\n",
       "      <td>0.530667</td>\n",
       "      <td>0.230</td>\n",
       "      <td>low</td>\n",
       "    </tr>\n",
       "    <tr>\n",
       "      <th>Fighting</th>\n",
       "      <td>15</td>\n",
       "      <td>0.472000</td>\n",
       "      <td>0.180</td>\n",
       "      <td>low</td>\n",
       "    </tr>\n",
       "    <tr>\n",
       "      <th>Simulation</th>\n",
       "      <td>13</td>\n",
       "      <td>0.379231</td>\n",
       "      <td>0.160</td>\n",
       "      <td>low</td>\n",
       "    </tr>\n",
       "    <tr>\n",
       "      <th>Platform</th>\n",
       "      <td>12</td>\n",
       "      <td>0.496667</td>\n",
       "      <td>0.125</td>\n",
       "      <td>low</td>\n",
       "    </tr>\n",
       "    <tr>\n",
       "      <th>Puzzle</th>\n",
       "      <td>6</td>\n",
       "      <td>0.118333</td>\n",
       "      <td>0.045</td>\n",
       "      <td>low</td>\n",
       "    </tr>\n",
       "    <tr>\n",
       "      <th>Strategy</th>\n",
       "      <td>16</td>\n",
       "      <td>0.115625</td>\n",
       "      <td>0.045</td>\n",
       "      <td>low</td>\n",
       "    </tr>\n",
       "  </tbody>\n",
       "</table>\n",
       "</div>"
      ],
      "text/plain": [
       "              count      mean  median games_count_gorups\n",
       "genre                                                   \n",
       "Role-Playing     73  0.505068   0.120               high\n",
       "Action          199  0.319196   0.080               high\n",
       "Adventure        43  0.140465   0.030               high\n",
       "Shooter          28  2.239643   1.085            average\n",
       "Misc             33  0.290909   0.130            average\n",
       "Sports           38  0.808158   0.120            average\n",
       "Racing           15  0.530667   0.230                low\n",
       "Fighting         15  0.472000   0.180                low\n",
       "Simulation       13  0.379231   0.160                low\n",
       "Platform         12  0.496667   0.125                low\n",
       "Puzzle            6  0.118333   0.045                low\n",
       "Strategy         16  0.115625   0.045                low"
      ]
     },
     "execution_count": 60,
     "metadata": {},
     "output_type": "execute_result"
    }
   ],
   "source": [
    "for i in very_good_genres.index:\n",
    "    if very_good_genres.loc[i, 'count'] < very_good_genres['count'].median():\n",
    "        very_good_genres.loc[i, 'games_count_gorups'] = 'low'\n",
    "    if very_good_genres['count'].median() <= very_good_genres.loc[i, 'count'] < very_good_genres['count'].mean():\n",
    "        very_good_genres.loc[i, 'games_count_gorups'] = 'average'\n",
    "    if very_good_genres.loc[i, 'count'] >= very_good_genres['count'].mean():\n",
    "        very_good_genres.loc[i, 'games_count_gorups'] = 'high'\n",
    "\n",
    "custom_order = ['low', 'average', 'high']\n",
    "very_good_genres['games_count_gorups'] = very_good_genres['games_count_gorups'].astype(pd.CategoricalDtype(categories=custom_order, ordered=True))\n",
    "very_good_genres = very_good_genres.sort_values(by=['games_count_gorups', 'median'],ascending=False)\n",
    "very_good_genres"
   ]
  },
  {
   "cell_type": "markdown",
   "metadata": {},
   "source": [
    "В итоге мы можем выделить 6 жанров с низкими продажами, 3 со средними и 3 с высокими"
   ]
  },
  {
   "cell_type": "code",
   "execution_count": 61,
   "metadata": {},
   "outputs": [
    {
     "data": {
      "image/png": "[encoded data removed]",
      "text/plain": [
       "<Figure size 432x288 with 1 Axes>"
      ]
     },
     "metadata": {
      "needs_background": "light"
     },
     "output_type": "display_data"
    }
   ],
   "source": [
    "# Строим барплот по медианному значению\n",
    "genres_plot = very_good_genres['median'].plot(kind='bar', ylabel='total_sales, M')\n",
    "for p in genres_plot.patches:\n",
    "    height = p.get_height()\n",
    "    genres_plot.annotate('{:.2f}'.format(height), xy=(p.get_x()+p.get_width()/2, height),\n",
    "                xytext=(0, 5), textcoords='offset points', ha='center', va='bottom')\n",
    "plt.title('Медианное значение продаж по жанрам')\n",
    "plt.show()"
   ]
  },
  {
   "cell_type": "code",
   "execution_count": 62,
   "metadata": {},
   "outputs": [],
   "source": [
    "genres_in_order = very_good_data.groupby('genre')['total_sales'].median().sort_values(ascending=False).index"
   ]
  },
  {
   "cell_type": "code",
   "execution_count": 63,
   "metadata": {},
   "outputs": [
    {
     "data": {
      "image/png": "[encoded data removed]",
      "text/plain": [
       "<Figure size 864x432 with 1 Axes>"
      ]
     },
     "metadata": {
      "needs_background": "light"
     },
     "output_type": "display_data"
    }
   ],
   "source": [
    "# Строим несколько боксплотов на одном графике\n",
    "plt.rcParams[\"figure.figsize\"] = (12,6)\n",
    "fig, ax = plt.subplots()\n",
    "count = 1\n",
    "\n",
    "for i in very_good_genres.index:\n",
    "    ax.boxplot(very_good_data.loc[very_good_data['genre'] == i, 'total_sales'], positions=[count])\n",
    "    count += 1\n",
    "    \n",
    "plt.ylim(0, 2)\n",
    "\n",
    "ax.set_xticklabels(very_good_genres.index)\n",
    "ax.set_xlabel('platform')\n",
    "ax.set_ylabel('total_sales, M')\n",
    "ax.set_title('Продажи по жанрам')\n",
    "\n",
    "plt.show()"
   ]
  },
  {
   "cell_type": "code",
   "execution_count": 64,
   "metadata": {},
   "outputs": [
    {
     "data": {
      "text/plain": [
       "count    12.000000\n",
       "mean      0.195833\n",
       "std       0.286133\n",
       "min       0.030000\n",
       "25%       0.071250\n",
       "50%       0.122500\n",
       "75%       0.165000\n",
       "max       1.085000\n",
       "Name: median, dtype: float64"
      ]
     },
     "execution_count": 64,
     "metadata": {},
     "output_type": "execute_result"
    }
   ],
   "source": [
    "very_good_genres['median'].describe()"
   ]
  },
  {
   "cell_type": "markdown",
   "metadata": {},
   "source": [
    "Вывод по жанрам.\n",
    "\n",
    "Все жанры были разделены на высокое, среднее и низкое количество игр в каждом. Графики упорядочены по этому количеству и затем по медианному значению тиража продаж.\n",
    "\n",
    "Наиболее перпективным жанром оказывается Shooter - достаточное количество игр, и очень высокая продаваемость каждой игры. Медиана продаж в этом жанре в 5 и более раз превышает этот показатель у остальных.\n",
    "\n",
    "Если сравниват остальные жанры между собой, то можно выделить следующее:\n",
    "* Role-Playing - достаточно много игр и продажи каждой игры на уровне медианного значения по рынку\n",
    "* Misc и Sports - среднее количество игр и продажи так же на уровне медианного значения по рынку\n",
    "* Racing, Fighting, Simularot и Platform - игр не очень много, но они продаются лучше, чем у других жанров выше (особенно Racing)"
   ]
  },
  {
   "cell_type": "markdown",
   "metadata": {},
   "source": [
    "<div class=\"alert-danger\"> \n",
    "<b>Комментарий ревьюера ❌</b> \n",
    "\n",
    "Нам нужно смотреть не по жанрам, а все продажи целиком.\n",
    "\n",
    "Также нет вывода. Один график и все - а комментарии?\n",
    "\n",
    "Также общие продажи/кол-во продаж - плохая метрика для поиска наиболее прибыльного жанра. За высокими показателями общих продаж может скрываться множество мелких игр с низкими продажами. Или 2-3 звезды и куча провалов. Лучше найти жанр, где игры стабильно приносят высокий доход - для этого стоит рассмотреть медианные продажи \n",
    "    \n",
    "Не забывай подписывать графики (по всем осям), это важно. Комментарий относится и к другим графикам в проекте!"
   ]
  },
  {
   "cell_type": "markdown",
   "metadata": {},
   "source": [
    "<div class=\"alert-info\">\n",
    "<b>Комментарий студента </b>\n",
    "\n",
    "Наверно, ты имел в виду не \"не по жанрам\", а \"не по платформам\"?\n",
    "\n",
    "Действительно, я не уделил этому пункту достаточно внимания. Исправил.\n",
    "    \n",
    "А графики вроде бы везде подписаны - имена и оси. Где-то еще легенда."
   ]
  },
  {
   "cell_type": "markdown",
   "metadata": {},
   "source": [
    "<div class=\"alert-success\"> \n",
    "<b>Комментарий ревьюера 👍 Вторая итерация </b>\n",
    "\n",
    "Ага, перепутал. Теперь все здорово!"
   ]
  },
  {
   "cell_type": "markdown",
   "metadata": {
    "id": "150AP1Lu1twC"
   },
   "source": [
    "## Статистический анализ данных. Портрет пользователя каждого региона."
   ]
  },
  {
   "cell_type": "markdown",
   "metadata": {
    "id": "4Hq37jOR4dMT"
   },
   "source": [
    "Если перед нами стоит задача - выдвижение прогноза на будущий год, то я буду использовать те же данные - `very_good_data` - по самым актуальным платформам за 2011-2015 годы. Там всего 6 платформ, т.е. в топ-5 не попадет только одна из них."
   ]
  },
  {
   "cell_type": "code",
   "execution_count": 65,
   "metadata": {
    "colab": {
     "base_uri": "https://localhost:8080/",
     "height": 391
    },
    "id": "SZ-S4MHx3E9h",
    "outputId": "533d5a88-76cf-467a-a7cd-939176661f16"
   },
   "outputs": [
    {
     "data": {
      "text/html": [
       "<div>\n",
       "<style scoped>\n",
       "    .dataframe tbody tr th:only-of-type {\n",
       "        vertical-align: middle;\n",
       "    }\n",
       "\n",
       "    .dataframe tbody tr th {\n",
       "        vertical-align: top;\n",
       "    }\n",
       "\n",
       "    .dataframe thead th {\n",
       "        text-align: right;\n",
       "    }\n",
       "</style>\n",
       "<table border=\"1\" class=\"dataframe\">\n",
       "  <thead>\n",
       "    <tr style=\"text-align: right;\">\n",
       "      <th></th>\n",
       "      <th>name</th>\n",
       "      <th>platform</th>\n",
       "      <th>year_of_release</th>\n",
       "      <th>genre</th>\n",
       "      <th>na_sales</th>\n",
       "      <th>eu_sales</th>\n",
       "      <th>jp_sales</th>\n",
       "      <th>other_sales</th>\n",
       "      <th>critic_score</th>\n",
       "      <th>user_score</th>\n",
       "      <th>rating</th>\n",
       "      <th>total_sales</th>\n",
       "    </tr>\n",
       "  </thead>\n",
       "  <tbody>\n",
       "    <tr>\n",
       "      <th>31</th>\n",
       "      <td>Call of Duty: Black Ops 3</td>\n",
       "      <td>PS4</td>\n",
       "      <td>2015</td>\n",
       "      <td>Shooter</td>\n",
       "      <td>6.03</td>\n",
       "      <td>5.86</td>\n",
       "      <td>0.36</td>\n",
       "      <td>2.38</td>\n",
       "      <td>NaN</td>\n",
       "      <td>NaN</td>\n",
       "      <td>NaN</td>\n",
       "      <td>14.63</td>\n",
       "    </tr>\n",
       "    <tr>\n",
       "      <th>77</th>\n",
       "      <td>FIFA 16</td>\n",
       "      <td>PS4</td>\n",
       "      <td>2015</td>\n",
       "      <td>Sports</td>\n",
       "      <td>1.12</td>\n",
       "      <td>6.12</td>\n",
       "      <td>0.06</td>\n",
       "      <td>1.28</td>\n",
       "      <td>82.0</td>\n",
       "      <td>4.3</td>\n",
       "      <td>E</td>\n",
       "      <td>8.58</td>\n",
       "    </tr>\n",
       "    <tr>\n",
       "      <th>87</th>\n",
       "      <td>Star Wars Battlefront (2015)</td>\n",
       "      <td>PS4</td>\n",
       "      <td>2015</td>\n",
       "      <td>Shooter</td>\n",
       "      <td>2.99</td>\n",
       "      <td>3.49</td>\n",
       "      <td>0.22</td>\n",
       "      <td>1.28</td>\n",
       "      <td>NaN</td>\n",
       "      <td>NaN</td>\n",
       "      <td>NaN</td>\n",
       "      <td>7.98</td>\n",
       "    </tr>\n",
       "    <tr>\n",
       "      <th>99</th>\n",
       "      <td>Call of Duty: Black Ops 3</td>\n",
       "      <td>XOne</td>\n",
       "      <td>2015</td>\n",
       "      <td>Shooter</td>\n",
       "      <td>4.59</td>\n",
       "      <td>2.11</td>\n",
       "      <td>0.01</td>\n",
       "      <td>0.68</td>\n",
       "      <td>NaN</td>\n",
       "      <td>NaN</td>\n",
       "      <td>NaN</td>\n",
       "      <td>7.39</td>\n",
       "    </tr>\n",
       "    <tr>\n",
       "      <th>105</th>\n",
       "      <td>Fallout 4</td>\n",
       "      <td>PS4</td>\n",
       "      <td>2015</td>\n",
       "      <td>Role-Playing</td>\n",
       "      <td>2.53</td>\n",
       "      <td>3.27</td>\n",
       "      <td>0.24</td>\n",
       "      <td>1.13</td>\n",
       "      <td>87.0</td>\n",
       "      <td>6.5</td>\n",
       "      <td>M</td>\n",
       "      <td>7.17</td>\n",
       "    </tr>\n",
       "  </tbody>\n",
       "</table>\n",
       "</div>"
      ],
      "text/plain": [
       "                             name platform  year_of_release         genre  \\\n",
       "31      Call of Duty: Black Ops 3      PS4             2015       Shooter   \n",
       "77                        FIFA 16      PS4             2015        Sports   \n",
       "87   Star Wars Battlefront (2015)      PS4             2015       Shooter   \n",
       "99      Call of Duty: Black Ops 3     XOne             2015       Shooter   \n",
       "105                     Fallout 4      PS4             2015  Role-Playing   \n",
       "\n",
       "     na_sales  eu_sales  jp_sales  other_sales  critic_score  user_score  \\\n",
       "31       6.03      5.86      0.36         2.38           NaN         NaN   \n",
       "77       1.12      6.12      0.06         1.28          82.0         4.3   \n",
       "87       2.99      3.49      0.22         1.28           NaN         NaN   \n",
       "99       4.59      2.11      0.01         0.68           NaN         NaN   \n",
       "105      2.53      3.27      0.24         1.13          87.0         6.5   \n",
       "\n",
       "    rating  total_sales  \n",
       "31     NaN        14.63  \n",
       "77       E         8.58  \n",
       "87     NaN         7.98  \n",
       "99     NaN         7.39  \n",
       "105      M         7.17  "
      ]
     },
     "execution_count": 65,
     "metadata": {},
     "output_type": "execute_result"
    }
   ],
   "source": [
    "very_good_data.head()"
   ]
  },
  {
   "cell_type": "markdown",
   "metadata": {
    "id": "-8EvM52fQTPd"
   },
   "source": [
    "На PSV основной объем игр не дотягивает даже до 0.5 млн проданных копий."
   ]
  },
  {
   "cell_type": "markdown",
   "metadata": {
    "id": "p4WYu_A62lhu"
   },
   "source": [
    "### Самые популярные платформы (топ-5) в каждом регионе"
   ]
  },
  {
   "cell_type": "code",
   "execution_count": 66,
   "metadata": {
    "id": "yTwj-0OnQsAv"
   },
   "outputs": [],
   "source": [
    "# Создадим функцию построения графика топ-5 платформ\n",
    "def top_platforms_plot(sales, region):\n",
    "    top_platforms_series = very_good_data.groupby('platform')[sales]\\\n",
    "        .sum()\\\n",
    "        .sort_values(ascending=False)\\\n",
    "        .head(5)\\\n",
    "        .index.unique()\n",
    "\n",
    "    gruped_platforms =\\\n",
    "        very_good_data[very_good_data['platform'].isin(top_platforms_series)]\\\n",
    "        .groupby(['platform'])[sales].sum()\\\n",
    "        .reset_index()\n",
    "\n",
    "    sns.barplot(x='platform', y=sales, data=gruped_platforms)\\\n",
    "        .set_title(f'{region} top-5 platforms')\n",
    "    plt.show()"
   ]
  },
  {
   "cell_type": "code",
   "execution_count": 67,
   "metadata": {
    "colab": {
     "base_uri": "https://localhost:8080/",
     "height": 410
    },
    "id": "ibPXz68YSQ0f",
    "outputId": "3d59988d-a61f-4885-ef23-bcc678530b9c"
   },
   "outputs": [
    {
     "data": {
      "image/png": "[encoded data removed]",
      "text/plain": [
       "<Figure size 864x432 with 1 Axes>"
      ]
     },
     "metadata": {
      "needs_background": "light"
     },
     "output_type": "display_data"
    }
   ],
   "source": [
    "top_platforms_plot(sales='na_sales', region='North America')"
   ]
  },
  {
   "cell_type": "code",
   "execution_count": 68,
   "metadata": {
    "colab": {
     "base_uri": "https://localhost:8080/",
     "height": 410
    },
    "id": "x6h9f7OxTtLe",
    "outputId": "935aa218-4805-4f39-a43a-143638fa57d2"
   },
   "outputs": [
    {
     "data": {
      "image/png": "[encoded data removed]",
      "text/plain": [
       "<Figure size 864x432 with 1 Axes>"
      ]
     },
     "metadata": {
      "needs_background": "light"
     },
     "output_type": "display_data"
    }
   ],
   "source": [
    "top_platforms_plot(sales='eu_sales', region='Europe')"
   ]
  },
  {
   "cell_type": "code",
   "execution_count": 69,
   "metadata": {
    "colab": {
     "base_uri": "https://localhost:8080/",
     "height": 410
    },
    "id": "3eBcDuR6TtxY",
    "outputId": "09a79e02-c716-4346-b5a8-c41d84f89d2d"
   },
   "outputs": [
    {
     "data": {
      "image/png": "[encoded data removed]",
      "text/plain": [
       "<Figure size 864x432 with 1 Axes>"
      ]
     },
     "metadata": {
      "needs_background": "light"
     },
     "output_type": "display_data"
    }
   ],
   "source": [
    "top_platforms_plot(sales='jp_sales', region='Japan')"
   ]
  },
  {
   "cell_type": "markdown",
   "metadata": {
    "id": "mPumhkNMqdxm"
   },
   "source": [
    "По графикам можно заметить следующее:\n",
    "\n",
    "* В Америке в топе PS4 и Xbox One. Остальные продаются значительно меньше.\n",
    "* В Европе в лидеры вырывается PS4. Xbox отстает более чем в 2 раза.\n",
    "* В Японии с огромным отрывом лидирует 3DS. Игры на Xbox не продаются практически вообще."
   ]
  },
  {
   "cell_type": "markdown",
   "metadata": {
    "id": "LXYwcv-p2lke"
   },
   "source": [
    "### Самые популярные жанры (топ-5) в каждом регионе"
   ]
  },
  {
   "cell_type": "code",
   "execution_count": 70,
   "metadata": {
    "id": "glfJF8BNUJTX"
   },
   "outputs": [],
   "source": [
    "# Создадим функцию построения графика топ-5 жанров\n",
    "def top_genres_plot(sales, region):\n",
    "    top_genres_series = very_good_data.groupby('genre')[sales]\\\n",
    "        .sum()\\\n",
    "        .sort_values(ascending=False)\\\n",
    "        .head(5)\\\n",
    "        .index.unique()\n",
    "\n",
    "    gruped_genres =\\\n",
    "        very_good_data[very_good_data['genre'].isin(top_genres_series)]\\\n",
    "        .groupby(['genre'])[sales].sum()\\\n",
    "        .reset_index()\n",
    "\n",
    "    sns.barplot(x='genre', y=sales, data=gruped_genres)\\\n",
    "        .set_title(f'{region} top-5 genres')\n",
    "    plt.show()"
   ]
  },
  {
   "cell_type": "code",
   "execution_count": 71,
   "metadata": {
    "colab": {
     "base_uri": "https://localhost:8080/",
     "height": 410
    },
    "id": "FFmwvZ_aUkie",
    "outputId": "003e744f-d371-4cc5-ff81-43103909f1fb"
   },
   "outputs": [
    {
     "data": {
      "image/png": "[encoded data removed]",
      "text/plain": [
       "<Figure size 864x432 with 1 Axes>"
      ]
     },
     "metadata": {
      "needs_background": "light"
     },
     "output_type": "display_data"
    }
   ],
   "source": [
    "top_genres_plot('na_sales', 'North America')"
   ]
  },
  {
   "cell_type": "code",
   "execution_count": 72,
   "metadata": {
    "colab": {
     "base_uri": "https://localhost:8080/",
     "height": 410
    },
    "id": "qUFk6tk9UuhB",
    "outputId": "843b5ef0-0e50-4b2a-f518-501223b5015d"
   },
   "outputs": [
    {
     "data": {
      "image/png": "[encoded data removed]",
      "text/plain": [
       "<Figure size 864x432 with 1 Axes>"
      ]
     },
     "metadata": {
      "needs_background": "light"
     },
     "output_type": "display_data"
    }
   ],
   "source": [
    "top_genres_plot('eu_sales', 'Europe')"
   ]
  },
  {
   "cell_type": "code",
   "execution_count": 73,
   "metadata": {
    "colab": {
     "base_uri": "https://localhost:8080/",
     "height": 410
    },
    "id": "vEsND5T7UzkZ",
    "outputId": "70afc28b-27ed-401f-f2de-f5feaeda524b"
   },
   "outputs": [
    {
     "data": {
      "image/png": "[encoded data removed]",
      "text/plain": [
       "<Figure size 864x432 with 1 Axes>"
      ]
     },
     "metadata": {
      "needs_background": "light"
     },
     "output_type": "display_data"
    }
   ],
   "source": [
    "top_genres_plot('jp_sales', 'Japan')"
   ]
  },
  {
   "cell_type": "markdown",
   "metadata": {
    "id": "82mTS1W8r8Wk"
   },
   "source": [
    "* В Америке и Европе картинка практически идентичная - в Америке на первом месте Shooter, а в Европе - Action и Shooter практически на одном уровне. Role-Playing и Sports отстают практически в 2 раза. Platform - намного ниже остальных.\n",
    "\n",
    "* В Японии на первом месте Action c большим отрывом. В двое меньше продаются игры Role-Playing, остальные жанры - позади./"
   ]
  },
  {
   "cell_type": "markdown",
   "metadata": {
    "id": "WBmvMyVK2lnd"
   },
   "source": [
    "### Влияние возрастного рейтинга на продажи в каждом регионе"
   ]
  },
  {
   "cell_type": "code",
   "execution_count": 74,
   "metadata": {
    "colab": {
     "base_uri": "https://localhost:8080/"
    },
    "id": "5LeW6NXOVDr8",
    "outputId": "abdff5ef-192a-44b2-b640-aba2d0bafddd"
   },
   "outputs": [
    {
     "data": {
      "text/plain": [
       "array([nan, 'E', 'M', 'T', 'E10+'], dtype=object)"
      ]
     },
     "execution_count": 74,
     "metadata": {},
     "output_type": "execute_result"
    }
   ],
   "source": [
    "very_good_data['rating'].unique()"
   ]
  },
  {
   "cell_type": "code",
   "execution_count": 75,
   "metadata": {
    "colab": {
     "base_uri": "https://localhost:8080/"
    },
    "id": "ooCtNboRJYEn",
    "outputId": "26ad001f-a403-414a-84f6-cbd7a9262213"
   },
   "outputs": [
    {
     "data": {
      "text/html": [
       "<div>\n",
       "<style scoped>\n",
       "    .dataframe tbody tr th:only-of-type {\n",
       "        vertical-align: middle;\n",
       "    }\n",
       "\n",
       "    .dataframe tbody tr th {\n",
       "        vertical-align: top;\n",
       "    }\n",
       "\n",
       "    .dataframe thead th {\n",
       "        text-align: right;\n",
       "    }\n",
       "</style>\n",
       "<table border=\"1\" class=\"dataframe\">\n",
       "  <thead>\n",
       "    <tr style=\"text-align: right;\">\n",
       "      <th></th>\n",
       "      <th>count</th>\n",
       "      <th>mean</th>\n",
       "      <th>median</th>\n",
       "      <th>games_count_gorups</th>\n",
       "    </tr>\n",
       "    <tr>\n",
       "      <th>genre</th>\n",
       "      <th></th>\n",
       "      <th></th>\n",
       "      <th></th>\n",
       "      <th></th>\n",
       "    </tr>\n",
       "  </thead>\n",
       "  <tbody>\n",
       "    <tr>\n",
       "      <th>Role-Playing</th>\n",
       "      <td>73</td>\n",
       "      <td>0.505068</td>\n",
       "      <td>0.120</td>\n",
       "      <td>high</td>\n",
       "    </tr>\n",
       "    <tr>\n",
       "      <th>Action</th>\n",
       "      <td>199</td>\n",
       "      <td>0.319196</td>\n",
       "      <td>0.080</td>\n",
       "      <td>high</td>\n",
       "    </tr>\n",
       "    <tr>\n",
       "      <th>Adventure</th>\n",
       "      <td>43</td>\n",
       "      <td>0.140465</td>\n",
       "      <td>0.030</td>\n",
       "      <td>high</td>\n",
       "    </tr>\n",
       "    <tr>\n",
       "      <th>Shooter</th>\n",
       "      <td>28</td>\n",
       "      <td>2.239643</td>\n",
       "      <td>1.085</td>\n",
       "      <td>average</td>\n",
       "    </tr>\n",
       "    <tr>\n",
       "      <th>Misc</th>\n",
       "      <td>33</td>\n",
       "      <td>0.290909</td>\n",
       "      <td>0.130</td>\n",
       "      <td>average</td>\n",
       "    </tr>\n",
       "    <tr>\n",
       "      <th>Sports</th>\n",
       "      <td>38</td>\n",
       "      <td>0.808158</td>\n",
       "      <td>0.120</td>\n",
       "      <td>average</td>\n",
       "    </tr>\n",
       "    <tr>\n",
       "      <th>Racing</th>\n",
       "      <td>15</td>\n",
       "      <td>0.530667</td>\n",
       "      <td>0.230</td>\n",
       "      <td>low</td>\n",
       "    </tr>\n",
       "    <tr>\n",
       "      <th>Fighting</th>\n",
       "      <td>15</td>\n",
       "      <td>0.472000</td>\n",
       "      <td>0.180</td>\n",
       "      <td>low</td>\n",
       "    </tr>\n",
       "    <tr>\n",
       "      <th>Simulation</th>\n",
       "      <td>13</td>\n",
       "      <td>0.379231</td>\n",
       "      <td>0.160</td>\n",
       "      <td>low</td>\n",
       "    </tr>\n",
       "    <tr>\n",
       "      <th>Platform</th>\n",
       "      <td>12</td>\n",
       "      <td>0.496667</td>\n",
       "      <td>0.125</td>\n",
       "      <td>low</td>\n",
       "    </tr>\n",
       "    <tr>\n",
       "      <th>Puzzle</th>\n",
       "      <td>6</td>\n",
       "      <td>0.118333</td>\n",
       "      <td>0.045</td>\n",
       "      <td>low</td>\n",
       "    </tr>\n",
       "    <tr>\n",
       "      <th>Strategy</th>\n",
       "      <td>16</td>\n",
       "      <td>0.115625</td>\n",
       "      <td>0.045</td>\n",
       "      <td>low</td>\n",
       "    </tr>\n",
       "  </tbody>\n",
       "</table>\n",
       "</div>"
      ],
      "text/plain": [
       "              count      mean  median games_count_gorups\n",
       "genre                                                   \n",
       "Role-Playing     73  0.505068   0.120               high\n",
       "Action          199  0.319196   0.080               high\n",
       "Adventure        43  0.140465   0.030               high\n",
       "Shooter          28  2.239643   1.085            average\n",
       "Misc             33  0.290909   0.130            average\n",
       "Sports           38  0.808158   0.120            average\n",
       "Racing           15  0.530667   0.230                low\n",
       "Fighting         15  0.472000   0.180                low\n",
       "Simulation       13  0.379231   0.160                low\n",
       "Platform         12  0.496667   0.125                low\n",
       "Puzzle            6  0.118333   0.045                low\n",
       "Strategy         16  0.115625   0.045                low"
      ]
     },
     "execution_count": 75,
     "metadata": {},
     "output_type": "execute_result"
    }
   ],
   "source": [
    "very_good_genres"
   ]
  },
  {
   "cell_type": "code",
   "execution_count": 76,
   "metadata": {
    "id": "wV2X0oXslyIf"
   },
   "outputs": [],
   "source": [
    "# Строим барплот для 5 жанров на 6 платформах:\n",
    "very_good_platform_sales_by_genre = very_good_data[very_good_data['genre']\\\n",
    "    .isin(very_good_genres)]\\\n",
    "    .groupby(['platform', 'genre'])['total_sales']\\\n",
    "    .sum()\\\n",
    "    .reset_index()"
   ]
  },
  {
   "cell_type": "code",
   "execution_count": 77,
   "metadata": {
    "id": "x0yPRKiMVYCP"
   },
   "outputs": [],
   "source": [
    "# Создадим функцию построения графика продаж по рейтингам\n",
    "def raing_sales_plot(sales, region):\n",
    "    gruped_rating = very_good_data.groupby(['rating'])[sales].sum().reset_index()\n",
    "\n",
    "    sns.barplot(x='rating', y=sales, data=gruped_rating, order=['E', 'E10+', 'T', 'M']).set_title(f'{region} \"rating - sales\"')\n",
    "    plt.show()"
   ]
  },
  {
   "cell_type": "code",
   "execution_count": 78,
   "metadata": {
    "colab": {
     "base_uri": "https://localhost:8080/",
     "height": 410
    },
    "id": "2tu83x-LWR_z",
    "outputId": "b993ab46-3bea-451b-e500-08b037a8179a"
   },
   "outputs": [
    {
     "data": {
      "image/png": "[encoded data removed]",
      "text/plain": [
       "<Figure size 864x432 with 1 Axes>"
      ]
     },
     "metadata": {
      "needs_background": "light"
     },
     "output_type": "display_data"
    }
   ],
   "source": [
    "raing_sales_plot('na_sales', 'North America')"
   ]
  },
  {
   "cell_type": "code",
   "execution_count": 79,
   "metadata": {
    "colab": {
     "base_uri": "https://localhost:8080/",
     "height": 410
    },
    "id": "q66x7fA9WcBk",
    "outputId": "df3a26ca-e56d-4aae-fe57-c972b288e7cc"
   },
   "outputs": [
    {
     "data": {
      "image/png": "[encoded data removed]",
      "text/plain": [
       "<Figure size 864x432 with 1 Axes>"
      ]
     },
     "metadata": {
      "needs_background": "light"
     },
     "output_type": "display_data"
    }
   ],
   "source": [
    "raing_sales_plot('eu_sales', 'Europe')"
   ]
  },
  {
   "cell_type": "code",
   "execution_count": 80,
   "metadata": {
    "colab": {
     "base_uri": "https://localhost:8080/",
     "height": 410
    },
    "id": "y8ntIQqJWhNJ",
    "outputId": "02e6cb19-50dc-46f7-9073-e742e294c154"
   },
   "outputs": [
    {
     "data": {
      "image/png": "[encoded data removed]",
      "text/plain": [
       "<Figure size 864x432 with 1 Axes>"
      ]
     },
     "metadata": {
      "needs_background": "light"
     },
     "output_type": "display_data"
    }
   ],
   "source": [
    "raing_sales_plot('jp_sales', 'Japan')"
   ]
  },
  {
   "cell_type": "markdown",
   "metadata": {
    "id": "Ox7T-qN3tGYy"
   },
   "source": [
    "* В Америке преобладают игры 17+. Остальные на одном уровне и отстают примерно в 2 раза.\n",
    "\n",
    "* В Европе ситуация тоже на первом месте игры с рейтингом 'M' - 17+. Но на втором месте E - \"игры для всех\".\n",
    "\n",
    "* В Японии же рейтинг игры практически не влияет на продажи. С небольшим отрывом на первом месте - 14+."
   ]
  },
  {
   "cell_type": "markdown",
   "metadata": {},
   "source": [
    "<div class=\"alert-success\"> \n",
    "<b>Комментарий ревьюера 👍 </b>\n",
    "    \n",
    "Отлично сделанный пункт. Есть визуализация, верные выводы и комментарии"
   ]
  },
  {
   "cell_type": "markdown",
   "metadata": {},
   "source": [
    "<div class=\"alert-info\">\n",
    "<b>Комментарий студента </b>\n",
    "\n",
    "Переделал тут выводы, т.к. поменялись данные."
   ]
  },
  {
   "cell_type": "markdown",
   "metadata": {
    "id": "Pa3DKn0Qm4_M"
   },
   "source": [
    "## Проверка гипотез"
   ]
  },
  {
   "cell_type": "markdown",
   "metadata": {
    "id": "wSiK1MjCk_h5"
   },
   "source": [
    "В проверке гипотез я тоже буду использовать `very_good_data`, и только те игры, где указан пользовательский рейтинг.\n",
    "\n",
    "Для проверки гипотез выберем ttest_ind - метод для проверки равенства средних двух независимых выборок.\n",
    "\n",
    "Примем параметр equal_var=False, т.к. размеры выборок у нас наверняка будут отличаться.\n",
    "\n",
    "Уровень статистической значимости выберем стандартные 5%."
   ]
  },
  {
   "cell_type": "markdown",
   "metadata": {
    "id": "rYoQcfjlJN8p"
   },
   "source": [
    "### Гипотеза 1"
   ]
  },
  {
   "cell_type": "markdown",
   "metadata": {
    "id": "e8Dn002cJS7_"
   },
   "source": [
    "Сформулируем гипотезы так:\n",
    "\n",
    "H0: Средние пользовательские рейтинги платформ Xbox One и PC одинаковые\n",
    "\n",
    "H1: Средние пользовательские рейтинги платформ Xbox One и PC разные"
   ]
  },
  {
   "cell_type": "code",
   "execution_count": 81,
   "metadata": {
    "colab": {
     "base_uri": "https://localhost:8080/"
    },
    "id": "6F2sHTrZm7Pn",
    "outputId": "c586626d-9073-47b6-b8f6-e0994fe0bca8"
   },
   "outputs": [
    {
     "name": "stdout",
     "output_type": "stream",
     "text": [
      "Количество игр Xbox 55 , средняя пользовательская оценка 6.474545454545456\n",
      "Количество игр PC 39 , средняя пользовательская оценка 6.294871794871794\n"
     ]
    }
   ],
   "source": [
    "xbox_score_data = very_good_data[very_good_data['platform'] == 'XOne']['user_score'].dropna()\n",
    "pc_score_data = very_good_data[very_good_data['platform'] == 'PC']['user_score'].dropna()\n",
    "print('Количество игр Xbox', len(xbox_score_data), ', средняя пользовательская оценка', xbox_score_data.mean())\n",
    "print('Количество игр PC', len(pc_score_data), ', средняя пользовательская оценка', pc_score_data.mean())"
   ]
  },
  {
   "cell_type": "markdown",
   "metadata": {},
   "source": [
    "Количество наблюдений больше 30 - можно считать, что выборочное среднее в нашем случае распределено нормально."
   ]
  },
  {
   "cell_type": "code",
   "execution_count": 82,
   "metadata": {
    "colab": {
     "base_uri": "https://localhost:8080/"
    },
    "id": "C3ywrG3DMBRp",
    "outputId": "87ebcb2f-1b39-42a9-f99f-491f105f5402"
   },
   "outputs": [
    {
     "name": "stdout",
     "output_type": "stream",
     "text": [
      "p-значение: 0.6031609371064177\n",
      "Не получилось отвергнуть нулевую гипотезу\n"
     ]
    }
   ],
   "source": [
    "alpha = 0.05 # уровень статистической значимости\n",
    "# если p-value окажется меньше него, отвергнем гипотезу\n",
    "\n",
    "results = st.ttest_ind(xbox_score_data, pc_score_data, equal_var=False)\n",
    "\n",
    "print('p-значение:', results.pvalue)\n",
    "\n",
    "if results.pvalue < alpha:\n",
    "    print('Отвергаем нулевую гипотезу')\n",
    "else:\n",
    "    print('Не получилось отвергнуть нулевую гипотезу') "
   ]
  },
  {
   "cell_type": "markdown",
   "metadata": {
    "id": "rzCfPrb4rPxS"
   },
   "source": [
    "Тест показывает, что рейтинги одинаковые с вероятностью 60.3%."
   ]
  },
  {
   "cell_type": "markdown",
   "metadata": {
    "id": "XiSiusBBRn7F"
   },
   "source": [
    "### Гипотеза 2"
   ]
  },
  {
   "cell_type": "markdown",
   "metadata": {
    "id": "PHY6o0afR2Bt"
   },
   "source": [
    "H0: Средние пользовательские рейтинги жанров Action и Sports одинаковые\n",
    "\n",
    "H1: Средние пользовательские рейтинги жанров Action и Sports разные"
   ]
  },
  {
   "cell_type": "code",
   "execution_count": 83,
   "metadata": {
    "colab": {
     "base_uri": "https://localhost:8080/"
    },
    "id": "Xwu4WcsoR3Ux",
    "outputId": "4bddd5c7-bc5f-49fb-d99b-7c9792fb3d30"
   },
   "outputs": [
    {
     "name": "stdout",
     "output_type": "stream",
     "text": [
      "Количество игр Action 90 , средняя пользовательская оценка 6.982222222222222\n",
      "Количество игр Sports 30 , средняя пользовательская оценка 5.056666666666668\n"
     ]
    }
   ],
   "source": [
    "action_score_data = very_good_data[very_good_data['genre'] == 'Action']['user_score'].dropna()\n",
    "sports_score_data = very_good_data[very_good_data['genre'] == 'Sports']['user_score'].dropna()\n",
    "print('Количество игр Action', len(action_score_data), ', средняя пользовательская оценка', action_score_data.mean())\n",
    "print('Количество игр Sports', len(sports_score_data), ', средняя пользовательская оценка', sports_score_data.mean())"
   ]
  },
  {
   "cell_type": "markdown",
   "metadata": {},
   "source": [
    "Количество наблюдений 30 и 90 - можно считать, что выборочное среднее в нашем случае распределено нормально."
   ]
  },
  {
   "cell_type": "code",
   "execution_count": 84,
   "metadata": {
    "colab": {
     "base_uri": "https://localhost:8080/"
    },
    "id": "wvGAp42rSWbt",
    "outputId": "47ae4c7b-1161-49b2-ca51-dd9e0a85fbd6"
   },
   "outputs": [
    {
     "name": "stdout",
     "output_type": "stream",
     "text": [
      "p-значение: 8.214882422080469e-06\n",
      "Отвергаем нулевую гипотезу\n"
     ]
    }
   ],
   "source": [
    "alpha = 0.05 # уровень статистической значимости\n",
    "# если p-value окажется меньше него, отвергнем гипотезу\n",
    "\n",
    "results = st.ttest_ind(action_score_data, sports_score_data, equal_var=False)\n",
    "\n",
    "print('p-значение:', results.pvalue)\n",
    "\n",
    "if results.pvalue < alpha:\n",
    "    print('Отвергаем нулевую гипотезу')\n",
    "else:\n",
    "    print('Не получилось отвергнуть нулевую гипотезу') "
   ]
  },
  {
   "cell_type": "markdown",
   "metadata": {
    "id": "raMyxI_Rq_3h"
   },
   "source": [
    "Очень маленькое значение p-value - (8.21e-4)%. Гипотеза была бы отвержена при любом выбранном уровне статичтической значимости 0.5-10%.\n",
    "\n",
    "При прямом сравнении видно, что средние отличаются более чем на единицу. Как оказалось, в статистическом выражении - это целая пропасть."
   ]
  },
  {
   "cell_type": "markdown",
   "metadata": {},
   "source": [
    "<div class=\"alert-danger\"> \n",
    "<b>Комментарий ревьюера ❌</b> \n",
    "\n",
    "Ничего не сказано про выбранный статистический тест (критерий). Подробнее: https://habr.com/en/company/uchi_ru/blog/500918/"
   ]
  },
  {
   "cell_type": "markdown",
   "metadata": {},
   "source": [
    "<div class=\"alert-info\">\n",
    "<b>Комментарий студента </b>\n",
    "\n",
    "По сути, нам пока известен единственный тест, подходящий для двух независимых выборок - ttest_ind.\n",
    "    \n",
    "Добавил в Markdown пару коментариев"
   ]
  },
  {
   "cell_type": "markdown",
   "metadata": {},
   "source": [
    "<div class=\"alert-warning\"> \n",
    "<b>Комментарий ревьюера 💡 Вторая итерация </b> \n",
    "    \n",
    "В обосновании стоит написать, что критерий Стьюдента чаще всего применяется для проверки равенства средних значений в двух выборках. Как раз наша задача, поэтому мы его и используем"
   ]
  },
  {
   "cell_type": "markdown",
   "metadata": {
    "id": "MtUkH3pgx13d"
   },
   "source": [
    "## Вывод"
   ]
  },
  {
   "cell_type": "markdown",
   "metadata": {
    "id": "HPO9eXbLx4Oi"
   },
   "source": [
    "На этапе предобработки было обнаружено:\n",
    "1. Очень много пропусков в столбцах `user_score`, `rating`, `critic_score` - 40-55%. Исследование проводилось без этих данных. Возможно, есть смысл поискать причины этих пропусков, т.к. результаты могут отличаться при повторном исследовании с полным набором данных.\n",
    "2. Также в `user_score` присутствует значение `tbd`, которое составляет порядка 14% всех строк. Оно было заменено на пропуски.\n",
    "\n",
    "Исследовательский анализ данных показывает, что самая перспективная платформа - PS4. Ее любят практически везде. Ближайший конкурент - Xbox One - отстает по продажам примерно вдвое, но, тем не менее, динамика роста продаж примерно такая же, как и на PS4. Любят Xbox, в основном, в Америке. В Европе - недолюбливают, а в Японии - откровенно игнорируют.\n",
    "\n",
    "Такие младшие братья, как 3DS, PSV и WiiU хоть и показывают неплохие продажи, но все-таки находятся на спаде. Но, глядя на отчет из 2023 года, понятно к чему шло дело - в 2017 году был релиз Nintendo Switch.\n",
    "\n",
    "Популярность PC закономерно упала с выходом новых поколение консолей. Хотя и до этого, PC никогда не был сравним по популярности с консолями.\n",
    "\n",
    "Для статистического анализа по регионам я просто скопирую свои промежуточные выводы сюда.\n",
    "\n",
    "Платформы:\n",
    "* В Америке в топе аж 3 платформы практически на одном уровне суммарных продаж: 3DS, PS4 и Xbox One. PC и WiiU имеют продажи в 2-2.5 раз меньше лидеров.\n",
    "* В Европе в лидеры вырывается PS4, а Xbox One,  PC и 3DS отстают практически в два раза. WiiU и того больше - продажи меньше примерно в 3.5 раза, чем на PS4.\n",
    "* В Японии с огромным отрывом лидирует 3DS. Все остальное для игроков в Японии неважно - продажи по остальным платформам отстают в 5 или более раз.\n",
    "\n",
    "Жанры:\n",
    "* В Америке и Европе картинка практически идентичная - в топе жанр Action, за ним Shooter, Role-Playing, Sports и Platform.\n",
    "* В Японии все по-другому - с большим отрывом лидирует жанр Role-Playing, затем с небольшим отставанием Action, и внизу примерно на одном уровне Misc, Platform и Simulator\n",
    "\n",
    "Рейтинг:\n",
    "* С рейтингами в Америке и Европе ситуация тоже практически идентична. Самые популярные игры с рейтингом 'M' - 17+. На втором месте E - \"игры для всех\".\n",
    "* В Японии же самые популярные игры имеют рейтинг E - для всех возрастов. На втором при этом T - 13+. А рейтинги 10+ и 17+ находятся позади.\n",
    "\n",
    "В проверке гипотез было произведено сравнение средних рейтингов двух платформ - Xbox One и PC. Гипотезу \"рейтинги одинаковые\" отвергнуть не удалось опровергнуть. p-value составило целых 99.7%.\n",
    "\n",
    "Вторая гипотеза - Средние пользовательские рейтинги жанров Action и Sports одинаковые - была опровергнгута. p-value = 1.3193597716949629e-09.\n",
    "\n",
    "Конец."
   ]
  },
  {
   "cell_type": "markdown",
   "metadata": {
    "id": "PXWYqGWA3dpm"
   },
   "source": [
    "<div class=\"alert-success\"> \n",
    "<b>Комментарий ревьюера 👍 </b>\n",
    "\n",
    "Хороший общий вывод! "
   ]
  },
  {
   "cell_type": "markdown",
   "metadata": {},
   "source": [
    "<div class=\"alert-danger\"> \n",
    "<b>Комментарий ревьюера ❌</b> \n",
    "    \n",
    "Отличный проект, тобою проделана большая работа, ты молодец!\n",
    "    \n",
    "Сперва похвалю за наличие везде в проекте промежуточных выводов, комментариев и рассуждений. По коду вопросов также практически нет, в том числе у тебя хорошие графики и визуализация имеющихся данных (но не забывай подписывать графики и их оси!). Каждый пункт у тебя достаточно хороший, но в каждом из них есть по небольшой ошибке (кроме портретов пользователей, там все ок). Тем не менее, я уверен, что ты довольно легко с ними сможешь справиться\n",
    "\n",
    "Что обязательно стоит доработать: написать, какой статистический критерий для проверки был выбран и почему именно он; посмотреть иначе на самые популярные / прибыльные жанры; изменить актуальный срок для прогнозирования; добавить еще один боксплот; доработать пункт с подготовкой данных; подписать везде графики (в том числе оси)\n",
    "\n",
    "Также я оставил несколько желтых комментариев. Думаю, и они будут тебе полезны.\n",
    "\n",
    "Буду ждать доработок :) Удачи!"
   ]
  },
  {
   "cell_type": "markdown",
   "metadata": {},
   "source": [
    "<div class=\"alert-info\">\n",
    "<b>Комментарий студента </b>\n",
    "\n",
    "Исмаил, доработал по твоим комментариям.\n",
    "    \n",
    "Спасибо за ревью! Если что-то еще будет нужно, обязательно сделаю)"
   ]
  },
  {
   "cell_type": "markdown",
   "metadata": {},
   "source": [
    "<div class=\"alert-success\"> \n",
    "<b>Комментарий ревьюера 👍 Вторая итерация </b>\n",
    "\n",
    "Оставил еще пару нескольких желтых комментариев. Все критические ошибки исправлены, проект стал еще лучше, принимаю. Успехов в дальнейшей учебе!"
   ]
  }
 ],
 "metadata": {
  "ExecuteTimeLog": [
   {
    "duration": 68,
    "start_time": "2023-04-20T15:38:28.773Z"
   },
   {
    "duration": 0,
    "start_time": "2023-04-20T15:38:28.846Z"
   },
   {
    "duration": 0,
    "start_time": "2023-04-20T15:38:28.848Z"
   },
   {
    "duration": 0,
    "start_time": "2023-04-20T15:38:28.849Z"
   },
   {
    "duration": 0,
    "start_time": "2023-04-20T15:38:28.851Z"
   },
   {
    "duration": 0,
    "start_time": "2023-04-20T15:38:28.852Z"
   },
   {
    "duration": 0,
    "start_time": "2023-04-20T15:38:28.854Z"
   },
   {
    "duration": 0,
    "start_time": "2023-04-20T15:38:28.855Z"
   },
   {
    "duration": 0,
    "start_time": "2023-04-20T15:38:28.856Z"
   },
   {
    "duration": 0,
    "start_time": "2023-04-20T15:38:28.857Z"
   },
   {
    "duration": 0,
    "start_time": "2023-04-20T15:38:28.858Z"
   },
   {
    "duration": 0,
    "start_time": "2023-04-20T15:38:28.859Z"
   },
   {
    "duration": 0,
    "start_time": "2023-04-20T15:38:28.860Z"
   },
   {
    "duration": 0,
    "start_time": "2023-04-20T15:38:28.862Z"
   },
   {
    "duration": 0,
    "start_time": "2023-04-20T15:38:28.863Z"
   },
   {
    "duration": 0,
    "start_time": "2023-04-20T15:38:28.864Z"
   },
   {
    "duration": 0,
    "start_time": "2023-04-20T15:38:28.865Z"
   },
   {
    "duration": 0,
    "start_time": "2023-04-20T15:38:28.866Z"
   },
   {
    "duration": 0,
    "start_time": "2023-04-20T15:38:28.867Z"
   },
   {
    "duration": 0,
    "start_time": "2023-04-20T15:38:28.868Z"
   },
   {
    "duration": 0,
    "start_time": "2023-04-20T15:38:28.870Z"
   },
   {
    "duration": 0,
    "start_time": "2023-04-20T15:38:28.871Z"
   },
   {
    "duration": 0,
    "start_time": "2023-04-20T15:38:28.872Z"
   },
   {
    "duration": 0,
    "start_time": "2023-04-20T15:38:28.873Z"
   },
   {
    "duration": 0,
    "start_time": "2023-04-20T15:38:28.875Z"
   },
   {
    "duration": 0,
    "start_time": "2023-04-20T15:38:28.876Z"
   },
   {
    "duration": 0,
    "start_time": "2023-04-20T15:38:28.877Z"
   },
   {
    "duration": 0,
    "start_time": "2023-04-20T15:38:28.878Z"
   },
   {
    "duration": 0,
    "start_time": "2023-04-20T15:38:28.879Z"
   },
   {
    "duration": 0,
    "start_time": "2023-04-20T15:38:28.881Z"
   },
   {
    "duration": 0,
    "start_time": "2023-04-20T15:38:28.882Z"
   },
   {
    "duration": 0,
    "start_time": "2023-04-20T15:38:28.883Z"
   },
   {
    "duration": 0,
    "start_time": "2023-04-20T15:38:28.885Z"
   },
   {
    "duration": 0,
    "start_time": "2023-04-20T15:38:28.886Z"
   },
   {
    "duration": 0,
    "start_time": "2023-04-20T15:38:28.887Z"
   },
   {
    "duration": 0,
    "start_time": "2023-04-20T15:38:28.889Z"
   },
   {
    "duration": 0,
    "start_time": "2023-04-20T15:38:28.890Z"
   },
   {
    "duration": 0,
    "start_time": "2023-04-20T15:38:28.892Z"
   },
   {
    "duration": 0,
    "start_time": "2023-04-20T15:38:28.893Z"
   },
   {
    "duration": 0,
    "start_time": "2023-04-20T15:38:28.895Z"
   },
   {
    "duration": 0,
    "start_time": "2023-04-20T15:38:28.896Z"
   },
   {
    "duration": 0,
    "start_time": "2023-04-20T15:38:28.934Z"
   },
   {
    "duration": 0,
    "start_time": "2023-04-20T15:38:28.938Z"
   },
   {
    "duration": 0,
    "start_time": "2023-04-20T15:38:28.940Z"
   },
   {
    "duration": 0,
    "start_time": "2023-04-20T15:38:28.943Z"
   },
   {
    "duration": 0,
    "start_time": "2023-04-20T15:38:28.946Z"
   },
   {
    "duration": 0,
    "start_time": "2023-04-20T15:38:28.949Z"
   },
   {
    "duration": 0,
    "start_time": "2023-04-20T15:38:28.952Z"
   },
   {
    "duration": 0,
    "start_time": "2023-04-20T15:38:28.955Z"
   },
   {
    "duration": 0,
    "start_time": "2023-04-20T15:38:28.957Z"
   },
   {
    "duration": 0,
    "start_time": "2023-04-20T15:38:28.960Z"
   },
   {
    "duration": 0,
    "start_time": "2023-04-20T15:38:28.962Z"
   },
   {
    "duration": 0,
    "start_time": "2023-04-20T15:38:28.964Z"
   },
   {
    "duration": 1,
    "start_time": "2023-04-20T15:38:28.966Z"
   },
   {
    "duration": 0,
    "start_time": "2023-04-20T15:38:28.969Z"
   },
   {
    "duration": 0,
    "start_time": "2023-04-20T15:38:28.972Z"
   },
   {
    "duration": 10,
    "start_time": "2023-04-20T15:38:28.979Z"
   },
   {
    "duration": 0,
    "start_time": "2023-04-20T15:38:28.994Z"
   },
   {
    "duration": 0,
    "start_time": "2023-04-20T15:38:28.996Z"
   },
   {
    "duration": 0,
    "start_time": "2023-04-20T15:38:28.998Z"
   },
   {
    "duration": 0,
    "start_time": "2023-04-20T15:38:29.000Z"
   },
   {
    "duration": 0,
    "start_time": "2023-04-20T15:38:29.001Z"
   },
   {
    "duration": 0,
    "start_time": "2023-04-20T15:38:29.002Z"
   },
   {
    "duration": 0,
    "start_time": "2023-04-20T15:38:29.034Z"
   },
   {
    "duration": 0,
    "start_time": "2023-04-20T15:38:29.036Z"
   },
   {
    "duration": 0,
    "start_time": "2023-04-20T15:38:29.037Z"
   },
   {
    "duration": 0,
    "start_time": "2023-04-20T15:38:29.038Z"
   },
   {
    "duration": 0,
    "start_time": "2023-04-20T15:38:29.039Z"
   },
   {
    "duration": 0,
    "start_time": "2023-04-20T15:38:29.041Z"
   },
   {
    "duration": 0,
    "start_time": "2023-04-20T15:38:29.044Z"
   },
   {
    "duration": 0,
    "start_time": "2023-04-20T15:38:29.046Z"
   },
   {
    "duration": 0,
    "start_time": "2023-04-20T15:38:29.048Z"
   },
   {
    "duration": 0,
    "start_time": "2023-04-20T15:38:29.050Z"
   },
   {
    "duration": 0,
    "start_time": "2023-04-20T15:38:29.053Z"
   },
   {
    "duration": 0,
    "start_time": "2023-04-20T15:38:29.055Z"
   },
   {
    "duration": 0,
    "start_time": "2023-04-20T15:38:29.057Z"
   },
   {
    "duration": 0,
    "start_time": "2023-04-20T15:38:29.061Z"
   },
   {
    "duration": 0,
    "start_time": "2023-04-20T15:38:29.063Z"
   },
   {
    "duration": 0,
    "start_time": "2023-04-20T15:38:29.065Z"
   },
   {
    "duration": 0,
    "start_time": "2023-04-20T15:38:29.067Z"
   },
   {
    "duration": 0,
    "start_time": "2023-04-20T15:38:29.069Z"
   },
   {
    "duration": 0,
    "start_time": "2023-04-20T15:38:29.072Z"
   },
   {
    "duration": 0,
    "start_time": "2023-04-20T15:38:29.073Z"
   },
   {
    "duration": 0,
    "start_time": "2023-04-20T15:38:29.076Z"
   },
   {
    "duration": 0,
    "start_time": "2023-04-20T15:38:29.078Z"
   },
   {
    "duration": 0,
    "start_time": "2023-04-20T15:38:29.080Z"
   },
   {
    "duration": 0,
    "start_time": "2023-04-20T15:38:29.084Z"
   },
   {
    "duration": 0,
    "start_time": "2023-04-20T15:38:29.086Z"
   },
   {
    "duration": 0,
    "start_time": "2023-04-20T15:38:29.090Z"
   },
   {
    "duration": 4,
    "start_time": "2023-04-20T15:38:49.453Z"
   },
   {
    "duration": 1580,
    "start_time": "2023-04-20T15:38:49.460Z"
   },
   {
    "duration": 125,
    "start_time": "2023-04-20T15:38:51.043Z"
   },
   {
    "duration": 5,
    "start_time": "2023-04-20T15:38:51.170Z"
   },
   {
    "duration": 32,
    "start_time": "2023-04-20T15:38:51.177Z"
   },
   {
    "duration": 36,
    "start_time": "2023-04-20T15:38:51.213Z"
   },
   {
    "duration": 135,
    "start_time": "2023-04-20T15:38:51.251Z"
   },
   {
    "duration": 0,
    "start_time": "2023-04-20T15:38:51.391Z"
   },
   {
    "duration": 0,
    "start_time": "2023-04-20T15:38:51.393Z"
   },
   {
    "duration": 0,
    "start_time": "2023-04-20T15:38:51.394Z"
   },
   {
    "duration": 0,
    "start_time": "2023-04-20T15:38:51.396Z"
   },
   {
    "duration": 0,
    "start_time": "2023-04-20T15:38:51.398Z"
   },
   {
    "duration": 0,
    "start_time": "2023-04-20T15:38:51.399Z"
   },
   {
    "duration": 0,
    "start_time": "2023-04-20T15:38:51.400Z"
   },
   {
    "duration": 0,
    "start_time": "2023-04-20T15:38:51.401Z"
   },
   {
    "duration": 0,
    "start_time": "2023-04-20T15:38:51.402Z"
   },
   {
    "duration": 0,
    "start_time": "2023-04-20T15:38:51.404Z"
   },
   {
    "duration": 0,
    "start_time": "2023-04-20T15:38:51.407Z"
   },
   {
    "duration": 0,
    "start_time": "2023-04-20T15:38:51.435Z"
   },
   {
    "duration": 0,
    "start_time": "2023-04-20T15:38:51.436Z"
   },
   {
    "duration": 0,
    "start_time": "2023-04-20T15:38:51.437Z"
   },
   {
    "duration": 0,
    "start_time": "2023-04-20T15:38:51.439Z"
   },
   {
    "duration": 0,
    "start_time": "2023-04-20T15:38:51.440Z"
   },
   {
    "duration": 0,
    "start_time": "2023-04-20T15:38:51.441Z"
   },
   {
    "duration": 0,
    "start_time": "2023-04-20T15:38:51.442Z"
   },
   {
    "duration": 0,
    "start_time": "2023-04-20T15:38:51.443Z"
   },
   {
    "duration": 0,
    "start_time": "2023-04-20T15:38:51.444Z"
   },
   {
    "duration": 0,
    "start_time": "2023-04-20T15:38:51.445Z"
   },
   {
    "duration": 0,
    "start_time": "2023-04-20T15:38:51.447Z"
   },
   {
    "duration": 0,
    "start_time": "2023-04-20T15:38:51.448Z"
   },
   {
    "duration": 0,
    "start_time": "2023-04-20T15:38:51.449Z"
   },
   {
    "duration": 0,
    "start_time": "2023-04-20T15:38:51.450Z"
   },
   {
    "duration": 0,
    "start_time": "2023-04-20T15:38:51.452Z"
   },
   {
    "duration": 0,
    "start_time": "2023-04-20T15:38:51.453Z"
   },
   {
    "duration": 0,
    "start_time": "2023-04-20T15:38:51.454Z"
   },
   {
    "duration": 0,
    "start_time": "2023-04-20T15:38:51.456Z"
   },
   {
    "duration": 0,
    "start_time": "2023-04-20T15:38:51.457Z"
   },
   {
    "duration": 0,
    "start_time": "2023-04-20T15:38:51.458Z"
   },
   {
    "duration": 0,
    "start_time": "2023-04-20T15:38:51.460Z"
   },
   {
    "duration": 0,
    "start_time": "2023-04-20T15:38:51.461Z"
   },
   {
    "duration": 0,
    "start_time": "2023-04-20T15:38:51.462Z"
   },
   {
    "duration": 0,
    "start_time": "2023-04-20T15:38:51.464Z"
   },
   {
    "duration": 0,
    "start_time": "2023-04-20T15:38:51.465Z"
   },
   {
    "duration": 0,
    "start_time": "2023-04-20T15:38:51.466Z"
   },
   {
    "duration": 0,
    "start_time": "2023-04-20T15:38:51.467Z"
   },
   {
    "duration": 0,
    "start_time": "2023-04-20T15:38:51.469Z"
   },
   {
    "duration": 0,
    "start_time": "2023-04-20T15:38:51.470Z"
   },
   {
    "duration": 0,
    "start_time": "2023-04-20T15:38:51.471Z"
   },
   {
    "duration": 0,
    "start_time": "2023-04-20T15:38:51.473Z"
   },
   {
    "duration": 0,
    "start_time": "2023-04-20T15:38:51.475Z"
   },
   {
    "duration": 0,
    "start_time": "2023-04-20T15:38:51.476Z"
   },
   {
    "duration": 0,
    "start_time": "2023-04-20T15:38:51.477Z"
   },
   {
    "duration": 0,
    "start_time": "2023-04-20T15:38:51.479Z"
   },
   {
    "duration": 0,
    "start_time": "2023-04-20T15:38:51.480Z"
   },
   {
    "duration": 0,
    "start_time": "2023-04-20T15:38:51.481Z"
   },
   {
    "duration": 0,
    "start_time": "2023-04-20T15:38:51.481Z"
   },
   {
    "duration": 0,
    "start_time": "2023-04-20T15:38:51.482Z"
   },
   {
    "duration": 0,
    "start_time": "2023-04-20T15:38:51.483Z"
   },
   {
    "duration": 0,
    "start_time": "2023-04-20T15:38:51.483Z"
   },
   {
    "duration": 0,
    "start_time": "2023-04-20T15:38:51.484Z"
   },
   {
    "duration": 0,
    "start_time": "2023-04-20T15:38:51.484Z"
   },
   {
    "duration": 0,
    "start_time": "2023-04-20T15:38:51.485Z"
   },
   {
    "duration": 0,
    "start_time": "2023-04-20T15:38:51.485Z"
   },
   {
    "duration": 0,
    "start_time": "2023-04-20T15:38:51.536Z"
   },
   {
    "duration": 0,
    "start_time": "2023-04-20T15:38:51.537Z"
   },
   {
    "duration": 0,
    "start_time": "2023-04-20T15:38:51.539Z"
   },
   {
    "duration": 0,
    "start_time": "2023-04-20T15:38:51.540Z"
   },
   {
    "duration": 0,
    "start_time": "2023-04-20T15:38:51.542Z"
   },
   {
    "duration": 0,
    "start_time": "2023-04-20T15:38:51.543Z"
   },
   {
    "duration": 0,
    "start_time": "2023-04-20T15:38:51.544Z"
   },
   {
    "duration": 0,
    "start_time": "2023-04-20T15:38:51.546Z"
   },
   {
    "duration": 0,
    "start_time": "2023-04-20T15:38:51.548Z"
   },
   {
    "duration": 0,
    "start_time": "2023-04-20T15:38:51.549Z"
   },
   {
    "duration": 0,
    "start_time": "2023-04-20T15:38:51.550Z"
   },
   {
    "duration": 0,
    "start_time": "2023-04-20T15:38:51.551Z"
   },
   {
    "duration": 0,
    "start_time": "2023-04-20T15:38:51.552Z"
   },
   {
    "duration": 0,
    "start_time": "2023-04-20T15:38:51.553Z"
   },
   {
    "duration": 0,
    "start_time": "2023-04-20T15:38:51.555Z"
   },
   {
    "duration": 0,
    "start_time": "2023-04-20T15:38:51.556Z"
   },
   {
    "duration": 0,
    "start_time": "2023-04-20T15:38:51.557Z"
   },
   {
    "duration": 0,
    "start_time": "2023-04-20T15:38:51.558Z"
   },
   {
    "duration": 0,
    "start_time": "2023-04-20T15:38:51.559Z"
   },
   {
    "duration": 0,
    "start_time": "2023-04-20T15:38:51.560Z"
   },
   {
    "duration": 0,
    "start_time": "2023-04-20T15:38:51.562Z"
   },
   {
    "duration": 0,
    "start_time": "2023-04-20T15:38:51.563Z"
   },
   {
    "duration": 1,
    "start_time": "2023-04-20T15:38:51.564Z"
   },
   {
    "duration": 0,
    "start_time": "2023-04-20T15:38:51.565Z"
   },
   {
    "duration": 0,
    "start_time": "2023-04-20T15:38:51.567Z"
   },
   {
    "duration": 0,
    "start_time": "2023-04-20T15:38:51.568Z"
   },
   {
    "duration": 5,
    "start_time": "2023-04-20T15:39:49.433Z"
   },
   {
    "duration": 1283,
    "start_time": "2023-04-20T15:39:49.442Z"
   },
   {
    "duration": 77,
    "start_time": "2023-04-20T15:39:50.727Z"
   },
   {
    "duration": 3,
    "start_time": "2023-04-20T15:39:50.806Z"
   },
   {
    "duration": 26,
    "start_time": "2023-04-20T15:39:50.812Z"
   },
   {
    "duration": 45,
    "start_time": "2023-04-20T15:39:50.840Z"
   },
   {
    "duration": 2,
    "start_time": "2023-04-20T15:39:50.887Z"
   },
   {
    "duration": 18,
    "start_time": "2023-04-20T15:39:50.891Z"
   },
   {
    "duration": 145,
    "start_time": "2023-04-20T15:39:50.911Z"
   },
   {
    "duration": 17,
    "start_time": "2023-04-20T15:39:51.058Z"
   },
   {
    "duration": 1095,
    "start_time": "2023-04-20T15:39:51.077Z"
   },
   {
    "duration": 21,
    "start_time": "2023-04-20T15:39:52.174Z"
   },
   {
    "duration": 7,
    "start_time": "2023-04-20T15:39:52.199Z"
   },
   {
    "duration": 64,
    "start_time": "2023-04-20T15:39:52.208Z"
   },
   {
    "duration": 1435,
    "start_time": "2023-04-20T15:39:52.278Z"
   },
   {
    "duration": 8,
    "start_time": "2023-04-20T15:39:53.715Z"
   },
   {
    "duration": 41,
    "start_time": "2023-04-20T15:39:53.735Z"
   },
   {
    "duration": 22,
    "start_time": "2023-04-20T15:39:53.778Z"
   },
   {
    "duration": 31,
    "start_time": "2023-04-20T15:39:53.802Z"
   },
   {
    "duration": 48,
    "start_time": "2023-04-20T15:39:53.835Z"
   },
   {
    "duration": 45,
    "start_time": "2023-04-20T15:39:53.885Z"
   },
   {
    "duration": 158,
    "start_time": "2023-04-20T15:39:53.932Z"
   },
   {
    "duration": 6,
    "start_time": "2023-04-20T15:39:54.092Z"
   },
   {
    "duration": 21,
    "start_time": "2023-04-20T15:39:54.099Z"
   },
   {
    "duration": 11,
    "start_time": "2023-04-20T15:39:54.122Z"
   },
   {
    "duration": 39,
    "start_time": "2023-04-20T15:39:54.139Z"
   },
   {
    "duration": 16,
    "start_time": "2023-04-20T15:39:54.180Z"
   },
   {
    "duration": 17,
    "start_time": "2023-04-20T15:39:54.198Z"
   },
   {
    "duration": 57,
    "start_time": "2023-04-20T15:39:54.217Z"
   },
   {
    "duration": 26,
    "start_time": "2023-04-20T15:39:54.275Z"
   },
   {
    "duration": 91,
    "start_time": "2023-04-20T15:39:54.304Z"
   },
   {
    "duration": 10,
    "start_time": "2023-04-20T15:39:54.397Z"
   },
   {
    "duration": 24,
    "start_time": "2023-04-20T15:39:54.408Z"
   },
   {
    "duration": 137,
    "start_time": "2023-04-20T15:39:54.435Z"
   },
   {
    "duration": 12,
    "start_time": "2023-04-20T15:39:54.573Z"
   },
   {
    "duration": 732,
    "start_time": "2023-04-20T15:39:54.588Z"
   },
   {
    "duration": 17,
    "start_time": "2023-04-20T15:39:55.326Z"
   },
   {
    "duration": 63,
    "start_time": "2023-04-20T15:39:55.345Z"
   },
   {
    "duration": 362,
    "start_time": "2023-04-20T15:39:55.410Z"
   },
   {
    "duration": 8,
    "start_time": "2023-04-20T15:39:55.774Z"
   },
   {
    "duration": 14,
    "start_time": "2023-04-20T15:39:55.784Z"
   },
   {
    "duration": 16,
    "start_time": "2023-04-20T15:39:55.800Z"
   },
   {
    "duration": 63,
    "start_time": "2023-04-20T15:39:55.817Z"
   },
   {
    "duration": 227,
    "start_time": "2023-04-20T15:39:55.882Z"
   },
   {
    "duration": 5,
    "start_time": "2023-04-20T15:39:56.112Z"
   },
   {
    "duration": 59,
    "start_time": "2023-04-20T15:39:56.119Z"
   },
   {
    "duration": 19,
    "start_time": "2023-04-20T15:39:56.180Z"
   },
   {
    "duration": 132,
    "start_time": "2023-04-20T15:39:56.202Z"
   },
   {
    "duration": 324,
    "start_time": "2023-04-20T15:39:56.340Z"
   },
   {
    "duration": 9,
    "start_time": "2023-04-20T15:39:56.668Z"
   },
   {
    "duration": 130,
    "start_time": "2023-04-20T15:39:56.679Z"
   },
   {
    "duration": 573,
    "start_time": "2023-04-20T15:39:56.810Z"
   },
   {
    "duration": 8,
    "start_time": "2023-04-20T15:39:57.387Z"
   },
   {
    "duration": 183,
    "start_time": "2023-04-20T15:39:57.397Z"
   },
   {
    "duration": 348,
    "start_time": "2023-04-20T15:39:57.582Z"
   },
   {
    "duration": 10,
    "start_time": "2023-04-20T15:39:57.932Z"
   },
   {
    "duration": 157,
    "start_time": "2023-04-20T15:39:57.944Z"
   },
   {
    "duration": 353,
    "start_time": "2023-04-20T15:39:58.103Z"
   },
   {
    "duration": 12,
    "start_time": "2023-04-20T15:39:58.463Z"
   },
   {
    "duration": 152,
    "start_time": "2023-04-20T15:39:58.476Z"
   },
   {
    "duration": 353,
    "start_time": "2023-04-20T15:39:58.630Z"
   },
   {
    "duration": 9,
    "start_time": "2023-04-20T15:39:58.988Z"
   },
   {
    "duration": 163,
    "start_time": "2023-04-20T15:39:58.999Z"
   },
   {
    "duration": 331,
    "start_time": "2023-04-20T15:39:59.166Z"
   },
   {
    "duration": 9,
    "start_time": "2023-04-20T15:39:59.499Z"
   },
   {
    "duration": 55,
    "start_time": "2023-04-20T15:39:59.510Z"
   },
   {
    "duration": 31,
    "start_time": "2023-04-20T15:39:59.567Z"
   },
   {
    "duration": 8,
    "start_time": "2023-04-20T15:39:59.600Z"
   },
   {
    "duration": 15,
    "start_time": "2023-04-20T15:39:59.610Z"
   },
   {
    "duration": 124,
    "start_time": "2023-04-20T15:39:59.627Z"
   },
   {
    "duration": 430,
    "start_time": "2023-04-20T15:39:59.753Z"
   },
   {
    "duration": 34,
    "start_time": "2023-04-20T15:40:00.186Z"
   },
   {
    "duration": 79,
    "start_time": "2023-04-20T15:40:00.222Z"
   },
   {
    "duration": 217,
    "start_time": "2023-04-20T15:40:00.304Z"
   },
   {
    "duration": 189,
    "start_time": "2023-04-20T15:40:00.525Z"
   },
   {
    "duration": 175,
    "start_time": "2023-04-20T15:40:00.716Z"
   },
   {
    "duration": 5,
    "start_time": "2023-04-20T15:40:00.893Z"
   },
   {
    "duration": 229,
    "start_time": "2023-04-20T15:40:00.900Z"
   },
   {
    "duration": 255,
    "start_time": "2023-04-20T15:40:01.132Z"
   },
   {
    "duration": 164,
    "start_time": "2023-04-20T15:40:01.389Z"
   },
   {
    "duration": 4,
    "start_time": "2023-04-20T15:40:01.555Z"
   },
   {
    "duration": 47,
    "start_time": "2023-04-20T15:40:01.561Z"
   },
   {
    "duration": 199,
    "start_time": "2023-04-20T15:40:01.610Z"
   },
   {
    "duration": 136,
    "start_time": "2023-04-20T15:40:01.811Z"
   },
   {
    "duration": 172,
    "start_time": "2023-04-20T15:40:01.949Z"
   },
   {
    "duration": 11,
    "start_time": "2023-04-20T15:40:02.123Z"
   },
   {
    "duration": 73,
    "start_time": "2023-04-20T15:40:02.136Z"
   },
   {
    "duration": 115,
    "start_time": "2023-04-20T15:40:02.212Z"
   },
   {
    "duration": 102,
    "start_time": "2023-04-20T15:40:02.329Z"
   },
   {
    "duration": 4,
    "start_time": "2023-04-20T17:48:29.582Z"
   },
   {
    "duration": 1519,
    "start_time": "2023-04-20T17:48:29.588Z"
   },
   {
    "duration": 453,
    "start_time": "2023-04-20T17:48:31.109Z"
   },
   {
    "duration": 3,
    "start_time": "2023-04-20T17:48:31.565Z"
   },
   {
    "duration": 41,
    "start_time": "2023-04-20T17:48:31.570Z"
   },
   {
    "duration": 45,
    "start_time": "2023-04-20T17:48:31.614Z"
   },
   {
    "duration": 47,
    "start_time": "2023-04-20T17:48:31.662Z"
   },
   {
    "duration": 39,
    "start_time": "2023-04-20T17:48:31.710Z"
   },
   {
    "duration": 89,
    "start_time": "2023-04-20T17:48:31.751Z"
   },
   {
    "duration": 11,
    "start_time": "2023-04-20T17:48:31.843Z"
   },
   {
    "duration": 830,
    "start_time": "2023-04-20T17:48:31.856Z"
   },
   {
    "duration": 28,
    "start_time": "2023-04-20T17:48:32.688Z"
   },
   {
    "duration": 6,
    "start_time": "2023-04-20T17:48:32.718Z"
   },
   {
    "duration": 21,
    "start_time": "2023-04-20T17:48:32.726Z"
   },
   {
    "duration": 866,
    "start_time": "2023-04-20T17:48:32.748Z"
   },
   {
    "duration": 8,
    "start_time": "2023-04-20T17:48:33.615Z"
   },
   {
    "duration": 10,
    "start_time": "2023-04-20T17:48:33.625Z"
   },
   {
    "duration": 31,
    "start_time": "2023-04-20T17:48:33.636Z"
   },
   {
    "duration": 10,
    "start_time": "2023-04-20T17:48:33.668Z"
   },
   {
    "duration": 9,
    "start_time": "2023-04-20T17:48:33.680Z"
   },
   {
    "duration": 23,
    "start_time": "2023-04-20T17:48:33.691Z"
   },
   {
    "duration": 109,
    "start_time": "2023-04-20T17:48:33.715Z"
   },
   {
    "duration": 7,
    "start_time": "2023-04-20T17:48:33.826Z"
   },
   {
    "duration": 8,
    "start_time": "2023-04-20T17:48:33.836Z"
   },
   {
    "duration": 8,
    "start_time": "2023-04-20T17:48:33.846Z"
   },
   {
    "duration": 7,
    "start_time": "2023-04-20T17:48:33.855Z"
   },
   {
    "duration": 13,
    "start_time": "2023-04-20T17:48:33.864Z"
   },
   {
    "duration": 6,
    "start_time": "2023-04-20T17:48:33.913Z"
   },
   {
    "duration": 7,
    "start_time": "2023-04-20T17:48:33.920Z"
   },
   {
    "duration": 14,
    "start_time": "2023-04-20T17:48:33.928Z"
   },
   {
    "duration": 18,
    "start_time": "2023-04-20T17:48:33.944Z"
   },
   {
    "duration": 48,
    "start_time": "2023-04-20T17:48:33.964Z"
   },
   {
    "duration": 14,
    "start_time": "2023-04-20T17:48:34.013Z"
   },
   {
    "duration": 100,
    "start_time": "2023-04-20T17:48:34.028Z"
   },
   {
    "duration": 6,
    "start_time": "2023-04-20T17:48:34.129Z"
   },
   {
    "duration": 540,
    "start_time": "2023-04-20T17:48:34.136Z"
   },
   {
    "duration": 10,
    "start_time": "2023-04-20T17:48:34.678Z"
   },
   {
    "duration": 6,
    "start_time": "2023-04-20T17:48:34.689Z"
   },
   {
    "duration": 237,
    "start_time": "2023-04-20T17:48:34.696Z"
   },
   {
    "duration": 8,
    "start_time": "2023-04-20T17:48:34.934Z"
   },
   {
    "duration": 4,
    "start_time": "2023-04-20T17:48:34.943Z"
   },
   {
    "duration": 13,
    "start_time": "2023-04-20T17:48:34.949Z"
   },
   {
    "duration": 8,
    "start_time": "2023-04-20T17:48:34.964Z"
   },
   {
    "duration": 214,
    "start_time": "2023-04-20T17:48:34.974Z"
   },
   {
    "duration": 5,
    "start_time": "2023-04-20T17:48:35.191Z"
   },
   {
    "duration": 16,
    "start_time": "2023-04-20T17:48:35.199Z"
   },
   {
    "duration": 3,
    "start_time": "2023-04-20T17:48:35.217Z"
   },
   {
    "duration": 3,
    "start_time": "2023-04-20T17:59:27.113Z"
   },
   {
    "duration": 1416,
    "start_time": "2023-04-20T17:59:27.118Z"
   },
   {
    "duration": 481,
    "start_time": "2023-04-20T17:59:28.536Z"
   },
   {
    "duration": 4,
    "start_time": "2023-04-20T17:59:29.018Z"
   },
   {
    "duration": 20,
    "start_time": "2023-04-20T17:59:29.024Z"
   },
   {
    "duration": 15,
    "start_time": "2023-04-20T17:59:29.046Z"
   },
   {
    "duration": 3,
    "start_time": "2023-04-20T17:59:29.063Z"
   },
   {
    "duration": 7,
    "start_time": "2023-04-20T17:59:29.067Z"
   },
   {
    "duration": 59,
    "start_time": "2023-04-20T17:59:29.090Z"
   },
   {
    "duration": 9,
    "start_time": "2023-04-20T17:59:29.151Z"
   },
   {
    "duration": 880,
    "start_time": "2023-04-20T17:59:29.161Z"
   },
   {
    "duration": 11,
    "start_time": "2023-04-20T17:59:30.043Z"
   },
   {
    "duration": 17,
    "start_time": "2023-04-20T17:59:30.055Z"
   },
   {
    "duration": 28,
    "start_time": "2023-04-20T17:59:30.076Z"
   },
   {
    "duration": 932,
    "start_time": "2023-04-20T17:59:30.105Z"
   },
   {
    "duration": 8,
    "start_time": "2023-04-20T17:59:31.039Z"
   },
   {
    "duration": 38,
    "start_time": "2023-04-20T17:59:31.049Z"
   },
   {
    "duration": 37,
    "start_time": "2023-04-20T17:59:31.089Z"
   },
   {
    "duration": 32,
    "start_time": "2023-04-20T17:59:31.128Z"
   },
   {
    "duration": 39,
    "start_time": "2023-04-20T17:59:31.163Z"
   },
   {
    "duration": 23,
    "start_time": "2023-04-20T17:59:31.203Z"
   },
   {
    "duration": 123,
    "start_time": "2023-04-20T17:59:31.228Z"
   },
   {
    "duration": 6,
    "start_time": "2023-04-20T17:59:31.354Z"
   },
   {
    "duration": 26,
    "start_time": "2023-04-20T17:59:31.362Z"
   },
   {
    "duration": 37,
    "start_time": "2023-04-20T17:59:31.390Z"
   },
   {
    "duration": 29,
    "start_time": "2023-04-20T17:59:31.429Z"
   },
   {
    "duration": 34,
    "start_time": "2023-04-20T17:59:31.460Z"
   },
   {
    "duration": 12,
    "start_time": "2023-04-20T17:59:31.497Z"
   },
   {
    "duration": 19,
    "start_time": "2023-04-20T17:59:31.511Z"
   },
   {
    "duration": 39,
    "start_time": "2023-04-20T17:59:31.532Z"
   },
   {
    "duration": 50,
    "start_time": "2023-04-20T17:59:31.573Z"
   },
   {
    "duration": 16,
    "start_time": "2023-04-20T17:59:31.625Z"
   },
   {
    "duration": 37,
    "start_time": "2023-04-20T17:59:31.644Z"
   },
   {
    "duration": 83,
    "start_time": "2023-04-20T17:59:31.683Z"
   },
   {
    "duration": 7,
    "start_time": "2023-04-20T17:59:31.767Z"
   },
   {
    "duration": 558,
    "start_time": "2023-04-20T17:59:31.776Z"
   },
   {
    "duration": 9,
    "start_time": "2023-04-20T17:59:32.336Z"
   },
   {
    "duration": 12,
    "start_time": "2023-04-20T17:59:32.347Z"
   },
   {
    "duration": 256,
    "start_time": "2023-04-20T17:59:32.361Z"
   },
   {
    "duration": 7,
    "start_time": "2023-04-20T17:59:32.619Z"
   },
   {
    "duration": 14,
    "start_time": "2023-04-20T17:59:32.631Z"
   },
   {
    "duration": 12,
    "start_time": "2023-04-20T17:59:32.647Z"
   },
   {
    "duration": 9,
    "start_time": "2023-04-20T17:59:32.661Z"
   },
   {
    "duration": 192,
    "start_time": "2023-04-20T17:59:32.690Z"
   },
   {
    "duration": 6,
    "start_time": "2023-04-20T17:59:32.884Z"
   },
   {
    "duration": 5,
    "start_time": "2023-04-20T17:59:32.891Z"
   },
   {
    "duration": 4,
    "start_time": "2023-04-20T17:59:32.898Z"
   },
   {
    "duration": 126,
    "start_time": "2023-04-20T17:59:32.903Z"
   },
   {
    "duration": 317,
    "start_time": "2023-04-20T17:59:33.031Z"
   },
   {
    "duration": 8,
    "start_time": "2023-04-20T17:59:33.350Z"
   },
   {
    "duration": 119,
    "start_time": "2023-04-20T17:59:33.360Z"
   },
   {
    "duration": 411,
    "start_time": "2023-04-20T17:59:33.489Z"
   },
   {
    "duration": 9,
    "start_time": "2023-04-20T17:59:33.902Z"
   },
   {
    "duration": 140,
    "start_time": "2023-04-20T17:59:33.913Z"
   },
   {
    "duration": 293,
    "start_time": "2023-04-20T17:59:34.054Z"
   },
   {
    "duration": 7,
    "start_time": "2023-04-20T17:59:34.349Z"
   },
   {
    "duration": 126,
    "start_time": "2023-04-20T17:59:34.357Z"
   },
   {
    "duration": 304,
    "start_time": "2023-04-20T17:59:34.489Z"
   },
   {
    "duration": 8,
    "start_time": "2023-04-20T17:59:34.794Z"
   },
   {
    "duration": 122,
    "start_time": "2023-04-20T17:59:34.804Z"
   },
   {
    "duration": 295,
    "start_time": "2023-04-20T17:59:34.927Z"
   },
   {
    "duration": 7,
    "start_time": "2023-04-20T17:59:35.224Z"
   },
   {
    "duration": 122,
    "start_time": "2023-04-20T17:59:35.233Z"
   },
   {
    "duration": 294,
    "start_time": "2023-04-20T17:59:35.356Z"
   },
   {
    "duration": 9,
    "start_time": "2023-04-20T17:59:35.653Z"
   },
   {
    "duration": 44,
    "start_time": "2023-04-20T17:59:35.664Z"
   },
   {
    "duration": 11,
    "start_time": "2023-04-20T17:59:35.710Z"
   },
   {
    "duration": 6,
    "start_time": "2023-04-20T17:59:35.722Z"
   },
   {
    "duration": 7,
    "start_time": "2023-04-20T17:59:35.729Z"
   },
   {
    "duration": 129,
    "start_time": "2023-04-20T17:59:35.738Z"
   },
   {
    "duration": 362,
    "start_time": "2023-04-20T17:59:35.869Z"
   },
   {
    "duration": 16,
    "start_time": "2023-04-20T17:59:36.234Z"
   },
   {
    "duration": 5,
    "start_time": "2023-04-20T17:59:36.253Z"
   },
   {
    "duration": 152,
    "start_time": "2023-04-20T17:59:36.260Z"
   },
   {
    "duration": 138,
    "start_time": "2023-04-20T17:59:36.414Z"
   },
   {
    "duration": 135,
    "start_time": "2023-04-20T17:59:36.554Z"
   },
   {
    "duration": 4,
    "start_time": "2023-04-20T17:59:36.691Z"
   },
   {
    "duration": 153,
    "start_time": "2023-04-20T17:59:36.697Z"
   },
   {
    "duration": 151,
    "start_time": "2023-04-20T17:59:36.851Z"
   },
   {
    "duration": 137,
    "start_time": "2023-04-20T17:59:37.004Z"
   },
   {
    "duration": 4,
    "start_time": "2023-04-20T17:59:37.143Z"
   },
   {
    "duration": 11,
    "start_time": "2023-04-20T17:59:37.149Z"
   },
   {
    "duration": 134,
    "start_time": "2023-04-20T17:59:37.161Z"
   },
   {
    "duration": 127,
    "start_time": "2023-04-20T17:59:37.297Z"
   },
   {
    "duration": 146,
    "start_time": "2023-04-20T17:59:37.425Z"
   },
   {
    "duration": 8,
    "start_time": "2023-04-20T17:59:37.574Z"
   },
   {
    "duration": 9,
    "start_time": "2023-04-20T17:59:37.590Z"
   },
   {
    "duration": 10,
    "start_time": "2023-04-20T17:59:37.601Z"
   },
   {
    "duration": 5,
    "start_time": "2023-04-20T17:59:37.613Z"
   },
   {
    "duration": 18,
    "start_time": "2023-04-20T18:04:31.187Z"
   },
   {
    "duration": 19,
    "start_time": "2023-04-20T18:05:23.774Z"
   },
   {
    "duration": 9,
    "start_time": "2023-04-20T18:05:37.978Z"
   },
   {
    "duration": 4,
    "start_time": "2023-04-20T18:06:10.741Z"
   },
   {
    "duration": 82,
    "start_time": "2023-04-20T18:11:54.446Z"
   },
   {
    "duration": 7,
    "start_time": "2023-04-20T18:20:42.130Z"
   },
   {
    "duration": 5,
    "start_time": "2023-04-20T18:20:48.670Z"
   },
   {
    "duration": 1256,
    "start_time": "2023-04-20T18:20:48.677Z"
   },
   {
    "duration": 55,
    "start_time": "2023-04-20T18:20:49.935Z"
   },
   {
    "duration": 4,
    "start_time": "2023-04-20T18:20:49.992Z"
   },
   {
    "duration": 22,
    "start_time": "2023-04-20T18:20:49.999Z"
   },
   {
    "duration": 23,
    "start_time": "2023-04-20T18:20:50.023Z"
   },
   {
    "duration": 53,
    "start_time": "2023-04-20T18:20:50.049Z"
   },
   {
    "duration": 30,
    "start_time": "2023-04-20T18:20:50.104Z"
   },
   {
    "duration": 98,
    "start_time": "2023-04-20T18:20:50.136Z"
   },
   {
    "duration": 17,
    "start_time": "2023-04-20T18:20:50.237Z"
   },
   {
    "duration": 976,
    "start_time": "2023-04-20T18:20:50.257Z"
   },
   {
    "duration": 15,
    "start_time": "2023-04-20T18:20:51.236Z"
   },
   {
    "duration": 14,
    "start_time": "2023-04-20T18:20:51.253Z"
   },
   {
    "duration": 53,
    "start_time": "2023-04-20T18:20:51.273Z"
   },
   {
    "duration": 1005,
    "start_time": "2023-04-20T18:20:51.328Z"
   },
   {
    "duration": 11,
    "start_time": "2023-04-20T18:20:52.335Z"
   },
   {
    "duration": 20,
    "start_time": "2023-04-20T18:20:52.348Z"
   },
   {
    "duration": 26,
    "start_time": "2023-04-20T18:20:52.370Z"
   },
   {
    "duration": 16,
    "start_time": "2023-04-20T18:20:52.399Z"
   },
   {
    "duration": 10,
    "start_time": "2023-04-20T18:20:52.417Z"
   },
   {
    "duration": 15,
    "start_time": "2023-04-20T18:20:52.429Z"
   },
   {
    "duration": 121,
    "start_time": "2023-04-20T18:20:52.446Z"
   },
   {
    "duration": 19,
    "start_time": "2023-04-20T18:20:52.570Z"
   },
   {
    "duration": 9,
    "start_time": "2023-04-20T18:20:52.592Z"
   },
   {
    "duration": 9,
    "start_time": "2023-04-20T18:20:52.603Z"
   },
   {
    "duration": 9,
    "start_time": "2023-04-20T18:20:52.614Z"
   },
   {
    "duration": 10,
    "start_time": "2023-04-20T18:20:52.626Z"
   },
   {
    "duration": 11,
    "start_time": "2023-04-20T18:20:52.638Z"
   },
   {
    "duration": 45,
    "start_time": "2023-04-20T18:20:52.651Z"
   },
   {
    "duration": 18,
    "start_time": "2023-04-20T18:20:52.698Z"
   },
   {
    "duration": 22,
    "start_time": "2023-04-20T18:20:52.718Z"
   },
   {
    "duration": 11,
    "start_time": "2023-04-20T18:20:52.741Z"
   },
   {
    "duration": 46,
    "start_time": "2023-04-20T18:20:52.754Z"
   },
   {
    "duration": 91,
    "start_time": "2023-04-20T18:20:52.802Z"
   },
   {
    "duration": 8,
    "start_time": "2023-04-20T18:20:52.894Z"
   },
   {
    "duration": 10,
    "start_time": "2023-04-20T18:20:52.904Z"
   },
   {
    "duration": 9,
    "start_time": "2023-04-20T18:20:52.916Z"
   },
   {
    "duration": 584,
    "start_time": "2023-04-20T18:20:52.926Z"
   },
   {
    "duration": 12,
    "start_time": "2023-04-20T18:20:53.513Z"
   },
   {
    "duration": 8,
    "start_time": "2023-04-20T18:20:53.527Z"
   },
   {
    "duration": 264,
    "start_time": "2023-04-20T18:20:53.541Z"
   },
   {
    "duration": 6,
    "start_time": "2023-04-20T18:20:53.807Z"
   },
   {
    "duration": 12,
    "start_time": "2023-04-20T18:20:53.815Z"
   },
   {
    "duration": 14,
    "start_time": "2023-04-20T18:20:53.829Z"
   },
   {
    "duration": 9,
    "start_time": "2023-04-20T18:20:53.845Z"
   },
   {
    "duration": 206,
    "start_time": "2023-04-20T18:20:53.856Z"
   },
   {
    "duration": 5,
    "start_time": "2023-04-20T18:20:54.063Z"
   },
   {
    "duration": 5,
    "start_time": "2023-04-20T18:20:54.069Z"
   },
   {
    "duration": 15,
    "start_time": "2023-04-20T18:20:54.076Z"
   },
   {
    "duration": 118,
    "start_time": "2023-04-20T18:20:54.093Z"
   },
   {
    "duration": 291,
    "start_time": "2023-04-20T18:20:54.213Z"
   },
   {
    "duration": 10,
    "start_time": "2023-04-20T18:20:54.506Z"
   },
   {
    "duration": 135,
    "start_time": "2023-04-20T18:20:54.518Z"
   },
   {
    "duration": 410,
    "start_time": "2023-04-20T18:20:54.655Z"
   },
   {
    "duration": 9,
    "start_time": "2023-04-20T18:20:55.066Z"
   },
   {
    "duration": 134,
    "start_time": "2023-04-20T18:20:55.076Z"
   },
   {
    "duration": 317,
    "start_time": "2023-04-20T18:20:55.212Z"
   },
   {
    "duration": 11,
    "start_time": "2023-04-20T18:20:55.530Z"
   },
   {
    "duration": 126,
    "start_time": "2023-04-20T18:20:55.543Z"
   },
   {
    "duration": 302,
    "start_time": "2023-04-20T18:20:55.671Z"
   },
   {
    "duration": 16,
    "start_time": "2023-04-20T18:20:55.974Z"
   },
   {
    "duration": 120,
    "start_time": "2023-04-20T18:20:55.992Z"
   },
   {
    "duration": 279,
    "start_time": "2023-04-20T18:20:56.114Z"
   },
   {
    "duration": 7,
    "start_time": "2023-04-20T18:20:56.395Z"
   },
   {
    "duration": 121,
    "start_time": "2023-04-20T18:20:56.404Z"
   },
   {
    "duration": 303,
    "start_time": "2023-04-20T18:20:56.527Z"
   },
   {
    "duration": 8,
    "start_time": "2023-04-20T18:20:56.832Z"
   },
   {
    "duration": 47,
    "start_time": "2023-04-20T18:20:56.843Z"
   },
   {
    "duration": 11,
    "start_time": "2023-04-20T18:20:56.892Z"
   },
   {
    "duration": 7,
    "start_time": "2023-04-20T18:20:56.905Z"
   },
   {
    "duration": 7,
    "start_time": "2023-04-20T18:20:56.913Z"
   },
   {
    "duration": 131,
    "start_time": "2023-04-20T18:20:56.921Z"
   },
   {
    "duration": 371,
    "start_time": "2023-04-20T18:20:57.055Z"
   },
   {
    "duration": 17,
    "start_time": "2023-04-20T18:20:57.428Z"
   },
   {
    "duration": 13,
    "start_time": "2023-04-20T18:20:57.447Z"
   },
   {
    "duration": 151,
    "start_time": "2023-04-20T18:20:57.462Z"
   },
   {
    "duration": 140,
    "start_time": "2023-04-20T18:20:57.615Z"
   },
   {
    "duration": 160,
    "start_time": "2023-04-20T18:20:57.757Z"
   },
   {
    "duration": 5,
    "start_time": "2023-04-20T18:20:57.919Z"
   },
   {
    "duration": 149,
    "start_time": "2023-04-20T18:20:57.926Z"
   },
   {
    "duration": 152,
    "start_time": "2023-04-20T18:20:58.077Z"
   },
   {
    "duration": 152,
    "start_time": "2023-04-20T18:20:58.232Z"
   },
   {
    "duration": 5,
    "start_time": "2023-04-20T18:20:58.389Z"
   },
   {
    "duration": 11,
    "start_time": "2023-04-20T18:20:58.396Z"
   },
   {
    "duration": 140,
    "start_time": "2023-04-20T18:20:58.409Z"
   },
   {
    "duration": 135,
    "start_time": "2023-04-20T18:20:58.550Z"
   },
   {
    "duration": 131,
    "start_time": "2023-04-20T18:20:58.688Z"
   },
   {
    "duration": 9,
    "start_time": "2023-04-20T18:20:58.821Z"
   },
   {
    "duration": 6,
    "start_time": "2023-04-20T18:20:58.831Z"
   },
   {
    "duration": 10,
    "start_time": "2023-04-20T18:20:58.839Z"
   },
   {
    "duration": 7,
    "start_time": "2023-04-20T18:20:58.851Z"
   },
   {
    "duration": 304,
    "start_time": "2023-04-20T18:21:59.443Z"
   },
   {
    "duration": 154,
    "start_time": "2023-04-20T18:52:00.997Z"
   },
   {
    "duration": 215,
    "start_time": "2023-04-20T18:57:24.658Z"
   },
   {
    "duration": 115,
    "start_time": "2023-04-20T18:57:35.258Z"
   },
   {
    "duration": 184,
    "start_time": "2023-04-20T18:57:50.674Z"
   },
   {
    "duration": 194,
    "start_time": "2023-04-20T19:18:43.444Z"
   },
   {
    "duration": 183,
    "start_time": "2023-04-20T19:19:08.454Z"
   },
   {
    "duration": 192,
    "start_time": "2023-04-20T19:19:52.287Z"
   },
   {
    "duration": 174,
    "start_time": "2023-04-20T19:20:45.653Z"
   },
   {
    "duration": 189,
    "start_time": "2023-04-20T19:20:55.507Z"
   },
   {
    "duration": 218,
    "start_time": "2023-04-20T19:21:31.619Z"
   },
   {
    "duration": 241,
    "start_time": "2023-04-20T19:21:43.667Z"
   },
   {
    "duration": 209,
    "start_time": "2023-04-20T19:21:48.842Z"
   },
   {
    "duration": 203,
    "start_time": "2023-04-20T19:21:59.012Z"
   },
   {
    "duration": 211,
    "start_time": "2023-04-20T19:22:55.203Z"
   },
   {
    "duration": 213,
    "start_time": "2023-04-20T19:23:37.977Z"
   },
   {
    "duration": 211,
    "start_time": "2023-04-20T19:23:59.650Z"
   },
   {
    "duration": 211,
    "start_time": "2023-04-20T19:25:11.126Z"
   },
   {
    "duration": 208,
    "start_time": "2023-04-20T19:29:17.644Z"
   },
   {
    "duration": 7,
    "start_time": "2023-04-20T19:33:43.275Z"
   },
   {
    "duration": 6,
    "start_time": "2023-04-20T19:33:47.812Z"
   },
   {
    "duration": 6,
    "start_time": "2023-04-20T19:34:05.694Z"
   },
   {
    "duration": 9,
    "start_time": "2023-04-20T19:34:09.334Z"
   },
   {
    "duration": 8,
    "start_time": "2023-04-20T19:34:21.789Z"
   },
   {
    "duration": 7,
    "start_time": "2023-04-20T19:34:28.924Z"
   },
   {
    "duration": 8,
    "start_time": "2023-04-20T19:34:36.612Z"
   },
   {
    "duration": 7,
    "start_time": "2023-04-20T19:35:12.495Z"
   },
   {
    "duration": 12,
    "start_time": "2023-04-20T19:36:23.787Z"
   },
   {
    "duration": 183,
    "start_time": "2023-04-20T19:36:33.936Z"
   },
   {
    "duration": 143,
    "start_time": "2023-04-20T19:38:18.847Z"
   },
   {
    "duration": 198,
    "start_time": "2023-04-20T19:38:30.147Z"
   },
   {
    "duration": 4,
    "start_time": "2023-04-20T19:46:43.716Z"
   },
   {
    "duration": 1290,
    "start_time": "2023-04-20T19:46:43.722Z"
   },
   {
    "duration": 58,
    "start_time": "2023-04-20T19:46:45.014Z"
   },
   {
    "duration": 4,
    "start_time": "2023-04-20T19:46:45.074Z"
   },
   {
    "duration": 33,
    "start_time": "2023-04-20T19:46:45.080Z"
   },
   {
    "duration": 16,
    "start_time": "2023-04-20T19:46:45.115Z"
   },
   {
    "duration": 23,
    "start_time": "2023-04-20T19:46:45.132Z"
   },
   {
    "duration": 10,
    "start_time": "2023-04-20T19:46:45.157Z"
   },
   {
    "duration": 60,
    "start_time": "2023-04-20T19:46:45.168Z"
   },
   {
    "duration": 11,
    "start_time": "2023-04-20T19:46:45.231Z"
   },
   {
    "duration": 933,
    "start_time": "2023-04-20T19:46:45.244Z"
   },
   {
    "duration": 16,
    "start_time": "2023-04-20T19:46:46.179Z"
   },
   {
    "duration": 6,
    "start_time": "2023-04-20T19:46:46.196Z"
   },
   {
    "duration": 18,
    "start_time": "2023-04-20T19:46:46.204Z"
   },
   {
    "duration": 934,
    "start_time": "2023-04-20T19:46:46.224Z"
   },
   {
    "duration": 8,
    "start_time": "2023-04-20T19:46:47.159Z"
   },
   {
    "duration": 24,
    "start_time": "2023-04-20T19:46:47.169Z"
   },
   {
    "duration": 9,
    "start_time": "2023-04-20T19:46:47.195Z"
   },
   {
    "duration": 9,
    "start_time": "2023-04-20T19:46:47.206Z"
   },
   {
    "duration": 10,
    "start_time": "2023-04-20T19:46:47.216Z"
   },
   {
    "duration": 5,
    "start_time": "2023-04-20T19:46:47.228Z"
   },
   {
    "duration": 132,
    "start_time": "2023-04-20T19:46:47.236Z"
   },
   {
    "duration": 19,
    "start_time": "2023-04-20T19:46:47.370Z"
   },
   {
    "duration": 7,
    "start_time": "2023-04-20T19:46:47.391Z"
   },
   {
    "duration": 12,
    "start_time": "2023-04-20T19:46:47.400Z"
   },
   {
    "duration": 7,
    "start_time": "2023-04-20T19:46:47.414Z"
   },
   {
    "duration": 7,
    "start_time": "2023-04-20T19:46:47.423Z"
   },
   {
    "duration": 4,
    "start_time": "2023-04-20T19:46:47.435Z"
   },
   {
    "duration": 8,
    "start_time": "2023-04-20T19:46:47.441Z"
   },
   {
    "duration": 51,
    "start_time": "2023-04-20T19:46:47.451Z"
   },
   {
    "duration": 23,
    "start_time": "2023-04-20T19:46:47.504Z"
   },
   {
    "duration": 12,
    "start_time": "2023-04-20T19:46:47.529Z"
   },
   {
    "duration": 47,
    "start_time": "2023-04-20T19:46:47.543Z"
   },
   {
    "duration": 84,
    "start_time": "2023-04-20T19:46:47.593Z"
   },
   {
    "duration": 9,
    "start_time": "2023-04-20T19:46:47.688Z"
   },
   {
    "duration": 14,
    "start_time": "2023-04-20T19:46:47.699Z"
   },
   {
    "duration": 12,
    "start_time": "2023-04-20T19:46:47.714Z"
   },
   {
    "duration": 566,
    "start_time": "2023-04-20T19:46:47.728Z"
   },
   {
    "duration": 11,
    "start_time": "2023-04-20T19:46:48.297Z"
   },
   {
    "duration": 10,
    "start_time": "2023-04-20T19:46:48.310Z"
   },
   {
    "duration": 263,
    "start_time": "2023-04-20T19:46:48.322Z"
   },
   {
    "duration": 8,
    "start_time": "2023-04-20T19:46:48.589Z"
   },
   {
    "duration": 4,
    "start_time": "2023-04-20T19:46:48.599Z"
   },
   {
    "duration": 232,
    "start_time": "2023-04-20T19:46:48.605Z"
   },
   {
    "duration": 4,
    "start_time": "2023-04-20T19:46:48.839Z"
   },
   {
    "duration": 25,
    "start_time": "2023-04-20T19:46:48.845Z"
   },
   {
    "duration": 310,
    "start_time": "2023-04-20T19:46:48.872Z"
   },
   {
    "duration": 13,
    "start_time": "2023-04-20T19:46:49.183Z"
   },
   {
    "duration": 329,
    "start_time": "2023-04-20T19:46:49.198Z"
   },
   {
    "duration": 8,
    "start_time": "2023-04-20T19:46:49.528Z"
   },
   {
    "duration": 481,
    "start_time": "2023-04-20T19:46:49.538Z"
   },
   {
    "duration": 8,
    "start_time": "2023-04-20T19:46:50.021Z"
   },
   {
    "duration": 365,
    "start_time": "2023-04-20T19:46:50.031Z"
   },
   {
    "duration": 10,
    "start_time": "2023-04-20T19:46:50.399Z"
   },
   {
    "duration": 351,
    "start_time": "2023-04-20T19:46:50.411Z"
   },
   {
    "duration": 8,
    "start_time": "2023-04-20T19:46:50.765Z"
   },
   {
    "duration": 354,
    "start_time": "2023-04-20T19:46:50.775Z"
   },
   {
    "duration": 9,
    "start_time": "2023-04-20T19:46:51.132Z"
   },
   {
    "duration": 50,
    "start_time": "2023-04-20T19:46:51.143Z"
   },
   {
    "duration": 11,
    "start_time": "2023-04-20T19:46:51.195Z"
   },
   {
    "duration": 20,
    "start_time": "2023-04-20T19:46:51.209Z"
   },
   {
    "duration": 245,
    "start_time": "2023-04-20T19:46:51.231Z"
   },
   {
    "duration": 21,
    "start_time": "2023-04-20T19:46:51.478Z"
   },
   {
    "duration": 43,
    "start_time": "2023-04-20T19:46:51.501Z"
   },
   {
    "duration": 216,
    "start_time": "2023-04-20T19:46:51.546Z"
   },
   {
    "duration": 162,
    "start_time": "2023-04-20T19:46:51.764Z"
   },
   {
    "duration": 188,
    "start_time": "2023-04-20T19:46:51.928Z"
   },
   {
    "duration": 5,
    "start_time": "2023-04-20T19:46:52.117Z"
   },
   {
    "duration": 196,
    "start_time": "2023-04-20T19:46:52.124Z"
   },
   {
    "duration": 276,
    "start_time": "2023-04-20T19:46:52.323Z"
   },
   {
    "duration": 179,
    "start_time": "2023-04-20T19:46:52.601Z"
   },
   {
    "duration": 10,
    "start_time": "2023-04-20T19:46:52.782Z"
   },
   {
    "duration": 9,
    "start_time": "2023-04-20T19:46:52.793Z"
   },
   {
    "duration": 162,
    "start_time": "2023-04-20T19:46:52.804Z"
   },
   {
    "duration": 148,
    "start_time": "2023-04-20T19:46:52.968Z"
   },
   {
    "duration": 147,
    "start_time": "2023-04-20T19:46:53.118Z"
   },
   {
    "duration": 8,
    "start_time": "2023-04-20T19:46:53.268Z"
   },
   {
    "duration": 7,
    "start_time": "2023-04-20T19:46:53.290Z"
   },
   {
    "duration": 32,
    "start_time": "2023-04-20T19:46:53.299Z"
   },
   {
    "duration": 22,
    "start_time": "2023-04-20T19:46:53.333Z"
   },
   {
    "duration": 7,
    "start_time": "2023-04-20T19:53:33.345Z"
   },
   {
    "duration": 7,
    "start_time": "2023-04-20T19:53:51.693Z"
   },
   {
    "duration": 3,
    "start_time": "2023-04-20T20:16:23.079Z"
   },
   {
    "duration": 1256,
    "start_time": "2023-04-20T20:16:23.084Z"
   },
   {
    "duration": 58,
    "start_time": "2023-04-20T20:16:24.342Z"
   },
   {
    "duration": 3,
    "start_time": "2023-04-20T20:16:24.402Z"
   },
   {
    "duration": 23,
    "start_time": "2023-04-20T20:16:24.408Z"
   },
   {
    "duration": 38,
    "start_time": "2023-04-20T20:16:24.432Z"
   },
   {
    "duration": 12,
    "start_time": "2023-04-20T20:16:24.471Z"
   },
   {
    "duration": 20,
    "start_time": "2023-04-20T20:16:24.484Z"
   },
   {
    "duration": 76,
    "start_time": "2023-04-20T20:16:24.506Z"
   },
   {
    "duration": 11,
    "start_time": "2023-04-20T20:16:24.583Z"
   },
   {
    "duration": 935,
    "start_time": "2023-04-20T20:16:24.596Z"
   },
   {
    "duration": 12,
    "start_time": "2023-04-20T20:16:25.533Z"
   },
   {
    "duration": 26,
    "start_time": "2023-04-20T20:16:25.546Z"
   },
   {
    "duration": 23,
    "start_time": "2023-04-20T20:16:25.576Z"
   },
   {
    "duration": 895,
    "start_time": "2023-04-20T20:16:25.601Z"
   },
   {
    "duration": 7,
    "start_time": "2023-04-20T20:16:26.497Z"
   },
   {
    "duration": 37,
    "start_time": "2023-04-20T20:16:26.506Z"
   },
   {
    "duration": 22,
    "start_time": "2023-04-20T20:16:26.545Z"
   },
   {
    "duration": 16,
    "start_time": "2023-04-20T20:16:26.569Z"
   },
   {
    "duration": 26,
    "start_time": "2023-04-20T20:16:26.587Z"
   },
   {
    "duration": 24,
    "start_time": "2023-04-20T20:16:26.615Z"
   },
   {
    "duration": 126,
    "start_time": "2023-04-20T20:16:26.640Z"
   },
   {
    "duration": 6,
    "start_time": "2023-04-20T20:16:26.768Z"
   },
   {
    "duration": 17,
    "start_time": "2023-04-20T20:16:26.775Z"
   },
   {
    "duration": 27,
    "start_time": "2023-04-20T20:16:26.793Z"
   },
   {
    "duration": 17,
    "start_time": "2023-04-20T20:16:26.821Z"
   },
   {
    "duration": 15,
    "start_time": "2023-04-20T20:16:26.840Z"
   },
   {
    "duration": 23,
    "start_time": "2023-04-20T20:16:26.857Z"
   },
   {
    "duration": 12,
    "start_time": "2023-04-20T20:16:26.882Z"
   },
   {
    "duration": 21,
    "start_time": "2023-04-20T20:16:26.895Z"
   },
   {
    "duration": 19,
    "start_time": "2023-04-20T20:16:26.918Z"
   },
   {
    "duration": 19,
    "start_time": "2023-04-20T20:16:26.939Z"
   },
   {
    "duration": 26,
    "start_time": "2023-04-20T20:16:26.960Z"
   },
   {
    "duration": 92,
    "start_time": "2023-04-20T20:16:26.988Z"
   },
   {
    "duration": 10,
    "start_time": "2023-04-20T20:16:27.082Z"
   },
   {
    "duration": 16,
    "start_time": "2023-04-20T20:16:27.094Z"
   },
   {
    "duration": 27,
    "start_time": "2023-04-20T20:16:27.112Z"
   },
   {
    "duration": 540,
    "start_time": "2023-04-20T20:16:27.141Z"
   },
   {
    "duration": 9,
    "start_time": "2023-04-20T20:16:27.683Z"
   },
   {
    "duration": 16,
    "start_time": "2023-04-20T20:16:27.693Z"
   },
   {
    "duration": 278,
    "start_time": "2023-04-20T20:16:27.714Z"
   },
   {
    "duration": 7,
    "start_time": "2023-04-20T20:16:27.994Z"
   },
   {
    "duration": 13,
    "start_time": "2023-04-20T20:16:28.003Z"
   },
   {
    "duration": 32,
    "start_time": "2023-04-20T20:16:28.018Z"
   },
   {
    "duration": 233,
    "start_time": "2023-04-20T20:16:28.052Z"
   },
   {
    "duration": 6,
    "start_time": "2023-04-20T20:16:28.288Z"
   },
   {
    "duration": 19,
    "start_time": "2023-04-20T20:16:28.295Z"
   },
   {
    "duration": 320,
    "start_time": "2023-04-20T20:16:28.316Z"
   },
   {
    "duration": 9,
    "start_time": "2023-04-20T20:16:28.637Z"
   },
   {
    "duration": 341,
    "start_time": "2023-04-20T20:16:28.648Z"
   },
   {
    "duration": 8,
    "start_time": "2023-04-20T20:16:28.991Z"
   },
   {
    "duration": 478,
    "start_time": "2023-04-20T20:16:29.000Z"
   },
   {
    "duration": 15,
    "start_time": "2023-04-20T20:16:29.479Z"
   },
   {
    "duration": 352,
    "start_time": "2023-04-20T20:16:29.496Z"
   },
   {
    "duration": 9,
    "start_time": "2023-04-20T20:16:29.850Z"
   },
   {
    "duration": 314,
    "start_time": "2023-04-20T20:16:29.861Z"
   },
   {
    "duration": 13,
    "start_time": "2023-04-20T20:16:30.177Z"
   },
   {
    "duration": 341,
    "start_time": "2023-04-20T20:16:30.192Z"
   },
   {
    "duration": 11,
    "start_time": "2023-04-20T20:16:30.535Z"
   },
   {
    "duration": 66,
    "start_time": "2023-04-20T20:16:30.549Z"
   },
   {
    "duration": 52,
    "start_time": "2023-04-20T20:16:30.617Z"
   },
   {
    "duration": 45,
    "start_time": "2023-04-20T20:16:30.672Z"
   },
   {
    "duration": 273,
    "start_time": "2023-04-20T20:16:30.720Z"
   },
   {
    "duration": 17,
    "start_time": "2023-04-20T20:16:30.994Z"
   },
   {
    "duration": 33,
    "start_time": "2023-04-20T20:16:31.013Z"
   },
   {
    "duration": 186,
    "start_time": "2023-04-20T20:16:31.048Z"
   },
   {
    "duration": 155,
    "start_time": "2023-04-20T20:16:31.236Z"
   },
   {
    "duration": 165,
    "start_time": "2023-04-20T20:16:31.393Z"
   },
   {
    "duration": 5,
    "start_time": "2023-04-20T20:16:31.560Z"
   },
   {
    "duration": 192,
    "start_time": "2023-04-20T20:16:31.567Z"
   },
   {
    "duration": 249,
    "start_time": "2023-04-20T20:16:31.761Z"
   },
   {
    "duration": 173,
    "start_time": "2023-04-20T20:16:32.012Z"
   },
   {
    "duration": 5,
    "start_time": "2023-04-20T20:16:32.189Z"
   },
   {
    "duration": 24,
    "start_time": "2023-04-20T20:16:32.195Z"
   },
   {
    "duration": 31,
    "start_time": "2023-04-20T20:16:32.221Z"
   },
   {
    "duration": 24,
    "start_time": "2023-04-20T20:16:32.254Z"
   },
   {
    "duration": 167,
    "start_time": "2023-04-20T20:16:32.280Z"
   },
   {
    "duration": 152,
    "start_time": "2023-04-20T20:16:32.449Z"
   },
   {
    "duration": 145,
    "start_time": "2023-04-20T20:16:32.604Z"
   },
   {
    "duration": 10,
    "start_time": "2023-04-20T20:16:32.750Z"
   },
   {
    "duration": 7,
    "start_time": "2023-04-20T20:16:32.762Z"
   },
   {
    "duration": 9,
    "start_time": "2023-04-20T20:16:32.790Z"
   },
   {
    "duration": 14,
    "start_time": "2023-04-20T20:16:32.801Z"
   },
   {
    "duration": 3,
    "start_time": "2023-04-20T20:41:17.623Z"
   },
   {
    "duration": 1271,
    "start_time": "2023-04-20T20:41:17.628Z"
   },
   {
    "duration": 56,
    "start_time": "2023-04-20T20:41:18.901Z"
   },
   {
    "duration": 4,
    "start_time": "2023-04-20T20:41:18.960Z"
   },
   {
    "duration": 30,
    "start_time": "2023-04-20T20:41:18.965Z"
   },
   {
    "duration": 21,
    "start_time": "2023-04-20T20:41:18.997Z"
   },
   {
    "duration": 3,
    "start_time": "2023-04-20T20:41:19.020Z"
   },
   {
    "duration": 16,
    "start_time": "2023-04-20T20:41:19.025Z"
   },
   {
    "duration": 70,
    "start_time": "2023-04-20T20:41:19.043Z"
   },
   {
    "duration": 10,
    "start_time": "2023-04-20T20:41:19.117Z"
   },
   {
    "duration": 952,
    "start_time": "2023-04-20T20:41:19.129Z"
   },
   {
    "duration": 13,
    "start_time": "2023-04-20T20:41:20.084Z"
   },
   {
    "duration": 7,
    "start_time": "2023-04-20T20:41:20.104Z"
   },
   {
    "duration": 20,
    "start_time": "2023-04-20T20:41:20.113Z"
   },
   {
    "duration": 1076,
    "start_time": "2023-04-20T20:41:20.135Z"
   },
   {
    "duration": 9,
    "start_time": "2023-04-20T20:41:21.214Z"
   },
   {
    "duration": 18,
    "start_time": "2023-04-20T20:41:21.225Z"
   },
   {
    "duration": 12,
    "start_time": "2023-04-20T20:41:21.245Z"
   },
   {
    "duration": 34,
    "start_time": "2023-04-20T20:41:21.259Z"
   },
   {
    "duration": 12,
    "start_time": "2023-04-20T20:41:21.295Z"
   },
   {
    "duration": 10,
    "start_time": "2023-04-20T20:41:21.309Z"
   },
   {
    "duration": 146,
    "start_time": "2023-04-20T20:41:21.321Z"
   },
   {
    "duration": 6,
    "start_time": "2023-04-20T20:41:21.469Z"
   },
   {
    "duration": 8,
    "start_time": "2023-04-20T20:41:21.489Z"
   },
   {
    "duration": 13,
    "start_time": "2023-04-20T20:41:21.499Z"
   },
   {
    "duration": 10,
    "start_time": "2023-04-20T20:41:21.515Z"
   },
   {
    "duration": 9,
    "start_time": "2023-04-20T20:41:21.528Z"
   },
   {
    "duration": 7,
    "start_time": "2023-04-20T20:41:21.541Z"
   },
   {
    "duration": 52,
    "start_time": "2023-04-20T20:41:21.549Z"
   },
   {
    "duration": 20,
    "start_time": "2023-04-20T20:41:21.603Z"
   },
   {
    "duration": 22,
    "start_time": "2023-04-20T20:41:21.626Z"
   },
   {
    "duration": 11,
    "start_time": "2023-04-20T20:41:21.650Z"
   },
   {
    "duration": 50,
    "start_time": "2023-04-20T20:41:21.663Z"
   },
   {
    "duration": 116,
    "start_time": "2023-04-20T20:41:21.719Z"
   },
   {
    "duration": 9,
    "start_time": "2023-04-20T20:41:21.837Z"
   },
   {
    "duration": 9,
    "start_time": "2023-04-20T20:41:21.848Z"
   },
   {
    "duration": 32,
    "start_time": "2023-04-20T20:41:21.859Z"
   },
   {
    "duration": 612,
    "start_time": "2023-04-20T20:41:21.894Z"
   },
   {
    "duration": 9,
    "start_time": "2023-04-20T20:41:22.508Z"
   },
   {
    "duration": 12,
    "start_time": "2023-04-20T20:41:22.519Z"
   },
   {
    "duration": 292,
    "start_time": "2023-04-20T20:41:22.534Z"
   },
   {
    "duration": 7,
    "start_time": "2023-04-20T20:41:22.829Z"
   },
   {
    "duration": 5,
    "start_time": "2023-04-20T20:41:22.838Z"
   },
   {
    "duration": 10,
    "start_time": "2023-04-20T20:41:22.845Z"
   },
   {
    "duration": 244,
    "start_time": "2023-04-20T20:41:22.856Z"
   },
   {
    "duration": 4,
    "start_time": "2023-04-20T20:41:23.102Z"
   },
   {
    "duration": 7,
    "start_time": "2023-04-20T20:41:23.108Z"
   },
   {
    "duration": 317,
    "start_time": "2023-04-20T20:41:23.117Z"
   },
   {
    "duration": 323,
    "start_time": "2023-04-20T20:41:23.437Z"
   },
   {
    "duration": 430,
    "start_time": "2023-04-20T20:41:23.761Z"
   },
   {
    "duration": 8,
    "start_time": "2023-04-20T20:41:24.193Z"
   },
   {
    "duration": 331,
    "start_time": "2023-04-20T20:41:24.204Z"
   },
   {
    "duration": 287,
    "start_time": "2023-04-20T20:41:24.536Z"
   },
   {
    "duration": 318,
    "start_time": "2023-04-20T20:41:24.825Z"
   },
   {
    "duration": 49,
    "start_time": "2023-04-20T20:41:25.145Z"
   },
   {
    "duration": 30,
    "start_time": "2023-04-20T20:41:25.196Z"
   },
   {
    "duration": 14,
    "start_time": "2023-04-20T20:41:25.228Z"
   },
   {
    "duration": 205,
    "start_time": "2023-04-20T20:41:25.244Z"
   },
   {
    "duration": 19,
    "start_time": "2023-04-20T20:41:25.451Z"
   },
   {
    "duration": 9,
    "start_time": "2023-04-20T20:41:25.489Z"
   },
   {
    "duration": 160,
    "start_time": "2023-04-20T20:41:25.501Z"
   },
   {
    "duration": 163,
    "start_time": "2023-04-20T20:41:25.664Z"
   },
   {
    "duration": 172,
    "start_time": "2023-04-20T20:41:25.829Z"
   },
   {
    "duration": 6,
    "start_time": "2023-04-20T20:41:26.003Z"
   },
   {
    "duration": 204,
    "start_time": "2023-04-20T20:41:26.011Z"
   },
   {
    "duration": 272,
    "start_time": "2023-04-20T20:41:26.217Z"
   },
   {
    "duration": 219,
    "start_time": "2023-04-20T20:41:26.492Z"
   },
   {
    "duration": 6,
    "start_time": "2023-04-20T20:41:26.714Z"
   },
   {
    "duration": 7,
    "start_time": "2023-04-20T20:41:26.723Z"
   },
   {
    "duration": 11,
    "start_time": "2023-04-20T20:41:26.732Z"
   },
   {
    "duration": 5,
    "start_time": "2023-04-20T20:41:26.745Z"
   },
   {
    "duration": 177,
    "start_time": "2023-04-20T20:41:26.752Z"
   },
   {
    "duration": 134,
    "start_time": "2023-04-20T20:41:26.931Z"
   },
   {
    "duration": 132,
    "start_time": "2023-04-20T20:41:27.067Z"
   },
   {
    "duration": 9,
    "start_time": "2023-04-20T20:41:27.201Z"
   },
   {
    "duration": 8,
    "start_time": "2023-04-20T20:41:27.212Z"
   },
   {
    "duration": 9,
    "start_time": "2023-04-20T20:41:27.222Z"
   },
   {
    "duration": 6,
    "start_time": "2023-04-20T20:41:27.233Z"
   },
   {
    "duration": 114,
    "start_time": "2023-04-20T20:56:48.715Z"
   },
   {
    "duration": 12,
    "start_time": "2023-04-20T20:57:09.508Z"
   },
   {
    "duration": 12,
    "start_time": "2023-04-20T20:57:35.253Z"
   },
   {
    "duration": 13,
    "start_time": "2023-04-20T20:57:46.201Z"
   },
   {
    "duration": 13,
    "start_time": "2023-04-20T20:57:56.040Z"
   },
   {
    "duration": 179,
    "start_time": "2023-04-20T20:58:16.318Z"
   },
   {
    "duration": 59,
    "start_time": "2023-04-22T07:59:47.839Z"
   },
   {
    "duration": 5,
    "start_time": "2023-04-22T07:59:56.216Z"
   },
   {
    "duration": 1730,
    "start_time": "2023-04-22T07:59:56.224Z"
   },
   {
    "duration": 156,
    "start_time": "2023-04-22T07:59:57.956Z"
   },
   {
    "duration": 5,
    "start_time": "2023-04-22T07:59:58.115Z"
   },
   {
    "duration": 37,
    "start_time": "2023-04-22T07:59:58.123Z"
   },
   {
    "duration": 28,
    "start_time": "2023-04-22T07:59:58.162Z"
   },
   {
    "duration": 40,
    "start_time": "2023-04-22T07:59:58.192Z"
   },
   {
    "duration": 24,
    "start_time": "2023-04-22T07:59:58.234Z"
   },
   {
    "duration": 98,
    "start_time": "2023-04-22T07:59:58.260Z"
   },
   {
    "duration": 11,
    "start_time": "2023-04-22T07:59:58.360Z"
   },
   {
    "duration": 1151,
    "start_time": "2023-04-22T07:59:58.372Z"
   },
   {
    "duration": 17,
    "start_time": "2023-04-22T07:59:59.525Z"
   },
   {
    "duration": 16,
    "start_time": "2023-04-22T07:59:59.544Z"
   },
   {
    "duration": 49,
    "start_time": "2023-04-22T07:59:59.564Z"
   },
   {
    "duration": 1104,
    "start_time": "2023-04-22T07:59:59.616Z"
   },
   {
    "duration": 11,
    "start_time": "2023-04-22T08:00:00.729Z"
   },
   {
    "duration": 49,
    "start_time": "2023-04-22T08:00:00.743Z"
   },
   {
    "duration": 114,
    "start_time": "2023-04-22T08:00:00.795Z"
   },
   {
    "duration": 50,
    "start_time": "2023-04-22T08:00:00.911Z"
   },
   {
    "duration": 110,
    "start_time": "2023-04-22T08:00:00.964Z"
   },
   {
    "duration": 91,
    "start_time": "2023-04-22T08:00:01.076Z"
   },
   {
    "duration": 241,
    "start_time": "2023-04-22T08:00:01.169Z"
   },
   {
    "duration": 15,
    "start_time": "2023-04-22T08:00:01.415Z"
   },
   {
    "duration": 32,
    "start_time": "2023-04-22T08:00:01.432Z"
   },
   {
    "duration": 117,
    "start_time": "2023-04-22T08:00:01.467Z"
   },
   {
    "duration": 134,
    "start_time": "2023-04-22T08:00:01.586Z"
   },
   {
    "duration": 105,
    "start_time": "2023-04-22T08:00:01.723Z"
   },
   {
    "duration": 89,
    "start_time": "2023-04-22T08:00:01.830Z"
   },
   {
    "duration": 61,
    "start_time": "2023-04-22T08:00:01.922Z"
   },
   {
    "duration": 147,
    "start_time": "2023-04-22T08:00:01.985Z"
   },
   {
    "duration": 90,
    "start_time": "2023-04-22T08:00:02.134Z"
   },
   {
    "duration": 103,
    "start_time": "2023-04-22T08:00:02.226Z"
   },
   {
    "duration": 116,
    "start_time": "2023-04-22T08:00:02.331Z"
   },
   {
    "duration": 195,
    "start_time": "2023-04-22T08:00:02.449Z"
   },
   {
    "duration": 10,
    "start_time": "2023-04-22T08:00:02.647Z"
   },
   {
    "duration": 65,
    "start_time": "2023-04-22T08:00:02.659Z"
   },
   {
    "duration": 357,
    "start_time": "2023-04-22T08:00:02.726Z"
   },
   {
    "duration": 753,
    "start_time": "2023-04-22T08:00:03.086Z"
   },
   {
    "duration": 9,
    "start_time": "2023-04-22T08:00:03.841Z"
   },
   {
    "duration": 15,
    "start_time": "2023-04-22T08:00:03.852Z"
   },
   {
    "duration": 332,
    "start_time": "2023-04-22T08:00:03.873Z"
   },
   {
    "duration": 11,
    "start_time": "2023-04-22T08:00:04.207Z"
   },
   {
    "duration": 27,
    "start_time": "2023-04-22T08:00:04.223Z"
   },
   {
    "duration": 12,
    "start_time": "2023-04-22T08:00:04.253Z"
   },
   {
    "duration": 299,
    "start_time": "2023-04-22T08:00:04.267Z"
   },
   {
    "duration": 168,
    "start_time": "2023-04-22T08:00:04.568Z"
   },
   {
    "duration": 0,
    "start_time": "2023-04-22T08:00:04.739Z"
   },
   {
    "duration": 0,
    "start_time": "2023-04-22T08:00:04.740Z"
   },
   {
    "duration": 0,
    "start_time": "2023-04-22T08:00:04.742Z"
   },
   {
    "duration": 0,
    "start_time": "2023-04-22T08:00:04.743Z"
   },
   {
    "duration": 0,
    "start_time": "2023-04-22T08:00:04.744Z"
   },
   {
    "duration": 0,
    "start_time": "2023-04-22T08:00:04.746Z"
   },
   {
    "duration": 0,
    "start_time": "2023-04-22T08:00:04.748Z"
   },
   {
    "duration": 0,
    "start_time": "2023-04-22T08:00:04.750Z"
   },
   {
    "duration": 0,
    "start_time": "2023-04-22T08:00:04.751Z"
   },
   {
    "duration": 0,
    "start_time": "2023-04-22T08:00:04.753Z"
   },
   {
    "duration": 0,
    "start_time": "2023-04-22T08:00:04.755Z"
   },
   {
    "duration": 0,
    "start_time": "2023-04-22T08:00:04.756Z"
   },
   {
    "duration": 0,
    "start_time": "2023-04-22T08:00:04.758Z"
   },
   {
    "duration": 0,
    "start_time": "2023-04-22T08:00:04.759Z"
   },
   {
    "duration": 0,
    "start_time": "2023-04-22T08:00:04.761Z"
   },
   {
    "duration": 0,
    "start_time": "2023-04-22T08:00:04.792Z"
   },
   {
    "duration": 0,
    "start_time": "2023-04-22T08:00:04.795Z"
   },
   {
    "duration": 0,
    "start_time": "2023-04-22T08:00:04.796Z"
   },
   {
    "duration": 0,
    "start_time": "2023-04-22T08:00:04.802Z"
   },
   {
    "duration": 0,
    "start_time": "2023-04-22T08:00:04.804Z"
   },
   {
    "duration": 0,
    "start_time": "2023-04-22T08:00:04.805Z"
   },
   {
    "duration": 0,
    "start_time": "2023-04-22T08:00:04.806Z"
   },
   {
    "duration": 0,
    "start_time": "2023-04-22T08:00:04.808Z"
   },
   {
    "duration": 0,
    "start_time": "2023-04-22T08:00:04.809Z"
   },
   {
    "duration": 0,
    "start_time": "2023-04-22T08:00:04.809Z"
   },
   {
    "duration": 0,
    "start_time": "2023-04-22T08:00:04.811Z"
   },
   {
    "duration": 0,
    "start_time": "2023-04-22T08:00:04.813Z"
   },
   {
    "duration": 0,
    "start_time": "2023-04-22T08:00:04.814Z"
   },
   {
    "duration": 0,
    "start_time": "2023-04-22T08:00:04.816Z"
   },
   {
    "duration": 0,
    "start_time": "2023-04-22T08:00:04.818Z"
   },
   {
    "duration": 0,
    "start_time": "2023-04-22T08:00:04.821Z"
   },
   {
    "duration": 0,
    "start_time": "2023-04-22T08:00:04.823Z"
   },
   {
    "duration": 0,
    "start_time": "2023-04-22T08:00:04.825Z"
   },
   {
    "duration": 8,
    "start_time": "2023-04-22T08:00:27.730Z"
   },
   {
    "duration": 16,
    "start_time": "2023-04-22T08:00:51.424Z"
   },
   {
    "duration": 7,
    "start_time": "2023-04-22T08:00:57.451Z"
   },
   {
    "duration": 202,
    "start_time": "2023-04-22T08:04:41.223Z"
   },
   {
    "duration": 194,
    "start_time": "2023-04-22T08:05:12.053Z"
   },
   {
    "duration": 216,
    "start_time": "2023-04-22T08:05:45.351Z"
   },
   {
    "duration": 187,
    "start_time": "2023-04-22T08:05:51.021Z"
   },
   {
    "duration": 249,
    "start_time": "2023-04-22T08:06:12.228Z"
   },
   {
    "duration": 315,
    "start_time": "2023-04-22T08:06:35.758Z"
   },
   {
    "duration": 241,
    "start_time": "2023-04-22T08:06:59.402Z"
   },
   {
    "duration": 200,
    "start_time": "2023-04-22T08:08:09.210Z"
   },
   {
    "duration": 227,
    "start_time": "2023-04-22T08:08:44.437Z"
   },
   {
    "duration": 203,
    "start_time": "2023-04-22T08:08:49.736Z"
   },
   {
    "duration": 14,
    "start_time": "2023-04-22T08:14:05.278Z"
   },
   {
    "duration": 192,
    "start_time": "2023-04-22T08:14:15.127Z"
   },
   {
    "duration": 484,
    "start_time": "2023-04-22T08:23:00.141Z"
   },
   {
    "duration": 202,
    "start_time": "2023-04-22T08:23:23.080Z"
   },
   {
    "duration": 222,
    "start_time": "2023-04-22T08:24:47.146Z"
   },
   {
    "duration": 230,
    "start_time": "2023-04-22T08:25:13.213Z"
   },
   {
    "duration": 259,
    "start_time": "2023-04-22T08:25:26.972Z"
   },
   {
    "duration": 333,
    "start_time": "2023-04-22T08:26:04.110Z"
   },
   {
    "duration": 291,
    "start_time": "2023-04-22T08:26:20.714Z"
   },
   {
    "duration": 211,
    "start_time": "2023-04-22T08:28:34.685Z"
   },
   {
    "duration": 214,
    "start_time": "2023-04-22T08:28:43.570Z"
   },
   {
    "duration": 239,
    "start_time": "2023-04-22T08:30:03.576Z"
   },
   {
    "duration": 7,
    "start_time": "2023-04-22T08:48:37.848Z"
   },
   {
    "duration": 1706,
    "start_time": "2023-04-22T08:48:37.858Z"
   },
   {
    "duration": 96,
    "start_time": "2023-04-22T08:48:39.569Z"
   },
   {
    "duration": 4,
    "start_time": "2023-04-22T08:48:39.676Z"
   },
   {
    "duration": 77,
    "start_time": "2023-04-22T08:48:39.683Z"
   },
   {
    "duration": 26,
    "start_time": "2023-04-22T08:48:39.762Z"
   },
   {
    "duration": 35,
    "start_time": "2023-04-22T08:48:39.793Z"
   },
   {
    "duration": 24,
    "start_time": "2023-04-22T08:48:39.830Z"
   },
   {
    "duration": 166,
    "start_time": "2023-04-22T08:48:39.857Z"
   },
   {
    "duration": 14,
    "start_time": "2023-04-22T08:48:40.028Z"
   },
   {
    "duration": 1330,
    "start_time": "2023-04-22T08:48:40.044Z"
   },
   {
    "duration": 30,
    "start_time": "2023-04-22T08:48:41.377Z"
   },
   {
    "duration": 11,
    "start_time": "2023-04-22T08:48:41.413Z"
   },
   {
    "duration": 25,
    "start_time": "2023-04-22T08:48:41.427Z"
   },
   {
    "duration": 1018,
    "start_time": "2023-04-22T08:48:41.454Z"
   },
   {
    "duration": 25,
    "start_time": "2023-04-22T08:48:42.474Z"
   },
   {
    "duration": 31,
    "start_time": "2023-04-22T08:48:42.504Z"
   },
   {
    "duration": 19,
    "start_time": "2023-04-22T08:48:42.537Z"
   },
   {
    "duration": 13,
    "start_time": "2023-04-22T08:48:42.558Z"
   },
   {
    "duration": 25,
    "start_time": "2023-04-22T08:48:42.573Z"
   },
   {
    "duration": 11,
    "start_time": "2023-04-22T08:48:42.601Z"
   },
   {
    "duration": 124,
    "start_time": "2023-04-22T08:48:42.615Z"
   },
   {
    "duration": 8,
    "start_time": "2023-04-22T08:48:42.743Z"
   },
   {
    "duration": 12,
    "start_time": "2023-04-22T08:48:42.753Z"
   },
   {
    "duration": 43,
    "start_time": "2023-04-22T08:48:42.767Z"
   },
   {
    "duration": 17,
    "start_time": "2023-04-22T08:48:42.821Z"
   },
   {
    "duration": 10,
    "start_time": "2023-04-22T08:48:42.841Z"
   },
   {
    "duration": 6,
    "start_time": "2023-04-22T08:48:42.856Z"
   },
   {
    "duration": 10,
    "start_time": "2023-04-22T08:48:42.870Z"
   },
   {
    "duration": 71,
    "start_time": "2023-04-22T08:48:42.882Z"
   },
   {
    "duration": 22,
    "start_time": "2023-04-22T08:48:42.955Z"
   },
   {
    "duration": 18,
    "start_time": "2023-04-22T08:48:42.979Z"
   },
   {
    "duration": 42,
    "start_time": "2023-04-22T08:48:42.998Z"
   },
   {
    "duration": 109,
    "start_time": "2023-04-22T08:48:43.042Z"
   },
   {
    "duration": 11,
    "start_time": "2023-04-22T08:48:43.153Z"
   },
   {
    "duration": 5,
    "start_time": "2023-04-22T08:48:43.166Z"
   },
   {
    "duration": 11,
    "start_time": "2023-04-22T08:48:43.190Z"
   },
   {
    "duration": 709,
    "start_time": "2023-04-22T08:48:43.203Z"
   },
   {
    "duration": 11,
    "start_time": "2023-04-22T08:48:43.916Z"
   },
   {
    "duration": 26,
    "start_time": "2023-04-22T08:48:43.929Z"
   },
   {
    "duration": 308,
    "start_time": "2023-04-22T08:48:43.957Z"
   },
   {
    "duration": 8,
    "start_time": "2023-04-22T08:48:44.267Z"
   },
   {
    "duration": 11,
    "start_time": "2023-04-22T08:48:44.292Z"
   },
   {
    "duration": 231,
    "start_time": "2023-04-22T08:48:44.305Z"
   },
   {
    "duration": 222,
    "start_time": "2023-04-22T08:48:44.538Z"
   },
   {
    "duration": 285,
    "start_time": "2023-04-22T08:48:44.763Z"
   },
   {
    "duration": 7,
    "start_time": "2023-04-22T08:48:45.050Z"
   },
   {
    "duration": 16,
    "start_time": "2023-04-22T08:48:45.059Z"
   },
   {
    "duration": 339,
    "start_time": "2023-04-22T08:48:45.078Z"
   },
   {
    "duration": 441,
    "start_time": "2023-04-22T08:48:45.419Z"
   },
   {
    "duration": 495,
    "start_time": "2023-04-22T08:48:45.874Z"
   },
   {
    "duration": 35,
    "start_time": "2023-04-22T08:48:46.371Z"
   },
   {
    "duration": 355,
    "start_time": "2023-04-22T08:48:46.408Z"
   },
   {
    "duration": 433,
    "start_time": "2023-04-22T08:48:46.765Z"
   },
   {
    "duration": 432,
    "start_time": "2023-04-22T08:48:47.203Z"
   },
   {
    "duration": 73,
    "start_time": "2023-04-22T08:48:47.637Z"
   },
   {
    "duration": 16,
    "start_time": "2023-04-22T08:48:47.715Z"
   },
   {
    "duration": 17,
    "start_time": "2023-04-22T08:48:47.734Z"
   },
   {
    "duration": 305,
    "start_time": "2023-04-22T08:48:47.754Z"
   },
   {
    "duration": 33,
    "start_time": "2023-04-22T08:48:48.062Z"
   },
   {
    "duration": 30,
    "start_time": "2023-04-22T08:48:48.097Z"
   },
   {
    "duration": 240,
    "start_time": "2023-04-22T08:48:48.130Z"
   },
   {
    "duration": 235,
    "start_time": "2023-04-22T08:48:48.373Z"
   },
   {
    "duration": 233,
    "start_time": "2023-04-22T08:48:48.611Z"
   },
   {
    "duration": 7,
    "start_time": "2023-04-22T08:48:48.846Z"
   },
   {
    "duration": 434,
    "start_time": "2023-04-22T08:48:48.856Z"
   },
   {
    "duration": 226,
    "start_time": "2023-04-22T08:48:49.292Z"
   },
   {
    "duration": 239,
    "start_time": "2023-04-22T08:48:49.521Z"
   },
   {
    "duration": 9,
    "start_time": "2023-04-22T08:48:49.763Z"
   },
   {
    "duration": 50,
    "start_time": "2023-04-22T08:48:49.775Z"
   },
   {
    "duration": 17,
    "start_time": "2023-04-22T08:48:49.827Z"
   },
   {
    "duration": 13,
    "start_time": "2023-04-22T08:48:49.846Z"
   },
   {
    "duration": 263,
    "start_time": "2023-04-22T08:48:49.862Z"
   },
   {
    "duration": 217,
    "start_time": "2023-04-22T08:48:50.128Z"
   },
   {
    "duration": 200,
    "start_time": "2023-04-22T08:48:50.348Z"
   },
   {
    "duration": 12,
    "start_time": "2023-04-22T08:48:50.550Z"
   },
   {
    "duration": 27,
    "start_time": "2023-04-22T08:48:50.564Z"
   },
   {
    "duration": 54,
    "start_time": "2023-04-22T08:48:50.596Z"
   },
   {
    "duration": 19,
    "start_time": "2023-04-22T08:48:50.653Z"
   },
   {
    "duration": 20,
    "start_time": "2023-04-22T08:52:54.833Z"
   },
   {
    "duration": 18,
    "start_time": "2023-04-22T08:53:05.431Z"
   },
   {
    "duration": 185,
    "start_time": "2023-04-22T08:55:58.465Z"
   },
   {
    "duration": 190,
    "start_time": "2023-04-22T08:56:53.650Z"
   },
   {
    "duration": 11,
    "start_time": "2023-04-22T08:58:08.087Z"
   },
   {
    "duration": 14,
    "start_time": "2023-04-22T08:58:15.729Z"
   },
   {
    "duration": 20,
    "start_time": "2023-04-22T08:58:38.008Z"
   },
   {
    "duration": 234,
    "start_time": "2023-04-22T08:59:42.601Z"
   },
   {
    "duration": 16,
    "start_time": "2023-04-22T09:05:22.034Z"
   },
   {
    "duration": 32,
    "start_time": "2023-04-22T09:28:20.204Z"
   },
   {
    "duration": 26,
    "start_time": "2023-04-22T09:54:00.278Z"
   },
   {
    "duration": 310,
    "start_time": "2023-04-22T09:55:46.461Z"
   },
   {
    "duration": 421,
    "start_time": "2023-04-22T09:56:09.954Z"
   },
   {
    "duration": 337,
    "start_time": "2023-04-22T09:56:16.179Z"
   },
   {
    "duration": 328,
    "start_time": "2023-04-22T09:56:24.980Z"
   },
   {
    "duration": 312,
    "start_time": "2023-04-22T09:56:38.888Z"
   },
   {
    "duration": 255,
    "start_time": "2023-04-22T09:58:52.941Z"
   },
   {
    "duration": 344,
    "start_time": "2023-04-22T09:59:02.816Z"
   },
   {
    "duration": 431,
    "start_time": "2023-04-22T09:59:33.435Z"
   },
   {
    "duration": 6,
    "start_time": "2023-04-22T10:00:55.518Z"
   },
   {
    "duration": 335,
    "start_time": "2023-04-22T10:00:55.650Z"
   },
   {
    "duration": 148,
    "start_time": "2023-04-22T10:01:36.216Z"
   },
   {
    "duration": 6,
    "start_time": "2023-04-22T10:01:43.077Z"
   },
   {
    "duration": 341,
    "start_time": "2023-04-22T10:01:43.218Z"
   },
   {
    "duration": 27,
    "start_time": "2023-04-22T10:13:49.146Z"
   },
   {
    "duration": 31,
    "start_time": "2023-04-22T10:16:38.208Z"
   },
   {
    "duration": 9,
    "start_time": "2023-04-22T10:17:23.182Z"
   },
   {
    "duration": 15,
    "start_time": "2023-04-22T10:17:46.814Z"
   },
   {
    "duration": 4,
    "start_time": "2023-04-22T10:19:13.672Z"
   },
   {
    "duration": 7,
    "start_time": "2023-04-22T10:19:40.843Z"
   },
   {
    "duration": 23,
    "start_time": "2023-04-22T10:20:03.668Z"
   },
   {
    "duration": 15,
    "start_time": "2023-04-22T10:20:26.096Z"
   },
   {
    "duration": 29,
    "start_time": "2023-04-22T10:20:27.178Z"
   },
   {
    "duration": 8,
    "start_time": "2023-04-22T10:20:40.120Z"
   },
   {
    "duration": 20,
    "start_time": "2023-04-22T10:20:40.268Z"
   },
   {
    "duration": 9,
    "start_time": "2023-04-22T10:21:09.118Z"
   },
   {
    "duration": 38,
    "start_time": "2023-04-22T10:22:06.379Z"
   },
   {
    "duration": 16,
    "start_time": "2023-04-22T10:24:15.463Z"
   },
   {
    "duration": 25,
    "start_time": "2023-04-22T10:24:41.537Z"
   },
   {
    "duration": 21,
    "start_time": "2023-04-22T10:28:34.903Z"
   },
   {
    "duration": 38,
    "start_time": "2023-04-22T10:29:50.416Z"
   },
   {
    "duration": 10,
    "start_time": "2023-04-22T10:30:21.918Z"
   },
   {
    "duration": 21,
    "start_time": "2023-04-22T10:35:19.428Z"
   },
   {
    "duration": 21,
    "start_time": "2023-04-22T10:35:49.930Z"
   },
   {
    "duration": 17,
    "start_time": "2023-04-22T10:41:39.127Z"
   },
   {
    "duration": 24,
    "start_time": "2023-04-22T10:41:52.184Z"
   },
   {
    "duration": 17,
    "start_time": "2023-04-22T10:44:12.761Z"
   },
   {
    "duration": 17,
    "start_time": "2023-04-22T10:44:55.237Z"
   },
   {
    "duration": 27,
    "start_time": "2023-04-22T10:45:31.744Z"
   },
   {
    "duration": 20,
    "start_time": "2023-04-22T10:45:53.365Z"
   },
   {
    "duration": 25,
    "start_time": "2023-04-22T10:46:02.711Z"
   },
   {
    "duration": 15,
    "start_time": "2023-04-22T10:46:19.618Z"
   },
   {
    "duration": 20,
    "start_time": "2023-04-22T10:46:40.831Z"
   },
   {
    "duration": 57,
    "start_time": "2023-04-22T10:47:16.948Z"
   },
   {
    "duration": 22,
    "start_time": "2023-04-22T10:47:33.718Z"
   },
   {
    "duration": 30,
    "start_time": "2023-04-22T10:48:46.132Z"
   },
   {
    "duration": 76,
    "start_time": "2023-04-22T10:49:18.277Z"
   },
   {
    "duration": 21,
    "start_time": "2023-04-22T10:49:35.617Z"
   },
   {
    "duration": 21,
    "start_time": "2023-04-22T10:50:03.632Z"
   },
   {
    "duration": 14,
    "start_time": "2023-04-22T10:50:13.390Z"
   },
   {
    "duration": 33,
    "start_time": "2023-04-22T10:51:59.685Z"
   },
   {
    "duration": 23,
    "start_time": "2023-04-22T10:54:14.838Z"
   },
   {
    "duration": 19,
    "start_time": "2023-04-22T10:58:00.444Z"
   },
   {
    "duration": 21,
    "start_time": "2023-04-22T10:59:08.324Z"
   },
   {
    "duration": 15,
    "start_time": "2023-04-22T10:59:16.164Z"
   },
   {
    "duration": 31,
    "start_time": "2023-04-22T10:59:26.812Z"
   },
   {
    "duration": 8,
    "start_time": "2023-04-22T11:00:24.216Z"
   },
   {
    "duration": 103,
    "start_time": "2023-04-22T11:01:15.635Z"
   },
   {
    "duration": 63,
    "start_time": "2023-04-22T11:01:19.819Z"
   },
   {
    "duration": 15,
    "start_time": "2023-04-22T11:01:28.868Z"
   },
   {
    "duration": 33,
    "start_time": "2023-04-22T11:01:39.561Z"
   },
   {
    "duration": 42,
    "start_time": "2023-04-22T11:02:51.713Z"
   },
   {
    "duration": 44,
    "start_time": "2023-04-22T11:03:17.691Z"
   },
   {
    "duration": 40,
    "start_time": "2023-04-22T11:03:39.373Z"
   },
   {
    "duration": 184,
    "start_time": "2023-04-22T11:06:09.573Z"
   },
   {
    "duration": 154,
    "start_time": "2023-04-22T11:06:16.032Z"
   },
   {
    "duration": 11,
    "start_time": "2023-04-22T11:06:37.334Z"
   },
   {
    "duration": 40,
    "start_time": "2023-04-22T11:12:20.603Z"
   },
   {
    "duration": 31,
    "start_time": "2023-04-22T11:26:25.316Z"
   },
   {
    "duration": 34,
    "start_time": "2023-04-22T11:26:33.423Z"
   },
   {
    "duration": 33,
    "start_time": "2023-04-22T11:27:05.535Z"
   },
   {
    "duration": 51,
    "start_time": "2023-04-22T11:27:34.349Z"
   },
   {
    "duration": 210,
    "start_time": "2023-04-22T11:27:39.772Z"
   },
   {
    "duration": 387,
    "start_time": "2023-04-22T11:30:20.542Z"
   },
   {
    "duration": 34,
    "start_time": "2023-04-22T11:31:33.418Z"
   },
   {
    "duration": 40,
    "start_time": "2023-04-22T11:32:32.923Z"
   },
   {
    "duration": 489,
    "start_time": "2023-04-22T11:32:50.344Z"
   },
   {
    "duration": 332,
    "start_time": "2023-04-22T11:33:09.727Z"
   },
   {
    "duration": 350,
    "start_time": "2023-04-22T11:35:13.374Z"
   },
   {
    "duration": 365,
    "start_time": "2023-04-22T11:38:30.114Z"
   },
   {
    "duration": 10,
    "start_time": "2023-04-22T11:46:17.418Z"
   },
   {
    "duration": 177,
    "start_time": "2023-04-22T12:08:08.146Z"
   },
   {
    "duration": 3,
    "start_time": "2023-04-22T12:27:34.868Z"
   },
   {
    "duration": 1410,
    "start_time": "2023-04-22T12:27:34.873Z"
   },
   {
    "duration": 134,
    "start_time": "2023-04-22T12:27:36.285Z"
   },
   {
    "duration": 4,
    "start_time": "2023-04-22T12:27:36.421Z"
   },
   {
    "duration": 46,
    "start_time": "2023-04-22T12:27:36.426Z"
   },
   {
    "duration": 33,
    "start_time": "2023-04-22T12:27:36.474Z"
   },
   {
    "duration": 38,
    "start_time": "2023-04-22T12:27:36.510Z"
   },
   {
    "duration": 23,
    "start_time": "2023-04-22T12:27:36.551Z"
   },
   {
    "duration": 75,
    "start_time": "2023-04-22T12:27:36.576Z"
   },
   {
    "duration": 13,
    "start_time": "2023-04-22T12:27:36.654Z"
   },
   {
    "duration": 1134,
    "start_time": "2023-04-22T12:27:36.669Z"
   },
   {
    "duration": 22,
    "start_time": "2023-04-22T12:27:37.805Z"
   },
   {
    "duration": 25,
    "start_time": "2023-04-22T12:27:37.832Z"
   },
   {
    "duration": 32,
    "start_time": "2023-04-22T12:27:37.859Z"
   },
   {
    "duration": 1089,
    "start_time": "2023-04-22T12:27:37.894Z"
   },
   {
    "duration": 12,
    "start_time": "2023-04-22T12:27:38.985Z"
   },
   {
    "duration": 30,
    "start_time": "2023-04-22T12:27:39.000Z"
   },
   {
    "duration": 18,
    "start_time": "2023-04-22T12:27:39.032Z"
   },
   {
    "duration": 68,
    "start_time": "2023-04-22T12:27:39.052Z"
   },
   {
    "duration": 14,
    "start_time": "2023-04-22T12:27:39.122Z"
   },
   {
    "duration": 19,
    "start_time": "2023-04-22T12:27:39.138Z"
   },
   {
    "duration": 119,
    "start_time": "2023-04-22T12:27:39.159Z"
   },
   {
    "duration": 8,
    "start_time": "2023-04-22T12:27:39.280Z"
   },
   {
    "duration": 39,
    "start_time": "2023-04-22T12:27:39.290Z"
   },
   {
    "duration": 7,
    "start_time": "2023-04-22T12:27:39.331Z"
   },
   {
    "duration": 10,
    "start_time": "2023-04-22T12:27:39.340Z"
   },
   {
    "duration": 14,
    "start_time": "2023-04-22T12:27:39.351Z"
   },
   {
    "duration": 4,
    "start_time": "2023-04-22T12:27:39.369Z"
   },
   {
    "duration": 15,
    "start_time": "2023-04-22T12:27:39.375Z"
   },
   {
    "duration": 41,
    "start_time": "2023-04-22T12:27:39.393Z"
   },
   {
    "duration": 20,
    "start_time": "2023-04-22T12:27:39.436Z"
   },
   {
    "duration": 9,
    "start_time": "2023-04-22T12:27:39.458Z"
   },
   {
    "duration": 23,
    "start_time": "2023-04-22T12:27:39.469Z"
   },
   {
    "duration": 143,
    "start_time": "2023-04-22T12:27:39.494Z"
   },
   {
    "duration": 9,
    "start_time": "2023-04-22T12:27:39.639Z"
   },
   {
    "duration": 5,
    "start_time": "2023-04-22T12:27:39.650Z"
   },
   {
    "duration": 10,
    "start_time": "2023-04-22T12:27:39.657Z"
   },
   {
    "duration": 696,
    "start_time": "2023-04-22T12:27:39.669Z"
   },
   {
    "duration": 14,
    "start_time": "2023-04-22T12:27:40.368Z"
   },
   {
    "duration": 57,
    "start_time": "2023-04-22T12:27:40.385Z"
   },
   {
    "duration": 368,
    "start_time": "2023-04-22T12:27:40.444Z"
   },
   {
    "duration": 9,
    "start_time": "2023-04-22T12:27:40.815Z"
   },
   {
    "duration": 84,
    "start_time": "2023-04-22T12:27:40.827Z"
   },
   {
    "duration": 41,
    "start_time": "2023-04-22T12:27:40.913Z"
   },
   {
    "duration": 209,
    "start_time": "2023-04-22T12:27:40.956Z"
   },
   {
    "duration": 260,
    "start_time": "2023-04-22T12:27:41.167Z"
   },
   {
    "duration": 5,
    "start_time": "2023-04-22T12:27:41.429Z"
   },
   {
    "duration": 7,
    "start_time": "2023-04-22T12:27:41.436Z"
   },
   {
    "duration": 328,
    "start_time": "2023-04-22T12:27:41.445Z"
   },
   {
    "duration": 322,
    "start_time": "2023-04-22T12:27:41.775Z"
   },
   {
    "duration": 457,
    "start_time": "2023-04-22T12:27:42.099Z"
   },
   {
    "duration": 7,
    "start_time": "2023-04-22T12:27:42.558Z"
   },
   {
    "duration": 353,
    "start_time": "2023-04-22T12:27:42.567Z"
   },
   {
    "duration": 309,
    "start_time": "2023-04-22T12:27:42.922Z"
   },
   {
    "duration": 314,
    "start_time": "2023-04-22T12:27:43.233Z"
   },
   {
    "duration": 41,
    "start_time": "2023-04-22T12:27:43.549Z"
   },
   {
    "duration": 14,
    "start_time": "2023-04-22T12:27:43.593Z"
   },
   {
    "duration": 25,
    "start_time": "2023-04-22T12:27:43.614Z"
   },
   {
    "duration": 22,
    "start_time": "2023-04-22T12:27:43.641Z"
   },
   {
    "duration": 32,
    "start_time": "2023-04-22T12:27:43.665Z"
   },
   {
    "duration": 275,
    "start_time": "2023-04-22T12:27:43.700Z"
   },
   {
    "duration": 5,
    "start_time": "2023-04-22T12:27:43.977Z"
   },
   {
    "duration": 367,
    "start_time": "2023-04-22T12:27:43.983Z"
   },
   {
    "duration": 9,
    "start_time": "2023-04-22T12:27:44.352Z"
   },
   {
    "duration": 36,
    "start_time": "2023-04-22T12:27:44.363Z"
   },
   {
    "duration": 24,
    "start_time": "2023-04-22T12:27:44.402Z"
   },
   {
    "duration": 213,
    "start_time": "2023-04-22T12:27:44.428Z"
   },
   {
    "duration": 319,
    "start_time": "2023-04-22T12:27:44.643Z"
   },
   {
    "duration": 198,
    "start_time": "2023-04-22T12:27:44.963Z"
   },
   {
    "duration": 5,
    "start_time": "2023-04-22T12:27:45.163Z"
   },
   {
    "duration": 210,
    "start_time": "2023-04-22T12:27:45.170Z"
   },
   {
    "duration": 181,
    "start_time": "2023-04-22T12:27:45.382Z"
   },
   {
    "duration": 191,
    "start_time": "2023-04-22T12:27:45.565Z"
   },
   {
    "duration": 4,
    "start_time": "2023-04-22T12:27:45.758Z"
   },
   {
    "duration": 26,
    "start_time": "2023-04-22T12:27:45.764Z"
   },
   {
    "duration": 43,
    "start_time": "2023-04-22T12:27:45.794Z"
   },
   {
    "duration": 10,
    "start_time": "2023-04-22T12:27:45.839Z"
   },
   {
    "duration": 182,
    "start_time": "2023-04-22T12:27:45.851Z"
   },
   {
    "duration": 176,
    "start_time": "2023-04-22T12:27:46.035Z"
   },
   {
    "duration": 150,
    "start_time": "2023-04-22T12:27:46.214Z"
   },
   {
    "duration": 8,
    "start_time": "2023-04-22T12:27:46.366Z"
   },
   {
    "duration": 11,
    "start_time": "2023-04-22T12:27:46.392Z"
   },
   {
    "duration": 24,
    "start_time": "2023-04-22T12:27:46.405Z"
   },
   {
    "duration": 11,
    "start_time": "2023-04-22T12:27:46.431Z"
   },
   {
    "duration": 141,
    "start_time": "2023-04-22T12:43:35.274Z"
   },
   {
    "duration": 315,
    "start_time": "2023-04-22T12:56:05.526Z"
   },
   {
    "duration": 385,
    "start_time": "2023-04-22T12:56:29.613Z"
   },
   {
    "duration": 4,
    "start_time": "2023-04-22T13:06:43.651Z"
   },
   {
    "duration": 1394,
    "start_time": "2023-04-22T13:06:43.658Z"
   },
   {
    "duration": 75,
    "start_time": "2023-04-22T13:06:45.054Z"
   },
   {
    "duration": 4,
    "start_time": "2023-04-22T13:06:45.132Z"
   },
   {
    "duration": 43,
    "start_time": "2023-04-22T13:06:45.138Z"
   },
   {
    "duration": 49,
    "start_time": "2023-04-22T13:06:45.184Z"
   },
   {
    "duration": 3,
    "start_time": "2023-04-22T13:06:45.235Z"
   },
   {
    "duration": 8,
    "start_time": "2023-04-22T13:06:45.240Z"
   },
   {
    "duration": 73,
    "start_time": "2023-04-22T13:06:45.251Z"
   },
   {
    "duration": 12,
    "start_time": "2023-04-22T13:06:45.327Z"
   },
   {
    "duration": 1026,
    "start_time": "2023-04-22T13:06:45.341Z"
   },
   {
    "duration": 33,
    "start_time": "2023-04-22T13:06:46.369Z"
   },
   {
    "duration": 18,
    "start_time": "2023-04-22T13:06:46.407Z"
   },
   {
    "duration": 32,
    "start_time": "2023-04-22T13:06:46.427Z"
   },
   {
    "duration": 1121,
    "start_time": "2023-04-22T13:06:46.462Z"
   },
   {
    "duration": 11,
    "start_time": "2023-04-22T13:06:47.590Z"
   },
   {
    "duration": 38,
    "start_time": "2023-04-22T13:06:47.603Z"
   },
   {
    "duration": 14,
    "start_time": "2023-04-22T13:06:47.643Z"
   },
   {
    "duration": 13,
    "start_time": "2023-04-22T13:06:47.659Z"
   },
   {
    "duration": 27,
    "start_time": "2023-04-22T13:06:47.674Z"
   },
   {
    "duration": 32,
    "start_time": "2023-04-22T13:06:47.703Z"
   },
   {
    "duration": 145,
    "start_time": "2023-04-22T13:06:47.738Z"
   },
   {
    "duration": 14,
    "start_time": "2023-04-22T13:06:47.884Z"
   },
   {
    "duration": 37,
    "start_time": "2023-04-22T13:06:47.900Z"
   },
   {
    "duration": 8,
    "start_time": "2023-04-22T13:06:47.939Z"
   },
   {
    "duration": 9,
    "start_time": "2023-04-22T13:06:47.949Z"
   },
   {
    "duration": 11,
    "start_time": "2023-04-22T13:06:47.960Z"
   },
   {
    "duration": 16,
    "start_time": "2023-04-22T13:06:47.976Z"
   },
   {
    "duration": 41,
    "start_time": "2023-04-22T13:06:47.995Z"
   },
   {
    "duration": 17,
    "start_time": "2023-04-22T13:06:48.038Z"
   },
   {
    "duration": 21,
    "start_time": "2023-04-22T13:06:48.056Z"
   },
   {
    "duration": 14,
    "start_time": "2023-04-22T13:06:48.079Z"
   },
   {
    "duration": 48,
    "start_time": "2023-04-22T13:06:48.096Z"
   },
   {
    "duration": 109,
    "start_time": "2023-04-22T13:06:48.146Z"
   },
   {
    "duration": 8,
    "start_time": "2023-04-22T13:06:48.257Z"
   },
   {
    "duration": 31,
    "start_time": "2023-04-22T13:06:48.266Z"
   },
   {
    "duration": 10,
    "start_time": "2023-04-22T13:06:48.300Z"
   },
   {
    "duration": 888,
    "start_time": "2023-04-22T13:06:48.313Z"
   },
   {
    "duration": 13,
    "start_time": "2023-04-22T13:06:49.204Z"
   },
   {
    "duration": 32,
    "start_time": "2023-04-22T13:06:49.219Z"
   },
   {
    "duration": 397,
    "start_time": "2023-04-22T13:06:49.254Z"
   },
   {
    "duration": 9,
    "start_time": "2023-04-22T13:06:49.653Z"
   },
   {
    "duration": 18,
    "start_time": "2023-04-22T13:06:49.664Z"
   },
   {
    "duration": 44,
    "start_time": "2023-04-22T13:06:49.684Z"
   },
   {
    "duration": 243,
    "start_time": "2023-04-22T13:06:49.730Z"
   },
   {
    "duration": 270,
    "start_time": "2023-04-22T13:06:49.975Z"
   },
   {
    "duration": 7,
    "start_time": "2023-04-22T13:06:50.247Z"
   },
   {
    "duration": 6,
    "start_time": "2023-04-22T13:06:50.256Z"
   },
   {
    "duration": 409,
    "start_time": "2023-04-22T13:06:50.265Z"
   },
   {
    "duration": 415,
    "start_time": "2023-04-22T13:06:50.676Z"
   },
   {
    "duration": 587,
    "start_time": "2023-04-22T13:06:51.094Z"
   },
   {
    "duration": 10,
    "start_time": "2023-04-22T13:06:51.694Z"
   },
   {
    "duration": 433,
    "start_time": "2023-04-22T13:06:51.715Z"
   },
   {
    "duration": 396,
    "start_time": "2023-04-22T13:06:52.150Z"
   },
   {
    "duration": 354,
    "start_time": "2023-04-22T13:06:52.549Z"
   },
   {
    "duration": 36,
    "start_time": "2023-04-22T13:06:52.905Z"
   },
   {
    "duration": 99,
    "start_time": "2023-04-22T13:06:52.944Z"
   },
   {
    "duration": 33,
    "start_time": "2023-04-22T13:06:53.046Z"
   },
   {
    "duration": 78,
    "start_time": "2023-04-22T13:06:53.082Z"
   },
   {
    "duration": 64,
    "start_time": "2023-04-22T13:06:53.162Z"
   },
   {
    "duration": 330,
    "start_time": "2023-04-22T13:06:53.228Z"
   },
   {
    "duration": 6,
    "start_time": "2023-04-22T13:06:53.560Z"
   },
   {
    "duration": 452,
    "start_time": "2023-04-22T13:06:53.569Z"
   },
   {
    "duration": 27,
    "start_time": "2023-04-22T13:06:54.024Z"
   },
   {
    "duration": 160,
    "start_time": "2023-04-22T13:06:54.056Z"
   },
   {
    "duration": 30,
    "start_time": "2023-04-22T13:06:54.218Z"
   },
   {
    "duration": 228,
    "start_time": "2023-04-22T13:06:54.251Z"
   },
   {
    "duration": 319,
    "start_time": "2023-04-22T13:06:54.482Z"
   },
   {
    "duration": 266,
    "start_time": "2023-04-22T13:06:54.804Z"
   },
   {
    "duration": 6,
    "start_time": "2023-04-22T13:06:55.073Z"
   },
   {
    "duration": 269,
    "start_time": "2023-04-22T13:06:55.087Z"
   },
   {
    "duration": 254,
    "start_time": "2023-04-22T13:06:55.359Z"
   },
   {
    "duration": 250,
    "start_time": "2023-04-22T13:06:55.622Z"
   },
   {
    "duration": 14,
    "start_time": "2023-04-22T13:06:55.874Z"
   },
   {
    "duration": 25,
    "start_time": "2023-04-22T13:06:55.892Z"
   },
   {
    "duration": 21,
    "start_time": "2023-04-22T13:06:55.923Z"
   },
   {
    "duration": 10,
    "start_time": "2023-04-22T13:06:55.947Z"
   },
   {
    "duration": 223,
    "start_time": "2023-04-22T13:06:55.960Z"
   },
   {
    "duration": 170,
    "start_time": "2023-04-22T13:06:56.186Z"
   },
   {
    "duration": 194,
    "start_time": "2023-04-22T13:06:56.358Z"
   },
   {
    "duration": 10,
    "start_time": "2023-04-22T13:06:56.555Z"
   },
   {
    "duration": 28,
    "start_time": "2023-04-22T13:06:56.570Z"
   },
   {
    "duration": 39,
    "start_time": "2023-04-22T13:06:56.601Z"
   },
   {
    "duration": 8,
    "start_time": "2023-04-22T13:06:56.642Z"
   },
   {
    "duration": 4,
    "start_time": "2023-04-22T13:10:22.380Z"
   },
   {
    "duration": 1537,
    "start_time": "2023-04-22T13:10:22.389Z"
   },
   {
    "duration": 59,
    "start_time": "2023-04-22T13:10:23.928Z"
   },
   {
    "duration": 6,
    "start_time": "2023-04-22T13:10:23.990Z"
   },
   {
    "duration": 49,
    "start_time": "2023-04-22T13:10:23.999Z"
   },
   {
    "duration": 21,
    "start_time": "2023-04-22T13:10:24.049Z"
   },
   {
    "duration": 12,
    "start_time": "2023-04-22T13:10:24.073Z"
   },
   {
    "duration": 55,
    "start_time": "2023-04-22T13:10:24.087Z"
   },
   {
    "duration": 99,
    "start_time": "2023-04-22T13:10:24.145Z"
   },
   {
    "duration": 11,
    "start_time": "2023-04-22T13:10:24.247Z"
   },
   {
    "duration": 1126,
    "start_time": "2023-04-22T13:10:24.260Z"
   },
   {
    "duration": 22,
    "start_time": "2023-04-22T13:10:25.395Z"
   },
   {
    "duration": 27,
    "start_time": "2023-04-22T13:10:25.419Z"
   },
   {
    "duration": 23,
    "start_time": "2023-04-22T13:10:25.448Z"
   },
   {
    "duration": 1088,
    "start_time": "2023-04-22T13:10:25.473Z"
   },
   {
    "duration": 9,
    "start_time": "2023-04-22T13:10:26.563Z"
   },
   {
    "duration": 37,
    "start_time": "2023-04-22T13:10:26.590Z"
   },
   {
    "duration": 16,
    "start_time": "2023-04-22T13:10:26.629Z"
   },
   {
    "duration": 13,
    "start_time": "2023-04-22T13:10:26.647Z"
   },
   {
    "duration": 20,
    "start_time": "2023-04-22T13:10:26.663Z"
   },
   {
    "duration": 47,
    "start_time": "2023-04-22T13:10:26.686Z"
   },
   {
    "duration": 133,
    "start_time": "2023-04-22T13:10:26.735Z"
   },
   {
    "duration": 6,
    "start_time": "2023-04-22T13:10:26.869Z"
   },
   {
    "duration": 54,
    "start_time": "2023-04-22T13:10:26.877Z"
   },
   {
    "duration": 10,
    "start_time": "2023-04-22T13:10:26.932Z"
   },
   {
    "duration": 28,
    "start_time": "2023-04-22T13:10:26.944Z"
   },
   {
    "duration": 63,
    "start_time": "2023-04-22T13:10:26.974Z"
   },
   {
    "duration": 6,
    "start_time": "2023-04-22T13:10:27.042Z"
   },
   {
    "duration": 16,
    "start_time": "2023-04-22T13:10:27.050Z"
   },
   {
    "duration": 17,
    "start_time": "2023-04-22T13:10:27.068Z"
   },
   {
    "duration": 59,
    "start_time": "2023-04-22T13:10:27.095Z"
   },
   {
    "duration": 16,
    "start_time": "2023-04-22T13:10:27.157Z"
   },
   {
    "duration": 25,
    "start_time": "2023-04-22T13:10:27.176Z"
   },
   {
    "duration": 142,
    "start_time": "2023-04-22T13:10:27.203Z"
   },
   {
    "duration": 9,
    "start_time": "2023-04-22T13:10:27.347Z"
   },
   {
    "duration": 6,
    "start_time": "2023-04-22T13:10:27.358Z"
   },
   {
    "duration": 24,
    "start_time": "2023-04-22T13:10:27.366Z"
   },
   {
    "duration": 687,
    "start_time": "2023-04-22T13:10:27.392Z"
   },
   {
    "duration": 16,
    "start_time": "2023-04-22T13:10:28.081Z"
   },
   {
    "duration": 37,
    "start_time": "2023-04-22T13:10:28.099Z"
   },
   {
    "duration": 324,
    "start_time": "2023-04-22T13:10:28.138Z"
   },
   {
    "duration": 8,
    "start_time": "2023-04-22T13:10:28.463Z"
   },
   {
    "duration": 8,
    "start_time": "2023-04-22T13:10:28.473Z"
   },
   {
    "duration": 43,
    "start_time": "2023-04-22T13:10:28.483Z"
   },
   {
    "duration": 217,
    "start_time": "2023-04-22T13:10:28.528Z"
   },
   {
    "duration": 275,
    "start_time": "2023-04-22T13:10:28.747Z"
   },
   {
    "duration": 6,
    "start_time": "2023-04-22T13:10:29.024Z"
   },
   {
    "duration": 13,
    "start_time": "2023-04-22T13:10:29.032Z"
   },
   {
    "duration": 351,
    "start_time": "2023-04-22T13:10:29.047Z"
   },
   {
    "duration": 343,
    "start_time": "2023-04-22T13:10:29.401Z"
   },
   {
    "duration": 497,
    "start_time": "2023-04-22T13:10:29.746Z"
   },
   {
    "duration": 8,
    "start_time": "2023-04-22T13:10:30.245Z"
   },
   {
    "duration": 461,
    "start_time": "2023-04-22T13:10:30.255Z"
   },
   {
    "duration": 400,
    "start_time": "2023-04-22T13:10:30.722Z"
   },
   {
    "duration": 375,
    "start_time": "2023-04-22T13:10:31.129Z"
   },
   {
    "duration": 33,
    "start_time": "2023-04-22T13:10:31.506Z"
   },
   {
    "duration": 287,
    "start_time": "2023-04-22T13:10:31.541Z"
   },
   {
    "duration": 59,
    "start_time": "2023-04-22T13:10:31.831Z"
   },
   {
    "duration": 59,
    "start_time": "2023-04-22T13:10:31.892Z"
   },
   {
    "duration": 97,
    "start_time": "2023-04-22T13:10:31.953Z"
   },
   {
    "duration": 276,
    "start_time": "2023-04-22T13:10:32.053Z"
   },
   {
    "duration": 5,
    "start_time": "2023-04-22T13:10:32.331Z"
   },
   {
    "duration": 374,
    "start_time": "2023-04-22T13:10:32.338Z"
   },
   {
    "duration": 10,
    "start_time": "2023-04-22T13:10:32.725Z"
   },
   {
    "duration": 33,
    "start_time": "2023-04-22T13:10:32.738Z"
   },
   {
    "duration": 63,
    "start_time": "2023-04-22T13:10:32.773Z"
   },
   {
    "duration": 235,
    "start_time": "2023-04-22T13:10:32.838Z"
   },
   {
    "duration": 347,
    "start_time": "2023-04-22T13:10:33.075Z"
   },
   {
    "duration": 206,
    "start_time": "2023-04-22T13:10:33.424Z"
   },
   {
    "duration": 5,
    "start_time": "2023-04-22T13:10:33.632Z"
   },
   {
    "duration": 207,
    "start_time": "2023-04-22T13:10:33.639Z"
   },
   {
    "duration": 189,
    "start_time": "2023-04-22T13:10:33.848Z"
   },
   {
    "duration": 206,
    "start_time": "2023-04-22T13:10:34.039Z"
   },
   {
    "duration": 5,
    "start_time": "2023-04-22T13:10:34.247Z"
   },
   {
    "duration": 20,
    "start_time": "2023-04-22T13:10:34.254Z"
   },
   {
    "duration": 20,
    "start_time": "2023-04-22T13:10:34.276Z"
   },
   {
    "duration": 31,
    "start_time": "2023-04-22T13:10:34.298Z"
   },
   {
    "duration": 206,
    "start_time": "2023-04-22T13:10:34.331Z"
   },
   {
    "duration": 178,
    "start_time": "2023-04-22T13:10:34.540Z"
   },
   {
    "duration": 168,
    "start_time": "2023-04-22T13:10:34.720Z"
   },
   {
    "duration": 16,
    "start_time": "2023-04-22T13:10:34.890Z"
   },
   {
    "duration": 19,
    "start_time": "2023-04-22T13:10:34.915Z"
   },
   {
    "duration": 14,
    "start_time": "2023-04-22T13:10:34.936Z"
   },
   {
    "duration": 8,
    "start_time": "2023-04-22T13:10:34.952Z"
   }
  ],
  "colab": {
   "collapsed_sections": [
    "wAHw5rfpVwU8",
    "uWA9p6k_iMpC"
   ],
   "provenance": [],
   "toc_visible": true
  },
  "kernelspec": {
   "display_name": "Python 3 (ipykernel)",
   "language": "python",
   "name": "python3"
  },
  "language_info": {
   "codemirror_mode": {
    "name": "ipython",
    "version": 3
   },
   "file_extension": ".py",
   "mimetype": "text/x-python",
   "name": "python",
   "nbconvert_exporter": "python",
   "pygments_lexer": "ipython3",
   "version": "3.11.5"
  },
  "toc": {
   "base_numbering": 1,
   "nav_menu": {},
   "number_sections": true,
   "sideBar": true,
   "skip_h1_title": true,
   "title_cell": "Table of Contents",
   "title_sidebar": "Contents",
   "toc_cell": false,
   "toc_position": {
    "height": "calc(100% - 180px)",
    "left": "10px",
    "top": "150px",
    "width": "318.84px"
   },
   "toc_section_display": true,
   "toc_window_display": true
  }
 },
 "nbformat": 4,
 "nbformat_minor": 4
}
